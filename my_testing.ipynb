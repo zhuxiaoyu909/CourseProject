{
 "cells": [
  {
   "cell_type": "code",
   "execution_count": 95,
   "id": "1b09a431-5038-4847-9b73-46e8a41d8ee2",
   "metadata": {},
   "outputs": [],
   "source": [
    "import requests\n",
    "import json\n",
    "import csv\n",
    "from word_frequency import WordFrequencies\n",
    "from Load_dic import api_request"
   ]
  },
  {
   "cell_type": "code",
   "execution_count": 103,
   "id": "93065ce8-de5d-4fba-bb8e-0868b09fe476",
   "metadata": {},
   "outputs": [],
   "source": [
    "def api_request_test(word):\n",
    "    \"\"\"\n",
    "    api_request pull the word definition from API.\n",
    "\n",
    "    :param word: the english word user wants to search\n",
    "    :return: list of tuple containing POS tags and definitions\n",
    "    \"\"\"\n",
    "    base_url = 'https://api.dictionaryapi.dev/api/v2/entries/en/'\n",
    "    response_api = requests.get(base_url + str(word).lower())\n",
    "    contents = json.loads(response_api.text)\n",
    "\n",
    "    meanings = []\n",
    "    if isinstance(contents, dict):\n",
    "        meanings.append((contents['title'], contents['message']))\n",
    "    else:\n",
    "        for content in contents[0]['meanings']:\n",
    "            if 'partOfSpeech' not in content.keys():\n",
    "                content['partOfSpeech'] = 'N/A'\n",
    "                \n",
    "            meanings.append((content['partOfSpeech'], content['definitions'][0]['definition']))\n",
    "\n",
    "    return meanings"
   ]
  },
  {
   "cell_type": "code",
   "execution_count": 144,
   "id": "acd2a6e9-ab4a-4ff4-9a6c-a97e30c89181",
   "metadata": {},
   "outputs": [
    {
     "name": "stdout",
     "output_type": "stream",
     "text": [
      "Current progress: 0\n",
      "Current progress: 50\n",
      "Current progress: 100\n",
      "Current progress: 150\n",
      "Current progress: 200\n"
     ]
    }
   ],
   "source": [
    "word_frequencies = WordFrequencies.read_excel(file_path=\"data/wordFrequency.xlsx\")\n",
    "# parse_json = {}\n",
    "for i, word in enumerate(list(word_frequencies.mappings.keys())[4806:]):\n",
    "\n",
    "    parse_json[word] = api_request_test(word)\n",
    "    \n",
    "    if i%50 == 0:\n",
    "        print('Current progress: {}'.format(i))"
   ]
  },
  {
   "cell_type": "code",
   "execution_count": 145,
   "id": "e78f1b9e-1710-48d8-8273-595a66e03606",
   "metadata": {},
   "outputs": [
    {
     "name": "stdout",
     "output_type": "stream",
     "text": [
      "5049 bits\n"
     ]
    }
   ],
   "source": [
    "print(len(list(parse_json.keys())), list(parse_json.keys())[-1])"
   ]
  },
  {
   "cell_type": "code",
   "execution_count": null,
   "id": "0deca503-f950-4d43-ac0d-886ee7265593",
   "metadata": {},
   "outputs": [],
   "source": []
  },
  {
   "cell_type": "code",
   "execution_count": 146,
   "id": "b6fefdbe-ab3a-48b4-9251-5bd4990778a9",
   "metadata": {},
   "outputs": [],
   "source": [
    "with open(\"data/word_def.json\", \"w\") as outfile:\n",
    "    json.dump(parse_json, outfile)"
   ]
  },
  {
   "cell_type": "code",
   "execution_count": 142,
   "id": "3cdfe083-7fd6-4f62-ba31-970b8f1690e3",
   "metadata": {},
   "outputs": [
    {
     "data": {
      "text/plain": [
       "'epa'"
      ]
     },
     "execution_count": 142,
     "metadata": {},
     "output_type": "execute_result"
    }
   ],
   "source": [
    "list(word_frequencies.mappings.keys())[4806]"
   ]
  },
  {
   "cell_type": "code",
   "execution_count": 149,
   "id": "19f3e63f-d63c-4ad0-a06e-4cab2c4bbd92",
   "metadata": {},
   "outputs": [],
   "source": [
    "with open('data/word_def.json', \"r\") as f:\n",
    "    data = json.load(f)"
   ]
  },
  {
   "cell_type": "code",
   "execution_count": 161,
   "id": "764292e9-d954-4fd2-900a-53059ab810ef",
   "metadata": {},
   "outputs": [
    {
     "data": {
      "text/plain": [
       "[['noun',\n",
       "  'a small piece of shaped metal with incisions cut to fit the wards of a particular lock, which is inserted into a lock and turned to open or close it.'],\n",
       " ['adjective', 'of crucial importance.'],\n",
       " ['verb',\n",
       "  'enter or operate on (data) by means of a computer keyboard or telephone keypad.']]"
      ]
     },
     "execution_count": 161,
     "metadata": {},
     "output_type": "execute_result"
    }
   ],
   "source": [
    "data['key']"
   ]
  },
  {
   "cell_type": "code",
   "execution_count": 158,
   "id": "f006d50b-5c9d-4cd5-bb0d-755fa7f035cf",
   "metadata": {},
   "outputs": [
    {
     "data": {
      "text/plain": [
       "[('noun', 'a toilet.')]"
      ]
     },
     "execution_count": 158,
     "metadata": {},
     "output_type": "execute_result"
    }
   ],
   "source": [
    "api_request_test('john')"
   ]
  },
  {
   "cell_type": "code",
   "execution_count": null,
   "id": "42101b75-7458-4243-b775-f78b4a62b8ce",
   "metadata": {},
   "outputs": [],
   "source": []
  }
 ],
 "metadata": {
  "kernelspec": {
   "display_name": "Python 3 (ipykernel)",
   "language": "python",
   "name": "python3"
  },
  "language_info": {
   "codemirror_mode": {
    "name": "ipython",
    "version": 3
   },
   "file_extension": ".py",
   "mimetype": "text/x-python",
   "name": "python",
   "nbconvert_exporter": "python",
   "pygments_lexer": "ipython3",
   "version": "3.7.11"
  }
 },
 "nbformat": 4,
 "nbformat_minor": 5
}
