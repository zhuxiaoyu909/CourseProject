{
 "cells": [
  {
   "cell_type": "markdown",
   "id": "1b5abd4b-7820-4037-81cd-494af263bcef",
   "metadata": {},
   "source": [
    "# Setup Environment"
   ]
  },
  {
   "cell_type": "code",
   "execution_count": 50,
   "id": "c0c1e5a9-9054-4110-b926-2de9059c2de7",
   "metadata": {},
   "outputs": [],
   "source": [
    "from working_dir import set_working_dir"
   ]
  },
  {
   "cell_type": "code",
   "execution_count": 51,
   "id": "1730cd4c-cdd1-48f6-aa4c-0e5039ae82fb",
   "metadata": {},
   "outputs": [
    {
     "name": "stdout",
     "output_type": "stream",
     "text": [
      "Current working directory: D:\\git\\CS410-Project\n"
     ]
    }
   ],
   "source": [
    "set_working_dir()"
   ]
  },
  {
   "cell_type": "code",
   "execution_count": 52,
   "id": "6cbcbad6-ce0c-480d-9e4a-54cf2dee6ac7",
   "metadata": {},
   "outputs": [
    {
     "name": "stdout",
     "output_type": "stream",
     "text": [
      "The autoreload extension is already loaded. To reload it, use:\n",
      "  %reload_ext autoreload\n"
     ]
    }
   ],
   "source": [
    "%load_ext autoreload\n",
    "%autoreload 2"
   ]
  },
  {
   "cell_type": "markdown",
   "id": "42bf7762-6f09-4ad7-b447-dc760c26b58a",
   "metadata": {},
   "source": [
    "# Import Libraries"
   ]
  },
  {
   "cell_type": "code",
   "execution_count": 53,
   "id": "64130b17-135f-4a5e-8d1f-8a0238d3ba89",
   "metadata": {},
   "outputs": [],
   "source": [
    "import pandas as pd\n",
    "from word_frequency import WordFrequencies\n",
    "from sentence_ranker import SentenceRanker, Inclusion\n",
    "from word_difficulty_ranker import WordDifficultyRanker"
   ]
  },
  {
   "cell_type": "code",
   "execution_count": 54,
   "id": "89ff6220-db65-40cc-881f-3ee77cefa22d",
   "metadata": {},
   "outputs": [],
   "source": [
    "%matplotlib inline"
   ]
  },
  {
   "cell_type": "code",
   "execution_count": 55,
   "id": "d5277d45-45e9-4951-a2d5-ea79674ff6b1",
   "metadata": {},
   "outputs": [],
   "source": [
    "pd.set_option('max_colwidth', 400)"
   ]
  },
  {
   "cell_type": "markdown",
   "id": "5cba9379-0130-4c8d-9f4b-1edf67993b5a",
   "metadata": {},
   "source": [
    "# Word Difficulty\n",
    "We experiment and test out word difficulty with some example sentences."
   ]
  },
  {
   "cell_type": "code",
   "execution_count": 56,
   "id": "d4694791-38dd-41c6-880a-072ccb948c80",
   "metadata": {},
   "outputs": [],
   "source": [
    "word_frequencies = WordFrequencies.read_excel(file_path=\"data/wordFrequency.xlsx\")"
   ]
  },
  {
   "cell_type": "code",
   "execution_count": 57,
   "id": "382035c0-9360-46bf-bd0f-3f6de20b9146",
   "metadata": {},
   "outputs": [],
   "source": [
    "word_difficulty_ranker = WordDifficultyRanker(word_frequencies=word_frequencies)\n",
    "ranker = SentenceRanker(word_difficulty_ranker)"
   ]
  },
  {
   "cell_type": "code",
   "execution_count": 58,
   "id": "4bba0b56-f5a2-46b0-9c1d-cd96667727b6",
   "metadata": {},
   "outputs": [],
   "source": [
    "examples = [\n",
    "    \"What do you really think about it?\",\n",
    "    \"I don’t care about your past.\",\n",
    "    \"What do you think about that issue?\",\n",
    "    \"He genuinely cares about me.\",\n",
    "    \"Do you have any information about the project?\",\n",
    "    \"Our house is worth about 150,000 dollars.\",\n",
    "    \"Don’t worry too much about unimportant things.\",\n",
    "    \"John's mother abandoned him in cold heart after he was born\",\n",
    "]"
   ]
  },
  {
   "cell_type": "code",
   "execution_count": 59,
   "id": "b618a1c8-e8ff-4ba5-a01d-5b4ff9cd21c4",
   "metadata": {},
   "outputs": [],
   "source": [
    "ranked_sentences = ranker.rank(examples)"
   ]
  },
  {
   "cell_type": "code",
   "execution_count": 60,
   "id": "f7ab59a7-15bc-4584-9f6e-7c9cb53a5669",
   "metadata": {},
   "outputs": [],
   "source": [
    "ranked_sentences.sort_by_difficulty()"
   ]
  },
  {
   "cell_type": "code",
   "execution_count": 61,
   "id": "644fd5f8-06f2-4c68-a4fb-21c8e0af9c45",
   "metadata": {},
   "outputs": [],
   "source": [
    "df = ranked_sentences.to_pandas(inclusion = Inclusion.All)"
   ]
  },
  {
   "cell_type": "code",
   "execution_count": 62,
   "id": "3dddaa2d-b3b7-4e7d-a694-70b00bc394f6",
   "metadata": {},
   "outputs": [
    {
     "data": {
      "text/html": [
       "<div>\n",
       "<style scoped>\n",
       "    .dataframe tbody tr th:only-of-type {\n",
       "        vertical-align: middle;\n",
       "    }\n",
       "\n",
       "    .dataframe tbody tr th {\n",
       "        vertical-align: top;\n",
       "    }\n",
       "\n",
       "    .dataframe thead th {\n",
       "        text-align: right;\n",
       "    }\n",
       "</style>\n",
       "<table border=\"1\" class=\"dataframe\">\n",
       "  <thead>\n",
       "    <tr style=\"text-align: right;\">\n",
       "      <th></th>\n",
       "      <th>Sentence</th>\n",
       "      <th>Word Count</th>\n",
       "      <th>Word Difficulty</th>\n",
       "      <th>Word Raw Difficulty</th>\n",
       "      <th>Word Difficulty Details</th>\n",
       "    </tr>\n",
       "  </thead>\n",
       "  <tbody>\n",
       "    <tr>\n",
       "      <th>0</th>\n",
       "      <td>What do you really think about it?</td>\n",
       "      <td>7</td>\n",
       "      <td>0.03</td>\n",
       "      <td>44.29</td>\n",
       "      <td>what(29), do(28), you(9), really(118), think(75), about(41), it(10)</td>\n",
       "    </tr>\n",
       "    <tr>\n",
       "      <th>1</th>\n",
       "      <td>What do you think about that issue?</td>\n",
       "      <td>7</td>\n",
       "      <td>0.06</td>\n",
       "      <td>92.29</td>\n",
       "      <td>what(29), do(28), you(9), think(75), about(41), that(8), issue(456)</td>\n",
       "    </tr>\n",
       "    <tr>\n",
       "      <th>2</th>\n",
       "      <td>I don’t care about your past.</td>\n",
       "      <td>7</td>\n",
       "      <td>0.07</td>\n",
       "      <td>102.00</td>\n",
       "      <td>i(7), do(28), not(24), care(254), about(41), your(46), past(314)</td>\n",
       "    </tr>\n",
       "    <tr>\n",
       "      <th>3</th>\n",
       "      <td>Do you have any information about the project?</td>\n",
       "      <td>8</td>\n",
       "      <td>0.10</td>\n",
       "      <td>150.25</td>\n",
       "      <td>do(28), you(9), have(22), any(108), information(289), about(41), the(1), project(704)</td>\n",
       "    </tr>\n",
       "    <tr>\n",
       "      <th>4</th>\n",
       "      <td>Our house is worth about 150,000 dollars.</td>\n",
       "      <td>6</td>\n",
       "      <td>0.25</td>\n",
       "      <td>377.17</td>\n",
       "      <td>our(77), house(176), is(11), worth(847), about(41), dollars(1111)</td>\n",
       "    </tr>\n",
       "    <tr>\n",
       "      <th>5</th>\n",
       "      <td>John's mother abandoned him in cold heart after he was born</td>\n",
       "      <td>12</td>\n",
       "      <td>0.40</td>\n",
       "      <td>596.25</td>\n",
       "      <td>john(356), s(410), mother(284), abandoned(3516), him(67), in(6), cold(866), heart(479), after(102), he(15), was(14), born(1040)</td>\n",
       "    </tr>\n",
       "    <tr>\n",
       "      <th>6</th>\n",
       "      <td>Don’t worry too much about unimportant things.</td>\n",
       "      <td>8</td>\n",
       "      <td>0.63</td>\n",
       "      <td>947.00</td>\n",
       "      <td>do(28), not(24), worry(1095), too(129), much(111), about(41), unimportant(6000), things(148)</td>\n",
       "    </tr>\n",
       "    <tr>\n",
       "      <th>7</th>\n",
       "      <td>He genuinely cares about me.</td>\n",
       "      <td>5</td>\n",
       "      <td>1.38</td>\n",
       "      <td>2076.60</td>\n",
       "      <td>he(15), genuinely(6000), cares(4285), about(41), me(42)</td>\n",
       "    </tr>\n",
       "  </tbody>\n",
       "</table>\n",
       "</div>"
      ],
      "text/plain": [
       "                                                      Sentence  Word Count  \\\n",
       "0                           What do you really think about it?           7   \n",
       "1                          What do you think about that issue?           7   \n",
       "2                                I don’t care about your past.           7   \n",
       "3               Do you have any information about the project?           8   \n",
       "4                    Our house is worth about 150,000 dollars.           6   \n",
       "5  John's mother abandoned him in cold heart after he was born          12   \n",
       "6               Don’t worry too much about unimportant things.           8   \n",
       "7                                 He genuinely cares about me.           5   \n",
       "\n",
       "   Word Difficulty  Word Raw Difficulty  \\\n",
       "0             0.03                44.29   \n",
       "1             0.06                92.29   \n",
       "2             0.07               102.00   \n",
       "3             0.10               150.25   \n",
       "4             0.25               377.17   \n",
       "5             0.40               596.25   \n",
       "6             0.63               947.00   \n",
       "7             1.38              2076.60   \n",
       "\n",
       "                                                                                                           Word Difficulty Details  \n",
       "0                                                              what(29), do(28), you(9), really(118), think(75), about(41), it(10)  \n",
       "1                                                              what(29), do(28), you(9), think(75), about(41), that(8), issue(456)  \n",
       "2                                                                 i(7), do(28), not(24), care(254), about(41), your(46), past(314)  \n",
       "3                                            do(28), you(9), have(22), any(108), information(289), about(41), the(1), project(704)  \n",
       "4                                                                our(77), house(176), is(11), worth(847), about(41), dollars(1111)  \n",
       "5  john(356), s(410), mother(284), abandoned(3516), him(67), in(6), cold(866), heart(479), after(102), he(15), was(14), born(1040)  \n",
       "6                                     do(28), not(24), worry(1095), too(129), much(111), about(41), unimportant(6000), things(148)  \n",
       "7                                                                          he(15), genuinely(6000), cares(4285), about(41), me(42)  "
      ]
     },
     "execution_count": 62,
     "metadata": {},
     "output_type": "execute_result"
    }
   ],
   "source": [
    "df"
   ]
  }
 ],
 "metadata": {
  "kernelspec": {
   "display_name": "Python 3",
   "language": "python",
   "name": "python3"
  },
  "language_info": {
   "codemirror_mode": {
    "name": "ipython",
    "version": 3
   },
   "file_extension": ".py",
   "mimetype": "text/x-python",
   "name": "python",
   "nbconvert_exporter": "python",
   "pygments_lexer": "ipython3",
   "version": "3.6.13"
  }
 },
 "nbformat": 4,
 "nbformat_minor": 5
}
