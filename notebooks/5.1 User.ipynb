{
 "cells": [
  {
   "cell_type": "markdown",
   "id": "8d31b158-bbf6-4b38-973f-df330af046f4",
   "metadata": {},
   "source": [
    "# Setup Environment"
   ]
  },
  {
   "cell_type": "code",
   "execution_count": 31,
   "id": "38e40a7b-1a52-4ba1-8bb0-7f3aac760a35",
   "metadata": {},
   "outputs": [],
   "source": [
    "from working_dir import set_working_dir"
   ]
  },
  {
   "cell_type": "code",
   "execution_count": 2,
   "id": "28366b84-f7e5-437b-8298-453003795ab1",
   "metadata": {},
   "outputs": [
    {
     "name": "stdout",
     "output_type": "stream",
     "text": [
      "Current working directory: D:\\Work\\UIUC CS\\Fall 2021\\CS 410 Text Info System\\project\\CS410-Project\n"
     ]
    }
   ],
   "source": [
    "set_working_dir()"
   ]
  },
  {
   "cell_type": "code",
   "execution_count": 3,
   "id": "1c582792-8a96-4270-b590-8d7ba2de61b5",
   "metadata": {},
   "outputs": [],
   "source": [
    "%load_ext autoreload\n",
    "%autoreload 2"
   ]
  },
  {
   "cell_type": "markdown",
   "id": "72ffb3c4-ef7d-42b4-ac48-6de0bd9ddb4f",
   "metadata": {},
   "source": [
    "# Import Libraries"
   ]
  },
  {
   "cell_type": "code",
   "execution_count": 32,
   "id": "a2b7efca-6049-41b2-a3e5-10a496ac45ad",
   "metadata": {},
   "outputs": [],
   "source": [
    "from word_app import create_app\n",
    "import pandas as pd\n",
    "from sentence_ranker import Inclusion\n",
    "from IPython.core.display import display, HTML"
   ]
  },
  {
   "cell_type": "code",
   "execution_count": 33,
   "id": "7c4f90c8-1a33-4b79-b45b-7ecd7c1685b2",
   "metadata": {},
   "outputs": [],
   "source": [
    "pd.set_option('max_colwidth', 400)"
   ]
  },
  {
   "cell_type": "markdown",
   "id": "7f477670-7b6f-41b5-84a8-3ae23896b89c",
   "metadata": {},
   "source": [
    "# Demo"
   ]
  },
  {
   "cell_type": "code",
   "execution_count": 34,
   "id": "0c3abb15-b784-432f-8411-c5865198ff78",
   "metadata": {},
   "outputs": [
    {
     "name": "stderr",
     "output_type": "stream",
     "text": [
      "[nltk_data] Downloading package averaged_perceptron_tagger to\n",
      "[nltk_data]     C:\\Users\\Tom zhu\\AppData\\Roaming\\nltk_data...\n",
      "[nltk_data]   Package averaged_perceptron_tagger is already up-to-\n",
      "[nltk_data]       date!\n"
     ]
    }
   ],
   "source": [
    "app = create_app()"
   ]
  },
  {
   "cell_type": "code",
   "execution_count": 35,
   "id": "1aabfc33-396e-4f8b-b10d-2ea989d66ccf",
   "metadata": {},
   "outputs": [],
   "source": [
    "def search_and_display_word(word: str, n_results=10):\n",
    "    word_result = app.search(word, n_results)\n",
    "    return display(HTML(word_result.to_html()))"
   ]
  },
  {
   "cell_type": "code",
   "execution_count": 36,
   "id": "46819c91-8e73-4f7d-bafd-b8f6d6aaf399",
   "metadata": {},
   "outputs": [
    {
     "data": {
      "text/html": [
       "\n",
       "        <!DOCTYPE html>\n",
       "        <html lang=\"en\">\n",
       "        <body>\n",
       "        <h2><span style=\"color: darkblue;\"><strong>corner</strong></span></h2>\n",
       "        \n",
       "            <p><strong>Definitions</strong></p>\n",
       "            <ol>\n",
       "                <li>[<strong><span style=\"color: darkgreen;\">noun</span></strong>] a place or angle where two sides or edges meet.</li><li>[<strong><span style=\"color: darkgreen;\">verb</span></strong>] force (a person or animal) into a place or situation from which it is hard to escape.</li>\n",
       "            </ol>\n",
       "            \n",
       "        \n",
       "            <p><strong>Examples</strong></p>\n",
       "            <ol>\n",
       "                <li>\"`` They were with us at the corner , '' said Will .\"</li><li>When I was a girl twenty-five was the first corner .</li><li>They came around the corner of the house just then .</li><li>`` You actually frightened me when you came around that corner .</li><li>Just raise one corner so that I may peep .</li><li>\"`` She is so still , I guess she is asleep , '' thought Jack , peeping round the corner .\"</li><li>He sat right across from me in the corner pew .</li><li>She is buried down there in the poplar corner .</li><li>\"Why , I 'm just around the corner on Wallace Street .\"</li><li>So saying he disappeared round a corner of the palace .</li><li>\"This made Ned laugh , and they all turned back to the corner .\"</li><li>\"`` You look as if you had a corner in time , Curt , '' said Will .\"</li><li>\"` Ah , you have a gun , ' said the farmer as the young man placed it in a corner .\"</li><li>Sitting by himself at a corner desk was Anthony Pye .</li><li>For thirty-nine days the head remained in its favourite corner .</li>\n",
       "            </ol>\n",
       "            \n",
       "        </body>\n",
       "        </html>\n",
       "        "
      ],
      "text/plain": [
       "<IPython.core.display.HTML object>"
      ]
     },
     "metadata": {},
     "output_type": "display_data"
    }
   ],
   "source": [
    "search_and_display_word(word=\"corner\", n_results=15)"
   ]
  },
  {
   "cell_type": "code",
   "execution_count": null,
   "id": "f9a07dc0-f1dd-4606-9cac-de4c994020a3",
   "metadata": {},
   "outputs": [],
   "source": []
  },
  {
   "cell_type": "code",
   "execution_count": 37,
   "id": "dd2bc2c3-9b03-4317-8f33-6bd4505625e6",
   "metadata": {},
   "outputs": [
    {
     "data": {
      "text/html": [
       "\n",
       "        <!DOCTYPE html>\n",
       "        <html lang=\"en\">\n",
       "        <body>\n",
       "        <h2><span style=\"color: darkblue;\"><strong>newspapers</strong></span></h2>\n",
       "        \n",
       "            <p><strong>Definitions</strong></p>\n",
       "            <ol>\n",
       "                <li>[<strong><span style=\"color: darkgreen;\">noun</span></strong>] a printed publication (usually issued daily or weekly) consisting of folded unstapled sheets and containing news, articles, advertisements, and correspondence.</li>\n",
       "            </ol>\n",
       "            \n",
       "        \n",
       "            <p><strong>Examples</strong></p>\n",
       "            <ol>\n",
       "                <li>I am of the opinion it comes of reading the newspapers so much .</li><li>The newspapers wrote about his performance in very flattering terms .</li><li>He was working in a remote district where newspapers seldom penetrated .</li><li>\"asked the major a moment afterward , as the courier came in with newspapers .\"</li><li>The Goblin laid the tongue on the tub in which were the old newspapers .</li><li>And he knew there was a big box of newspapers in a little shed in her backyard .</li><li>He knew those curious bastard English advertisements at the backs of native newspapers .</li><li>\"`` I told you the Bible was more to be depended on than the newspapers , '' said Cecily triumphantly .\"</li><li>\"`` Do n't you dare laugh , '' warned Anne in a whisper , as they marched along the newspapers .\"</li><li>\"In the south-west room , where there was no carpet to fade , we spread them on newspapers on the floor .\"</li><li>\"Newspapers spread over the beds and tied around the dahlias would save them , Tommy knew .\"</li>\n",
       "            </ol>\n",
       "            \n",
       "        </body>\n",
       "        </html>\n",
       "        "
      ],
      "text/plain": [
       "<IPython.core.display.HTML object>"
      ]
     },
     "metadata": {},
     "output_type": "display_data"
    }
   ],
   "source": [
    "search_and_display_word(word=\"newspapers\", n_results=11)"
   ]
  },
  {
   "cell_type": "code",
   "execution_count": null,
   "id": "88f3e040-7659-4acf-949b-fe237706e4b4",
   "metadata": {},
   "outputs": [],
   "source": []
  },
  {
   "cell_type": "code",
   "execution_count": 40,
   "id": "b29291be-c17a-44ac-bc4a-b4cc43107c1b",
   "metadata": {},
   "outputs": [
    {
     "data": {
      "text/html": [
       "\n",
       "        <!DOCTYPE html>\n",
       "        <html lang=\"en\">\n",
       "        <body>\n",
       "        <h2><span style=\"color: darkblue;\"><strong>washed</strong></span></h2>\n",
       "        \n",
       "            <p><strong>Definitions</strong></p>\n",
       "            <ol>\n",
       "                <li>[<strong><span style=\"color: darkgreen;\">verb</span></strong>] clean with water and, typically, soap or detergent.</li><li>[<strong><span style=\"color: darkgreen;\">noun</span></strong>] an act of washing something or an instance of being washed.</li>\n",
       "            </ol>\n",
       "            \n",
       "        \n",
       "            <p><strong>Examples</strong></p>\n",
       "            <ol>\n",
       "                <li>After he had washed his face he felt better .</li><li>I should certainly be more comfortable if my back was washed . '</li><li>\"It 's been washed so clean , you see , '' said Faith happily .\"</li><li>He wants to be washed of his sins . '</li><li>I do n't believe the paint has even been washed since the house was built .</li>\n",
       "            </ol>\n",
       "            \n",
       "        </body>\n",
       "        </html>\n",
       "        "
      ],
      "text/plain": [
       "<IPython.core.display.HTML object>"
      ]
     },
     "metadata": {},
     "output_type": "display_data"
    }
   ],
   "source": [
    "search_and_display_word(word=\"washed\", n_results=5)"
   ]
  },
  {
   "cell_type": "code",
   "execution_count": null,
   "id": "bf06ea64-ac98-49bd-931f-c14b385a77a6",
   "metadata": {},
   "outputs": [],
   "source": []
  }
 ],
 "metadata": {
  "kernelspec": {
   "display_name": "Python 3",
   "language": "python",
   "name": "python3"
  },
  "language_info": {
   "codemirror_mode": {
    "name": "ipython",
    "version": 3
   },
   "file_extension": ".py",
   "mimetype": "text/x-python",
   "name": "python",
   "nbconvert_exporter": "python",
   "pygments_lexer": "ipython3",
   "version": "3.6.13"
  }
 },
 "nbformat": 4,
 "nbformat_minor": 5
}
