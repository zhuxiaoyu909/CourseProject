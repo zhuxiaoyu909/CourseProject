{
 "cells": [
  {
   "cell_type": "markdown",
   "id": "8d31b158-bbf6-4b38-973f-df330af046f4",
   "metadata": {},
   "source": [
    "# Setup Environment"
   ]
  },
  {
   "cell_type": "code",
   "execution_count": 11,
   "id": "38e40a7b-1a52-4ba1-8bb0-7f3aac760a35",
   "metadata": {},
   "outputs": [],
   "source": [
    "from working_dir import set_working_dir"
   ]
  },
  {
   "cell_type": "code",
   "execution_count": 12,
   "id": "28366b84-f7e5-437b-8298-453003795ab1",
   "metadata": {},
   "outputs": [
    {
     "name": "stdout",
     "output_type": "stream",
     "text": [
      "Current working directory: D:\\Work\\UIUC CS\\Fall 2021\\CS 410 Text Info System\\project\\CS410-Project\n"
     ]
    }
   ],
   "source": [
    "set_working_dir()"
   ]
  },
  {
   "cell_type": "code",
   "execution_count": 13,
   "id": "1c582792-8a96-4270-b590-8d7ba2de61b5",
   "metadata": {},
   "outputs": [
    {
     "name": "stdout",
     "output_type": "stream",
     "text": [
      "The autoreload extension is already loaded. To reload it, use:\n",
      "  %reload_ext autoreload\n"
     ]
    }
   ],
   "source": [
    "%load_ext autoreload\n",
    "%autoreload 2"
   ]
  },
  {
   "cell_type": "markdown",
   "id": "72ffb3c4-ef7d-42b4-ac48-6de0bd9ddb4f",
   "metadata": {},
   "source": [
    "# Import Libraries"
   ]
  },
  {
   "cell_type": "code",
   "execution_count": 14,
   "id": "a2b7efca-6049-41b2-a3e5-10a496ac45ad",
   "metadata": {},
   "outputs": [],
   "source": [
    "from word_app import create_app\n",
    "import pandas as pd\n",
    "from sentence_ranker import Inclusion\n",
    "from IPython.core.display import display, HTML"
   ]
  },
  {
   "cell_type": "code",
   "execution_count": 15,
   "id": "7c4f90c8-1a33-4b79-b45b-7ecd7c1685b2",
   "metadata": {},
   "outputs": [],
   "source": [
    "pd.set_option('max_colwidth', 400)\n"
   ]
  },
  {
   "cell_type": "markdown",
   "id": "be1f06b4-dd4b-4e73-8285-a0e040eb077f",
   "metadata": {},
   "source": [
    "# Project Scope\n",
    "\n",
    "Given the fact that many high quality data sources are not freely available online, the project only focus on the most frequent 5,000 english words found in \"data/wordFrequency.xlsx\""
   ]
  },
  {
   "cell_type": "markdown",
   "id": "7f477670-7b6f-41b5-84a8-3ae23896b89c",
   "metadata": {},
   "source": [
    "# Demo"
   ]
  },
  {
   "cell_type": "code",
   "execution_count": 44,
   "id": "0c3abb15-b784-432f-8411-c5865198ff78",
   "metadata": {},
   "outputs": [
    {
     "name": "stderr",
     "output_type": "stream",
     "text": [
      "[nltk_data] Downloading package averaged_perceptron_tagger to\n",
      "[nltk_data]     C:\\Users\\Tom zhu\\AppData\\Roaming\\nltk_data...\n",
      "[nltk_data]   Package averaged_perceptron_tagger is already up-to-\n",
      "[nltk_data]       date!\n"
     ]
    }
   ],
   "source": [
    "app = create_app()"
   ]
  },
  {
   "cell_type": "code",
   "execution_count": 45,
   "id": "1aabfc33-396e-4f8b-b10d-2ea989d66ccf",
   "metadata": {},
   "outputs": [],
   "source": [
    "def search_and_display_word(word: str, n_results=10):\n",
    "    word_result = app.search(word, n_results)\n",
    "    return display(HTML(word_result.to_html()))\n",
    "\n",
    "def evaluate_word(word: str):\n",
    "    ranked_sentences = app.search_for_sentences(word)\n",
    "    ranked_sentences.sort_by_difficulty()\n",
    "    return ranked_sentences.to_pandas(inclusion = Inclusion.All)"
   ]
  },
  {
   "cell_type": "code",
   "execution_count": 46,
   "id": "46819c91-8e73-4f7d-bafd-b8f6d6aaf399",
   "metadata": {},
   "outputs": [
    {
     "data": {
      "text/html": [
       "\n",
       "        <!DOCTYPE html>\n",
       "        <html lang=\"en\">\n",
       "        <body>\n",
       "        <h2><span style=\"color: darkblue;\"><strong>corner</strong></span></h2>\n",
       "        \n",
       "            <p><strong>Definitions</strong></p>\n",
       "            <ol>\n",
       "                <li>[<strong><span style=\"color: darkgreen;\">noun</span></strong>] a place or angle where two sides or edges meet.</li><li>[<strong><span style=\"color: darkgreen;\">verb</span></strong>] force (a person or animal) into a place or situation from which it is hard to escape.</li>\n",
       "            </ol>\n",
       "            \n",
       "        \n",
       "            <p><strong>Examples</strong></p>\n",
       "            <ol>\n",
       "                <li>\"`` They were with us at the corner , '' said Will .\"</li><li>When I was a girl twenty-five was the first corner .</li><li>They came around the corner of the house just then .</li><li>`` You actually frightened me when you came around that corner .</li><li>Just raise one corner so that I may peep .</li><li>\"`` She is so still , I guess she is asleep , '' thought Jack , peeping round the corner .\"</li><li>He sat right across from me in the corner pew .</li><li>She is buried down there in the poplar corner .</li><li>\"Why , I 'm just around the corner on Wallace Street .\"</li><li>So saying he disappeared round a corner of the palace .</li>\n",
       "            </ol>\n",
       "            \n",
       "        </body>\n",
       "        </html>\n",
       "        "
      ],
      "text/plain": [
       "<IPython.core.display.HTML object>"
      ]
     },
     "metadata": {},
     "output_type": "display_data"
    }
   ],
   "source": [
    "search_and_display_word(word=\"corner\", n_results=10)"
   ]
  },
  {
   "cell_type": "code",
   "execution_count": 47,
   "id": "dd2bc2c3-9b03-4317-8f33-6bd4505625e6",
   "metadata": {},
   "outputs": [
    {
     "data": {
      "text/html": [
       "\n",
       "        <!DOCTYPE html>\n",
       "        <html lang=\"en\">\n",
       "        <body>\n",
       "        <h2><span style=\"color: darkblue;\"><strong>newspapers</strong></span></h2>\n",
       "        \n",
       "            <p><strong>Definitions</strong></p>\n",
       "            <ol>\n",
       "                <li>[<strong><span style=\"color: darkgreen;\">noun</span></strong>] a printed publication (usually issued daily or weekly) consisting of folded unstapled sheets and containing news, articles, advertisements, and correspondence.</li>\n",
       "            </ol>\n",
       "            \n",
       "        \n",
       "            <p><strong>Examples</strong></p>\n",
       "            <ol>\n",
       "                <li>I am of the opinion it comes of reading the newspapers so much .</li><li>The newspapers wrote about his performance in very flattering terms .</li><li>He was working in a remote district where newspapers seldom penetrated .</li><li>\"asked the major a moment afterward , as the courier came in with newspapers .\"</li><li>The Goblin laid the tongue on the tub in which were the old newspapers .</li><li>And he knew there was a big box of newspapers in a little shed in her backyard .</li><li>He knew those curious bastard English advertisements at the backs of native newspapers .</li><li>\"`` I told you the Bible was more to be depended on than the newspapers , '' said Cecily triumphantly .\"</li><li>\"`` Do n't you dare laugh , '' warned Anne in a whisper , as they marched along the newspapers .\"</li><li>\"In the south-west room , where there was no carpet to fade , we spread them on newspapers on the floor .\"</li><li>\"Newspapers spread over the beds and tied around the dahlias would save them , Tommy knew .\"</li>\n",
       "            </ol>\n",
       "            \n",
       "        </body>\n",
       "        </html>\n",
       "        "
      ],
      "text/plain": [
       "<IPython.core.display.HTML object>"
      ]
     },
     "metadata": {},
     "output_type": "display_data"
    }
   ],
   "source": [
    "search_and_display_word(word=\"newspapers\", n_results=11)"
   ]
  },
  {
   "cell_type": "code",
   "execution_count": 51,
   "id": "b29291be-c17a-44ac-bc4a-b4cc43107c1b",
   "metadata": {},
   "outputs": [
    {
     "data": {
      "text/html": [
       "\n",
       "        <!DOCTYPE html>\n",
       "        <html lang=\"en\">\n",
       "        <body>\n",
       "        <h2><span style=\"color: darkblue;\"><strong>STORY</strong></span></h2>\n",
       "        \n",
       "            <p><strong>Definitions</strong></p>\n",
       "            <ol>\n",
       "                <li>[<strong><span style=\"color: darkgreen;\">noun</span></strong>] an account of imaginary or real people and events told for entertainment.</li>\n",
       "            </ol>\n",
       "            \n",
       "        \n",
       "            <p><strong>Examples</strong></p>\n",
       "            <ol>\n",
       "                <li>\"` Your story is strange indeed , ' said he .\"</li><li>he asked ; and his son told him the story .</li><li>\"Go on , boys , sing me the story . '\"</li><li>`` Please come back and finish your story ! ''</li><li>That is the very reason why this story was written .</li>\n",
       "            </ol>\n",
       "            \n",
       "        </body>\n",
       "        </html>\n",
       "        "
      ],
      "text/plain": [
       "<IPython.core.display.HTML object>"
      ]
     },
     "metadata": {},
     "output_type": "display_data"
    }
   ],
   "source": [
    "search_and_display_word(word=\"STORY\", n_results=5)"
   ]
  },
  {
   "cell_type": "code",
   "execution_count": 49,
   "id": "30c02362-1219-422b-ac36-8925cc2252a0",
   "metadata": {},
   "outputs": [
    {
     "data": {
      "text/html": [
       "<div>\n",
       "<style scoped>\n",
       "    .dataframe tbody tr th:only-of-type {\n",
       "        vertical-align: middle;\n",
       "    }\n",
       "\n",
       "    .dataframe tbody tr th {\n",
       "        vertical-align: top;\n",
       "    }\n",
       "\n",
       "    .dataframe thead th {\n",
       "        text-align: right;\n",
       "    }\n",
       "</style>\n",
       "<table border=\"1\" class=\"dataframe\">\n",
       "  <thead>\n",
       "    <tr style=\"text-align: right;\">\n",
       "      <th></th>\n",
       "      <th>Sentence</th>\n",
       "      <th>Word Count</th>\n",
       "      <th>Overall Difficulty</th>\n",
       "      <th>Overall Difficulty Calculation</th>\n",
       "      <th>Word Difficulty</th>\n",
       "      <th>Word Raw Difficulty</th>\n",
       "      <th>Word Difficulty Details</th>\n",
       "      <th>POS Difficulty</th>\n",
       "      <th>POS Raw Difficulty</th>\n",
       "      <th>POS Difficulty Details</th>\n",
       "    </tr>\n",
       "  </thead>\n",
       "  <tbody>\n",
       "    <tr>\n",
       "      <th>0</th>\n",
       "      <td>\"` Your story is strange indeed , ' said he .\"</td>\n",
       "      <td>7</td>\n",
       "      <td>0.48</td>\n",
       "      <td>0.3*0.5 + 0.67*0.5</td>\n",
       "      <td>0.30</td>\n",
       "      <td>452.57</td>\n",
       "      <td>your(46), story(280), is(11), strange(1766), indeed(988), said(62), he(15)</td>\n",
       "      <td>0.67</td>\n",
       "      <td>10.0</td>\n",
       "      <td>your(PRP$:1), story(NN:1), is(VBZ:1), strange(JJ:2), indeed(RB:3), said(VBD:1), he(PRP:1)</td>\n",
       "    </tr>\n",
       "    <tr>\n",
       "      <th>1</th>\n",
       "      <td>he asked ; and his son told him the story .</td>\n",
       "      <td>9</td>\n",
       "      <td>0.48</td>\n",
       "      <td>0.1*0.5 + 0.87*0.5</td>\n",
       "      <td>0.10</td>\n",
       "      <td>155.00</td>\n",
       "      <td>he(15), asked(299), and(3), his(30), son(496), told(204), him(67), the(1), story(280)</td>\n",
       "      <td>0.87</td>\n",
       "      <td>13.0</td>\n",
       "      <td>he(PRP:1), asked(VBD:1), and(CC:5), his(PRP$:1), son(NN:1), told(VBD:1), him(PRP:1), the(DT:1), story(NN:1)</td>\n",
       "    </tr>\n",
       "    <tr>\n",
       "      <th>2</th>\n",
       "      <td>\"Go on , boys , sing me the story . '\"</td>\n",
       "      <td>7</td>\n",
       "      <td>0.56</td>\n",
       "      <td>0.39*0.5 + 0.73*0.5</td>\n",
       "      <td>0.39</td>\n",
       "      <td>578.71</td>\n",
       "      <td>go(86), on(13), boys(915), sing(2714), me(42), the(1), story(280)</td>\n",
       "      <td>0.73</td>\n",
       "      <td>11.0</td>\n",
       "      <td>go(VB:1), on(IN:5), boys(NNS:1), sing(VBG:1), me(PRP:1), the(DT:1), story(NN:1)</td>\n",
       "    </tr>\n",
       "    <tr>\n",
       "      <th>3</th>\n",
       "      <td>`` Please come back and finish your story ! ''</td>\n",
       "      <td>7</td>\n",
       "      <td>0.56</td>\n",
       "      <td>0.26*0.5 + 0.87*0.5</td>\n",
       "      <td>0.26</td>\n",
       "      <td>383.14</td>\n",
       "      <td>please(372), come(116), back(88), and(3), finish(1777), your(46), story(280)</td>\n",
       "      <td>0.87</td>\n",
       "      <td>13.0</td>\n",
       "      <td>please(VB:1), come(VB:1), back(RB:3), and(CC:5), finish(VB:1), your(PRP$:1), story(NN:1)</td>\n",
       "    </tr>\n",
       "    <tr>\n",
       "      <th>4</th>\n",
       "      <td>That is the very reason why this story was written .</td>\n",
       "      <td>10</td>\n",
       "      <td>0.60</td>\n",
       "      <td>0.12*0.5 + 1.07*0.5</td>\n",
       "      <td>0.12</td>\n",
       "      <td>186.50</td>\n",
       "      <td>that(8), is(11), the(1), very(105), reason(438), why(123), this(17), story(280), was(14), written(868)</td>\n",
       "      <td>1.07</td>\n",
       "      <td>16.0</td>\n",
       "      <td>that(DT:1), is(VBZ:1), the(DT:1), very(RB:3), reason(NN:1), why(WRB:5), this(DT:1), story(NN:1), was(VBD:1), written(VBN:1)</td>\n",
       "    </tr>\n",
       "    <tr>\n",
       "      <th>...</th>\n",
       "      <td>...</td>\n",
       "      <td>...</td>\n",
       "      <td>...</td>\n",
       "      <td>...</td>\n",
       "      <td>...</td>\n",
       "      <td>...</td>\n",
       "      <td>...</td>\n",
       "      <td>...</td>\n",
       "      <td>...</td>\n",
       "      <td>...</td>\n",
       "    </tr>\n",
       "    <tr>\n",
       "      <th>195</th>\n",
       "      <td>\"First came Peter Rabbit with the strangest kind of a story about being chased by a terrible creature without legs , head , or tail .\"</td>\n",
       "      <td>23</td>\n",
       "      <td>2.32</td>\n",
       "      <td>0.97*0.5 + 3.67*0.5</td>\n",
       "      <td>0.97</td>\n",
       "      <td>1458.22</td>\n",
       "      <td>first(96), came(218), peter(1334), rabbit(6000), with(16), the(1), strangest(6000), kind(213), of(4), a(5), story(280), about(41), being(133), chased(6000), by(32), a(5), terrible(1869), creature(4585), without(195), legs(1779), head(256), or(33), tail(4444)</td>\n",
       "      <td>3.67</td>\n",
       "      <td>55.0</td>\n",
       "      <td>first(RB:3), came(VBD:1), peter(JJ:2), rabbit(NN:1), with(IN:5), the(DT:1), strangest(JJS:4), kind(NN:1), of(IN:5), a(DT:1), story(NN:1), about(IN:5), being(VBG:1), chased(VBN:1), by(IN:5), a(DT:1), terrible(JJ:2), creature(NN:1), without(IN:5), legs(JJ:2), head(NN:1), or(CC:5), tail(NN:1)</td>\n",
       "    </tr>\n",
       "    <tr>\n",
       "      <th>196</th>\n",
       "      <td>\"But it is meet I should , in the true spirit of romantic story , give some account of the looks and equipments of my hero and his steed .\"</td>\n",
       "      <td>27</td>\n",
       "      <td>2.36</td>\n",
       "      <td>0.71*0.5 + 4.0*0.5</td>\n",
       "      <td>0.71</td>\n",
       "      <td>1071.33</td>\n",
       "      <td>but(25), it(10), is(11), meet(585), i(7), should(115), in(6), the(1), true(6000), spirit(1510), of(4), romantic(3763), story(280), give(191), some(70), account(1062), of(4), the(1), looks(502), and(3), equipments(6000), of(4), my(35), hero(2704), and(3), his(30), steed(6000)</td>\n",
       "      <td>4.00</td>\n",
       "      <td>60.0</td>\n",
       "      <td>but(CC:5), it(PRP:1), is(VBZ:1), meet(JJ:2), i(NNS:1), should(MD:3), in(IN:5), the(DT:1), true(JJ:2), spirit(NN:1), of(IN:5), romantic(JJ:2), story(NN:1), give(VB:1), some(DT:1), account(NN:1), of(IN:5), the(DT:1), looks(NNS:1), and(CC:5), equipments(NNS:1), of(IN:5), my(PRP$:1), hero(NN:1), and(CC:5), his(PRP$:1), steed(NN:1)</td>\n",
       "    </tr>\n",
       "    <tr>\n",
       "      <th>197</th>\n",
       "      <td>From them I learned the whole story of his spending more money than he ought and trying to atone for it by unnecessary work and sacrifice .</td>\n",
       "      <td>26</td>\n",
       "      <td>2.38</td>\n",
       "      <td>0.56*0.5 + 4.2*0.5</td>\n",
       "      <td>0.56</td>\n",
       "      <td>845.12</td>\n",
       "      <td>from(31), them(69), i(7), learned(894), the(1), whole(338), story(280), of(4), his(30), spending(1124), more(59), money(201), than(76), he(15), ought(2212), and(3), trying(265), to(2), atone(6000), for(12), it(10), by(32), unnecessary(6000), work(125), and(3), sacrifice(4180)</td>\n",
       "      <td>4.20</td>\n",
       "      <td>63.0</td>\n",
       "      <td>from(IN:5), them(PRP:1), i(VBP:1), learned(VBD:1), the(DT:1), whole(JJ:2), story(NN:1), of(IN:5), his(PRP$:1), spending(NN:1), more(JJR:3), money(NN:1), than(IN:5), he(PRP:1), ought(MD:3), and(CC:5), trying(VBG:1), to(TO:4), atone(VB:1), for(IN:5), it(PRP:1), by(IN:5), unnecessary(JJ:2), work(NN:1), and(CC:5), sacrifice(NN:1)</td>\n",
       "    </tr>\n",
       "    <tr>\n",
       "      <th>198</th>\n",
       "      <td>\"This story was immediately matched by a thrice marvellous adventure of Brom Bones , who made light of the Galloping Hessian as an arrant jockey .\"</td>\n",
       "      <td>24</td>\n",
       "      <td>2.44</td>\n",
       "      <td>1.61*0.5 + 3.27*0.5</td>\n",
       "      <td>1.61</td>\n",
       "      <td>2412.67</td>\n",
       "      <td>this(17), story(280), was(14), immediately(1191), matched(6000), by(32), a(5), thrice(6000), marvellous(6000), adventure(4333), of(4), brom(6000), bones(3345), who(48), made(142), light(433), of(4), the(1), galloping(6000), hessian(6000), as(18), an(37), arrant(6000), jockey(6000)</td>\n",
       "      <td>3.27</td>\n",
       "      <td>49.0</td>\n",
       "      <td>this(DT:1), story(NN:1), was(VBD:1), immediately(RB:3), matched(VBN:1), by(IN:5), a(DT:1), thrice(NN:1), marvellous(JJ:2), adventure(NN:1), of(IN:5), brom(JJ:2), bones(NNS:1), who(WP:5), made(VBD:1), light(NN:1), of(IN:5), the(DT:1), galloping(VBG:1), hessian(NN:1), as(IN:5), an(DT:1), arrant(JJ:2), jockey(NN:1)</td>\n",
       "    </tr>\n",
       "    <tr>\n",
       "      <th>199</th>\n",
       "      <td>\"Frivolous story-books and picture-papers strewed the bed , now shrouded in effeminate chintz curtains , beneath which Jack lay like a wounded warrior in his tent .\"</td>\n",
       "      <td>26</td>\n",
       "      <td>2.47</td>\n",
       "      <td>1.61*0.5 + 3.33*0.5</td>\n",
       "      <td>1.61</td>\n",
       "      <td>2419.96</td>\n",
       "      <td>frivolous(6000), story(280), books(685), and(3), picture(854), papers(2395), strewed(6000), the(1), bed(817), now(72), shrouded(6000), in(6), effeminate(6000), chintz(6000), curtains(6000), beneath(2540), which(73), jack(1007), lay(1693), like(54), a(5), wounded(4398), warrior(6000), in(6), his(30), tent(6000)</td>\n",
       "      <td>3.33</td>\n",
       "      <td>50.0</td>\n",
       "      <td>frivolous(JJ:2), story(NN:1), books(NNS:1), and(CC:5), picture(NN:1), papers(NNS:1), strewed(VBD:1), the(DT:1), bed(NN:1), now(RB:3), shrouded(VBN:1), in(IN:5), effeminate(NN:1), chintz(NN:1), curtains(NNS:1), beneath(VBD:1), which(WDT:5), jack(NN:1), lay(NN:1), like(IN:5), a(DT:1), wounded(JJ:2), warrior(NN:1), in(IN:5), his(PRP$:1), tent(NN:1)</td>\n",
       "    </tr>\n",
       "  </tbody>\n",
       "</table>\n",
       "<p>200 rows × 10 columns</p>\n",
       "</div>"
      ],
      "text/plain": [
       "                                                                                                                                                                  Sentence  \\\n",
       "0                                                                                                                           \"` Your story is strange indeed , ' said he .\"   \n",
       "1                                                                                                                              he asked ; and his son told him the story .   \n",
       "2                                                                                                                                   \"Go on , boys , sing me the story . '\"   \n",
       "3                                                                                                                           `` Please come back and finish your story ! ''   \n",
       "4                                                                                                                     That is the very reason why this story was written .   \n",
       "..                                                                                                                                                                     ...   \n",
       "195                                 \"First came Peter Rabbit with the strangest kind of a story about being chased by a terrible creature without legs , head , or tail .\"   \n",
       "196                            \"But it is meet I should , in the true spirit of romantic story , give some account of the looks and equipments of my hero and his steed .\"   \n",
       "197                            From them I learned the whole story of his spending more money than he ought and trying to atone for it by unnecessary work and sacrifice .   \n",
       "198                    \"This story was immediately matched by a thrice marvellous adventure of Brom Bones , who made light of the Galloping Hessian as an arrant jockey .\"   \n",
       "199  \"Frivolous story-books and picture-papers strewed the bed , now shrouded in effeminate chintz curtains , beneath which Jack lay like a wounded warrior in his tent .\"   \n",
       "\n",
       "     Word Count  Overall Difficulty Overall Difficulty Calculation  \\\n",
       "0             7                0.48             0.3*0.5 + 0.67*0.5   \n",
       "1             9                0.48             0.1*0.5 + 0.87*0.5   \n",
       "2             7                0.56            0.39*0.5 + 0.73*0.5   \n",
       "3             7                0.56            0.26*0.5 + 0.87*0.5   \n",
       "4            10                0.60            0.12*0.5 + 1.07*0.5   \n",
       "..          ...                 ...                            ...   \n",
       "195          23                2.32            0.97*0.5 + 3.67*0.5   \n",
       "196          27                2.36             0.71*0.5 + 4.0*0.5   \n",
       "197          26                2.38             0.56*0.5 + 4.2*0.5   \n",
       "198          24                2.44            1.61*0.5 + 3.27*0.5   \n",
       "199          26                2.47            1.61*0.5 + 3.33*0.5   \n",
       "\n",
       "     Word Difficulty  Word Raw Difficulty  \\\n",
       "0               0.30               452.57   \n",
       "1               0.10               155.00   \n",
       "2               0.39               578.71   \n",
       "3               0.26               383.14   \n",
       "4               0.12               186.50   \n",
       "..               ...                  ...   \n",
       "195             0.97              1458.22   \n",
       "196             0.71              1071.33   \n",
       "197             0.56               845.12   \n",
       "198             1.61              2412.67   \n",
       "199             1.61              2419.96   \n",
       "\n",
       "                                                                                                                                                                                                                                                                                                     Word Difficulty Details  \\\n",
       "0                                                                                                                                                                                                                                                 your(46), story(280), is(11), strange(1766), indeed(988), said(62), he(15)   \n",
       "1                                                                                                                                                                                                                                      he(15), asked(299), and(3), his(30), son(496), told(204), him(67), the(1), story(280)   \n",
       "2                                                                                                                                                                                                                                                          go(86), on(13), boys(915), sing(2714), me(42), the(1), story(280)   \n",
       "3                                                                                                                                                                                                                                               please(372), come(116), back(88), and(3), finish(1777), your(46), story(280)   \n",
       "4                                                                                                                                                                                                                     that(8), is(11), the(1), very(105), reason(438), why(123), this(17), story(280), was(14), written(868)   \n",
       "..                                                                                                                                                                                                                                                                                                                       ...   \n",
       "195                                                       first(96), came(218), peter(1334), rabbit(6000), with(16), the(1), strangest(6000), kind(213), of(4), a(5), story(280), about(41), being(133), chased(6000), by(32), a(5), terrible(1869), creature(4585), without(195), legs(1779), head(256), or(33), tail(4444)   \n",
       "196                                      but(25), it(10), is(11), meet(585), i(7), should(115), in(6), the(1), true(6000), spirit(1510), of(4), romantic(3763), story(280), give(191), some(70), account(1062), of(4), the(1), looks(502), and(3), equipments(6000), of(4), my(35), hero(2704), and(3), his(30), steed(6000)   \n",
       "197                                     from(31), them(69), i(7), learned(894), the(1), whole(338), story(280), of(4), his(30), spending(1124), more(59), money(201), than(76), he(15), ought(2212), and(3), trying(265), to(2), atone(6000), for(12), it(10), by(32), unnecessary(6000), work(125), and(3), sacrifice(4180)   \n",
       "198                                this(17), story(280), was(14), immediately(1191), matched(6000), by(32), a(5), thrice(6000), marvellous(6000), adventure(4333), of(4), brom(6000), bones(3345), who(48), made(142), light(433), of(4), the(1), galloping(6000), hessian(6000), as(18), an(37), arrant(6000), jockey(6000)   \n",
       "199  frivolous(6000), story(280), books(685), and(3), picture(854), papers(2395), strewed(6000), the(1), bed(817), now(72), shrouded(6000), in(6), effeminate(6000), chintz(6000), curtains(6000), beneath(2540), which(73), jack(1007), lay(1693), like(54), a(5), wounded(4398), warrior(6000), in(6), his(30), tent(6000)   \n",
       "\n",
       "     POS Difficulty  POS Raw Difficulty  \\\n",
       "0              0.67                10.0   \n",
       "1              0.87                13.0   \n",
       "2              0.73                11.0   \n",
       "3              0.87                13.0   \n",
       "4              1.07                16.0   \n",
       "..              ...                 ...   \n",
       "195            3.67                55.0   \n",
       "196            4.00                60.0   \n",
       "197            4.20                63.0   \n",
       "198            3.27                49.0   \n",
       "199            3.33                50.0   \n",
       "\n",
       "                                                                                                                                                                                                                                                                                                                                          POS Difficulty Details  \n",
       "0                                                                                                                                                                                                                                                                      your(PRP$:1), story(NN:1), is(VBZ:1), strange(JJ:2), indeed(RB:3), said(VBD:1), he(PRP:1)  \n",
       "1                                                                                                                                                                                                                                                    he(PRP:1), asked(VBD:1), and(CC:5), his(PRP$:1), son(NN:1), told(VBD:1), him(PRP:1), the(DT:1), story(NN:1)  \n",
       "2                                                                                                                                                                                                                                                                                go(VB:1), on(IN:5), boys(NNS:1), sing(VBG:1), me(PRP:1), the(DT:1), story(NN:1)  \n",
       "3                                                                                                                                                                                                                                                                       please(VB:1), come(VB:1), back(RB:3), and(CC:5), finish(VB:1), your(PRP$:1), story(NN:1)  \n",
       "4                                                                                                                                                                                                                                    that(DT:1), is(VBZ:1), the(DT:1), very(RB:3), reason(NN:1), why(WRB:5), this(DT:1), story(NN:1), was(VBD:1), written(VBN:1)  \n",
       "..                                                                                                                                                                                                                                                                                                                                                           ...  \n",
       "195                                                           first(RB:3), came(VBD:1), peter(JJ:2), rabbit(NN:1), with(IN:5), the(DT:1), strangest(JJS:4), kind(NN:1), of(IN:5), a(DT:1), story(NN:1), about(IN:5), being(VBG:1), chased(VBN:1), by(IN:5), a(DT:1), terrible(JJ:2), creature(NN:1), without(IN:5), legs(JJ:2), head(NN:1), or(CC:5), tail(NN:1)  \n",
       "196                     but(CC:5), it(PRP:1), is(VBZ:1), meet(JJ:2), i(NNS:1), should(MD:3), in(IN:5), the(DT:1), true(JJ:2), spirit(NN:1), of(IN:5), romantic(JJ:2), story(NN:1), give(VB:1), some(DT:1), account(NN:1), of(IN:5), the(DT:1), looks(NNS:1), and(CC:5), equipments(NNS:1), of(IN:5), my(PRP$:1), hero(NN:1), and(CC:5), his(PRP$:1), steed(NN:1)  \n",
       "197                      from(IN:5), them(PRP:1), i(VBP:1), learned(VBD:1), the(DT:1), whole(JJ:2), story(NN:1), of(IN:5), his(PRP$:1), spending(NN:1), more(JJR:3), money(NN:1), than(IN:5), he(PRP:1), ought(MD:3), and(CC:5), trying(VBG:1), to(TO:4), atone(VB:1), for(IN:5), it(PRP:1), by(IN:5), unnecessary(JJ:2), work(NN:1), and(CC:5), sacrifice(NN:1)  \n",
       "198                                    this(DT:1), story(NN:1), was(VBD:1), immediately(RB:3), matched(VBN:1), by(IN:5), a(DT:1), thrice(NN:1), marvellous(JJ:2), adventure(NN:1), of(IN:5), brom(JJ:2), bones(NNS:1), who(WP:5), made(VBD:1), light(NN:1), of(IN:5), the(DT:1), galloping(VBG:1), hessian(NN:1), as(IN:5), an(DT:1), arrant(JJ:2), jockey(NN:1)  \n",
       "199  frivolous(JJ:2), story(NN:1), books(NNS:1), and(CC:5), picture(NN:1), papers(NNS:1), strewed(VBD:1), the(DT:1), bed(NN:1), now(RB:3), shrouded(VBN:1), in(IN:5), effeminate(NN:1), chintz(NN:1), curtains(NNS:1), beneath(VBD:1), which(WDT:5), jack(NN:1), lay(NN:1), like(IN:5), a(DT:1), wounded(JJ:2), warrior(NN:1), in(IN:5), his(PRP$:1), tent(NN:1)  \n",
       "\n",
       "[200 rows x 10 columns]"
      ]
     },
     "execution_count": 49,
     "metadata": {},
     "output_type": "execute_result"
    }
   ],
   "source": [
    "\n",
    "evaluate_word(\"story\")"
   ]
  },
  {
   "cell_type": "code",
   "execution_count": null,
   "id": "c845527d-2b37-4cc3-ae30-edad49f0244f",
   "metadata": {},
   "outputs": [],
   "source": []
  }
 ],
 "metadata": {
  "kernelspec": {
   "display_name": "Python 3",
   "language": "python",
   "name": "python3"
  },
  "language_info": {
   "codemirror_mode": {
    "name": "ipython",
    "version": 3
   },
   "file_extension": ".py",
   "mimetype": "text/x-python",
   "name": "python",
   "nbconvert_exporter": "python",
   "pygments_lexer": "ipython3",
   "version": "3.6.13"
  }
 },
 "nbformat": 4,
 "nbformat_minor": 5
}
