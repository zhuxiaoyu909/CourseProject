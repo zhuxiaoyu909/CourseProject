{
 "cells": [
  {
   "cell_type": "markdown",
   "id": "1b5abd4b-7820-4037-81cd-494af263bcef",
   "metadata": {},
   "source": [
    "# Setup Environment"
   ]
  },
  {
   "cell_type": "code",
   "execution_count": 27,
   "id": "c0c1e5a9-9054-4110-b926-2de9059c2de7",
   "metadata": {},
   "outputs": [],
   "source": [
    "from working_dir import set_working_dir"
   ]
  },
  {
   "cell_type": "code",
   "execution_count": 28,
   "id": "1730cd4c-cdd1-48f6-aa4c-0e5039ae82fb",
   "metadata": {},
   "outputs": [
    {
     "name": "stdout",
     "output_type": "stream",
     "text": [
      "Current working directory: D:\\git\\CS410-Project\n"
     ]
    }
   ],
   "source": [
    "set_working_dir()"
   ]
  },
  {
   "cell_type": "code",
   "execution_count": 29,
   "id": "6cbcbad6-ce0c-480d-9e4a-54cf2dee6ac7",
   "metadata": {},
   "outputs": [
    {
     "name": "stdout",
     "output_type": "stream",
     "text": [
      "The autoreload extension is already loaded. To reload it, use:\n",
      "  %reload_ext autoreload\n"
     ]
    }
   ],
   "source": [
    "%load_ext autoreload\n",
    "%autoreload 2"
   ]
  },
  {
   "cell_type": "markdown",
   "id": "42bf7762-6f09-4ad7-b447-dc760c26b58a",
   "metadata": {},
   "source": [
    "# Import Libraries"
   ]
  },
  {
   "cell_type": "code",
   "execution_count": 30,
   "id": "64130b17-135f-4a5e-8d1f-8a0238d3ba89",
   "metadata": {},
   "outputs": [],
   "source": [
    "import pandas as pd\n",
    "from sentence_ranker import SentenceRanker, Inclusion\n",
    "from pos_difficulty_ranker import POSDifficultyRanker\n",
    "from word_frequency import WordFrequencies\n",
    "from difficulty_ranker import DifficultyRankers\n",
    "from word_difficulty_ranker import WordDifficultyRanker"
   ]
  },
  {
   "cell_type": "code",
   "execution_count": 31,
   "id": "89ff6220-db65-40cc-881f-3ee77cefa22d",
   "metadata": {},
   "outputs": [],
   "source": [
    "%matplotlib inline"
   ]
  },
  {
   "cell_type": "code",
   "execution_count": 32,
   "id": "d5277d45-45e9-4951-a2d5-ea79674ff6b1",
   "metadata": {},
   "outputs": [],
   "source": [
    "pd.set_option('max_colwidth', 400)"
   ]
  },
  {
   "cell_type": "markdown",
   "id": "b59d22b4-2ef3-404f-bc10-2370ea008c71",
   "metadata": {},
   "source": [
    "# Combined Difficulty\n",
    "We experiment and test out combined difficulty(combine word difficulty and POS difficulty with equal weight 0.5) with some example sentences."
   ]
  },
  {
   "cell_type": "code",
   "execution_count": 33,
   "id": "6a70432b-967a-402d-b995-0d50f1c368c9",
   "metadata": {},
   "outputs": [],
   "source": [
    "word_frequencies = WordFrequencies.read_excel(file_path=\"data/wordFrequency.xlsx\")"
   ]
  },
  {
   "cell_type": "code",
   "execution_count": 34,
   "id": "0f9acd18-6c46-4d3e-af33-4c5a2f3c0c43",
   "metadata": {},
   "outputs": [
    {
     "name": "stderr",
     "output_type": "stream",
     "text": [
      "[nltk_data] Downloading package averaged_perceptron_tagger to\n",
      "[nltk_data]     C:\\Users\\weich\\AppData\\Roaming\\nltk_data...\n",
      "[nltk_data]   Package averaged_perceptron_tagger is already up-to-\n",
      "[nltk_data]       date!\n"
     ]
    }
   ],
   "source": [
    "word_difficulty_ranker = WordDifficultyRanker(word_frequencies=word_frequencies)\n",
    "pos_difficulty_ranker = POSDifficultyRanker()\n",
    "difficulty_rankers = DifficultyRankers(\n",
    "        rankers=[word_difficulty_ranker, pos_difficulty_ranker],\n",
    "        weights=[0.5, 0.5])\n",
    "ranker = SentenceRanker(difficulty_rankers)"
   ]
  },
  {
   "cell_type": "code",
   "execution_count": 35,
   "id": "9b90e40c-579e-4b89-99a8-05322c0c663f",
   "metadata": {},
   "outputs": [],
   "source": [
    "examples = [\n",
    "    \"What do you really think about it?\",\n",
    "    \"I don’t care about your past.\",\n",
    "    \"What do you think about that issue?\",\n",
    "    \"He genuinely cares about me.\",\n",
    "    \"Do you have any information about the project?\",\n",
    "    \"Our house is worth about 150,000 dollars.\",\n",
    "    \"Don’t worry too much about unimportant things.\",\n",
    "    \"John's mother abandoned him in cold heart after he was born\",\n",
    "]"
   ]
  },
  {
   "cell_type": "code",
   "execution_count": 36,
   "id": "cf0314ee-6734-4da2-9ff0-7eff415214ac",
   "metadata": {},
   "outputs": [],
   "source": [
    "ranked_sentences = ranker.rank(examples)"
   ]
  },
  {
   "cell_type": "code",
   "execution_count": 37,
   "id": "d5d534b7-371d-4ead-80c5-95b887e54800",
   "metadata": {},
   "outputs": [],
   "source": [
    "ranked_sentences.sort_by_difficulty()"
   ]
  },
  {
   "cell_type": "code",
   "execution_count": 38,
   "id": "16be46f4-49c9-4a95-98d7-38c25f5f0818",
   "metadata": {},
   "outputs": [],
   "source": [
    "df = ranked_sentences.to_pandas(inclusion = Inclusion.All)"
   ]
  },
  {
   "cell_type": "code",
   "execution_count": 39,
   "id": "3f4d1bce-88c0-47b2-9767-947abb386156",
   "metadata": {},
   "outputs": [
    {
     "data": {
      "text/html": [
       "<div>\n",
       "<style scoped>\n",
       "    .dataframe tbody tr th:only-of-type {\n",
       "        vertical-align: middle;\n",
       "    }\n",
       "\n",
       "    .dataframe tbody tr th {\n",
       "        vertical-align: top;\n",
       "    }\n",
       "\n",
       "    .dataframe thead th {\n",
       "        text-align: right;\n",
       "    }\n",
       "</style>\n",
       "<table border=\"1\" class=\"dataframe\">\n",
       "  <thead>\n",
       "    <tr style=\"text-align: right;\">\n",
       "      <th></th>\n",
       "      <th>Sentence</th>\n",
       "      <th>Word Count</th>\n",
       "      <th>Overall Difficulty</th>\n",
       "      <th>Overall Difficulty Calculation</th>\n",
       "      <th>Word Difficulty</th>\n",
       "      <th>Word Raw Difficulty</th>\n",
       "      <th>Word Difficulty Details</th>\n",
       "      <th>POS Difficulty</th>\n",
       "      <th>POS Raw Difficulty</th>\n",
       "      <th>POS Difficulty Details</th>\n",
       "    </tr>\n",
       "  </thead>\n",
       "  <tbody>\n",
       "    <tr>\n",
       "      <th>0</th>\n",
       "      <td>Do you have any information about the project?</td>\n",
       "      <td>8</td>\n",
       "      <td>0.45</td>\n",
       "      <td>0.1*0.5 + 0.8*0.5</td>\n",
       "      <td>0.10</td>\n",
       "      <td>150.25</td>\n",
       "      <td>do(28), you(9), have(22), any(108), information(289), about(41), the(1), project(704)</td>\n",
       "      <td>0.80</td>\n",
       "      <td>12.0</td>\n",
       "      <td>do(VBP:1), you(PRP:1), have(VB:1), any(DT:1), information(NN:1), about(IN:5), the(DT:1), project(NN:1)</td>\n",
       "    </tr>\n",
       "    <tr>\n",
       "      <th>1</th>\n",
       "      <td>I don’t care about your past.</td>\n",
       "      <td>7</td>\n",
       "      <td>0.47</td>\n",
       "      <td>0.07*0.5 + 0.87*0.5</td>\n",
       "      <td>0.07</td>\n",
       "      <td>102.00</td>\n",
       "      <td>i(7), do(28), not(24), care(254), about(41), your(46), past(314)</td>\n",
       "      <td>0.87</td>\n",
       "      <td>13.0</td>\n",
       "      <td>i(NNS:1), do(VBP:1), not(RB:3), care(VB:1), about(IN:5), your(PRP$:1), past(NN:1)</td>\n",
       "    </tr>\n",
       "    <tr>\n",
       "      <th>2</th>\n",
       "      <td>Our house is worth about 150,000 dollars.</td>\n",
       "      <td>6</td>\n",
       "      <td>0.49</td>\n",
       "      <td>0.25*0.5 + 0.73*0.5</td>\n",
       "      <td>0.25</td>\n",
       "      <td>377.17</td>\n",
       "      <td>our(77), house(176), is(11), worth(847), about(41), dollars(1111)</td>\n",
       "      <td>0.73</td>\n",
       "      <td>11.0</td>\n",
       "      <td>our(PRP$:1), house(NN:1), is(VBZ:1), worth(JJ:2), about(IN:5), dollars(NNS:1)</td>\n",
       "    </tr>\n",
       "    <tr>\n",
       "      <th>3</th>\n",
       "      <td>What do you think about that issue?</td>\n",
       "      <td>7</td>\n",
       "      <td>0.53</td>\n",
       "      <td>0.06*0.5 + 1.0*0.5</td>\n",
       "      <td>0.06</td>\n",
       "      <td>92.29</td>\n",
       "      <td>what(29), do(28), you(9), think(75), about(41), that(8), issue(456)</td>\n",
       "      <td>1.00</td>\n",
       "      <td>15.0</td>\n",
       "      <td>what(WP:5), do(VBP:1), you(PRP:1), think(VB:1), about(IN:5), that(DT:1), issue(NN:1)</td>\n",
       "    </tr>\n",
       "    <tr>\n",
       "      <th>4</th>\n",
       "      <td>What do you really think about it?</td>\n",
       "      <td>7</td>\n",
       "      <td>0.58</td>\n",
       "      <td>0.03*0.5 + 1.13*0.5</td>\n",
       "      <td>0.03</td>\n",
       "      <td>44.29</td>\n",
       "      <td>what(29), do(28), you(9), really(118), think(75), about(41), it(10)</td>\n",
       "      <td>1.13</td>\n",
       "      <td>17.0</td>\n",
       "      <td>what(WP:5), do(VBP:1), you(PRP:1), really(RB:3), think(VBP:1), about(IN:5), it(PRP:1)</td>\n",
       "    </tr>\n",
       "    <tr>\n",
       "      <th>5</th>\n",
       "      <td>John's mother abandoned him in cold heart after he was born</td>\n",
       "      <td>12</td>\n",
       "      <td>0.90</td>\n",
       "      <td>0.4*0.5 + 1.4*0.5</td>\n",
       "      <td>0.40</td>\n",
       "      <td>596.25</td>\n",
       "      <td>john(356), s(410), mother(284), abandoned(3516), him(67), in(6), cold(866), heart(479), after(102), he(15), was(14), born(1040)</td>\n",
       "      <td>1.40</td>\n",
       "      <td>21.0</td>\n",
       "      <td>john(NN:1), s(NN:1), mother(NN:1), abandoned(VBD:1), him(PRP:1), in(IN:5), cold(JJ:2), heart(NN:1), after(IN:5), he(PRP:1), was(VBD:1), born(VBN:1)</td>\n",
       "    </tr>\n",
       "    <tr>\n",
       "      <th>6</th>\n",
       "      <td>Don’t worry too much about unimportant things.</td>\n",
       "      <td>8</td>\n",
       "      <td>0.92</td>\n",
       "      <td>0.63*0.5 + 1.2*0.5</td>\n",
       "      <td>0.63</td>\n",
       "      <td>947.00</td>\n",
       "      <td>do(28), not(24), worry(1095), too(129), much(111), about(41), unimportant(6000), things(148)</td>\n",
       "      <td>1.20</td>\n",
       "      <td>18.0</td>\n",
       "      <td>do(VB:1), not(RB:3), worry(VB:1), too(RB:3), much(JJ:2), about(IN:5), unimportant(JJ:2), things(NNS:1)</td>\n",
       "    </tr>\n",
       "    <tr>\n",
       "      <th>7</th>\n",
       "      <td>He genuinely cares about me.</td>\n",
       "      <td>5</td>\n",
       "      <td>1.06</td>\n",
       "      <td>1.38*0.5 + 0.73*0.5</td>\n",
       "      <td>1.38</td>\n",
       "      <td>2076.60</td>\n",
       "      <td>he(15), genuinely(6000), cares(4285), about(41), me(42)</td>\n",
       "      <td>0.73</td>\n",
       "      <td>11.0</td>\n",
       "      <td>he(PRP:1), genuinely(RB:3), cares(VBZ:1), about(IN:5), me(PRP:1)</td>\n",
       "    </tr>\n",
       "  </tbody>\n",
       "</table>\n",
       "</div>"
      ],
      "text/plain": [
       "                                                      Sentence  Word Count  \\\n",
       "0               Do you have any information about the project?           8   \n",
       "1                                I don’t care about your past.           7   \n",
       "2                    Our house is worth about 150,000 dollars.           6   \n",
       "3                          What do you think about that issue?           7   \n",
       "4                           What do you really think about it?           7   \n",
       "5  John's mother abandoned him in cold heart after he was born          12   \n",
       "6               Don’t worry too much about unimportant things.           8   \n",
       "7                                 He genuinely cares about me.           5   \n",
       "\n",
       "   Overall Difficulty Overall Difficulty Calculation  Word Difficulty  \\\n",
       "0                0.45              0.1*0.5 + 0.8*0.5             0.10   \n",
       "1                0.47            0.07*0.5 + 0.87*0.5             0.07   \n",
       "2                0.49            0.25*0.5 + 0.73*0.5             0.25   \n",
       "3                0.53             0.06*0.5 + 1.0*0.5             0.06   \n",
       "4                0.58            0.03*0.5 + 1.13*0.5             0.03   \n",
       "5                0.90              0.4*0.5 + 1.4*0.5             0.40   \n",
       "6                0.92             0.63*0.5 + 1.2*0.5             0.63   \n",
       "7                1.06            1.38*0.5 + 0.73*0.5             1.38   \n",
       "\n",
       "   Word Raw Difficulty  \\\n",
       "0               150.25   \n",
       "1               102.00   \n",
       "2               377.17   \n",
       "3                92.29   \n",
       "4                44.29   \n",
       "5               596.25   \n",
       "6               947.00   \n",
       "7              2076.60   \n",
       "\n",
       "                                                                                                           Word Difficulty Details  \\\n",
       "0                                            do(28), you(9), have(22), any(108), information(289), about(41), the(1), project(704)   \n",
       "1                                                                 i(7), do(28), not(24), care(254), about(41), your(46), past(314)   \n",
       "2                                                                our(77), house(176), is(11), worth(847), about(41), dollars(1111)   \n",
       "3                                                              what(29), do(28), you(9), think(75), about(41), that(8), issue(456)   \n",
       "4                                                              what(29), do(28), you(9), really(118), think(75), about(41), it(10)   \n",
       "5  john(356), s(410), mother(284), abandoned(3516), him(67), in(6), cold(866), heart(479), after(102), he(15), was(14), born(1040)   \n",
       "6                                     do(28), not(24), worry(1095), too(129), much(111), about(41), unimportant(6000), things(148)   \n",
       "7                                                                          he(15), genuinely(6000), cares(4285), about(41), me(42)   \n",
       "\n",
       "   POS Difficulty  POS Raw Difficulty  \\\n",
       "0            0.80                12.0   \n",
       "1            0.87                13.0   \n",
       "2            0.73                11.0   \n",
       "3            1.00                15.0   \n",
       "4            1.13                17.0   \n",
       "5            1.40                21.0   \n",
       "6            1.20                18.0   \n",
       "7            0.73                11.0   \n",
       "\n",
       "                                                                                                                                POS Difficulty Details  \n",
       "0                                               do(VBP:1), you(PRP:1), have(VB:1), any(DT:1), information(NN:1), about(IN:5), the(DT:1), project(NN:1)  \n",
       "1                                                                    i(NNS:1), do(VBP:1), not(RB:3), care(VB:1), about(IN:5), your(PRP$:1), past(NN:1)  \n",
       "2                                                                        our(PRP$:1), house(NN:1), is(VBZ:1), worth(JJ:2), about(IN:5), dollars(NNS:1)  \n",
       "3                                                                 what(WP:5), do(VBP:1), you(PRP:1), think(VB:1), about(IN:5), that(DT:1), issue(NN:1)  \n",
       "4                                                                what(WP:5), do(VBP:1), you(PRP:1), really(RB:3), think(VBP:1), about(IN:5), it(PRP:1)  \n",
       "5  john(NN:1), s(NN:1), mother(NN:1), abandoned(VBD:1), him(PRP:1), in(IN:5), cold(JJ:2), heart(NN:1), after(IN:5), he(PRP:1), was(VBD:1), born(VBN:1)  \n",
       "6                                               do(VB:1), not(RB:3), worry(VB:1), too(RB:3), much(JJ:2), about(IN:5), unimportant(JJ:2), things(NNS:1)  \n",
       "7                                                                                     he(PRP:1), genuinely(RB:3), cares(VBZ:1), about(IN:5), me(PRP:1)  "
      ]
     },
     "execution_count": 39,
     "metadata": {},
     "output_type": "execute_result"
    }
   ],
   "source": [
    "df"
   ]
  }
 ],
 "metadata": {
  "kernelspec": {
   "display_name": "Python 3",
   "language": "python",
   "name": "python3"
  },
  "language_info": {
   "codemirror_mode": {
    "name": "ipython",
    "version": 3
   },
   "file_extension": ".py",
   "mimetype": "text/x-python",
   "name": "python",
   "nbconvert_exporter": "python",
   "pygments_lexer": "ipython3",
   "version": "3.6.13"
  }
 },
 "nbformat": 4,
 "nbformat_minor": 5
}
