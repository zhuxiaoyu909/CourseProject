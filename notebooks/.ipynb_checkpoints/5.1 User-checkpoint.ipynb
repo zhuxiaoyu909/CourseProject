{
 "cells": [
  {
   "cell_type": "markdown",
   "id": "8d31b158-bbf6-4b38-973f-df330af046f4",
   "metadata": {},
   "source": [
    "# Setup Environment"
   ]
  },
  {
   "cell_type": "code",
   "execution_count": 1,
   "id": "38e40a7b-1a52-4ba1-8bb0-7f3aac760a35",
   "metadata": {},
   "outputs": [],
   "source": [
    "from working_dir import set_working_dir"
   ]
  },
  {
   "cell_type": "code",
   "execution_count": 2,
   "id": "28366b84-f7e5-437b-8298-453003795ab1",
   "metadata": {},
   "outputs": [
    {
     "name": "stdout",
     "output_type": "stream",
     "text": [
      "Current working directory: D:\\git\\CS410-Project\n"
     ]
    }
   ],
   "source": [
    "set_working_dir()"
   ]
  },
  {
   "cell_type": "code",
   "execution_count": 3,
   "id": "1c582792-8a96-4270-b590-8d7ba2de61b5",
   "metadata": {},
   "outputs": [],
   "source": [
    "%load_ext autoreload\n",
    "%autoreload 2"
   ]
  },
  {
   "cell_type": "markdown",
   "id": "72ffb3c4-ef7d-42b4-ac48-6de0bd9ddb4f",
   "metadata": {},
   "source": [
    "# Import Libraries"
   ]
  },
  {
   "cell_type": "code",
   "execution_count": 37,
   "id": "a2b7efca-6049-41b2-a3e5-10a496ac45ad",
   "metadata": {},
   "outputs": [],
   "source": [
    "from word_app import create_app\n",
    "import pandas as pd\n",
    "from sentence_ranker import Inclusion\n",
    "from IPython.core.display import display, HTML"
   ]
  },
  {
   "cell_type": "code",
   "execution_count": 38,
   "id": "7c4f90c8-1a33-4b79-b45b-7ecd7c1685b2",
   "metadata": {},
   "outputs": [],
   "source": [
    "pd.set_option('max_colwidth', 400)"
   ]
  },
  {
   "cell_type": "markdown",
   "id": "7f477670-7b6f-41b5-84a8-3ae23896b89c",
   "metadata": {},
   "source": [
    "# Demo"
   ]
  },
  {
   "cell_type": "code",
   "execution_count": 39,
   "id": "0c3abb15-b784-432f-8411-c5865198ff78",
   "metadata": {},
   "outputs": [
    {
     "name": "stderr",
     "output_type": "stream",
     "text": [
      "[nltk_data] Downloading package averaged_perceptron_tagger to\n",
      "[nltk_data]     C:\\Users\\weich\\AppData\\Roaming\\nltk_data...\n",
      "[nltk_data]   Package averaged_perceptron_tagger is already up-to-\n",
      "[nltk_data]       date!\n"
     ]
    }
   ],
   "source": [
    "app = create_app()"
   ]
  },
  {
   "cell_type": "code",
   "execution_count": 40,
   "id": "1aabfc33-396e-4f8b-b10d-2ea989d66ccf",
   "metadata": {},
   "outputs": [],
   "source": [
    "def search_and_display_word(word: str, n_results=10):\n",
    "    word_result = app.search(word, n_results=n_results)\n",
    "    return display(HTML(word_result.to_html()))"
   ]
  },
  {
   "cell_type": "code",
   "execution_count": 41,
   "id": "46819c91-8e73-4f7d-bafd-b8f6d6aaf399",
   "metadata": {},
   "outputs": [
    {
     "data": {
      "text/html": [
       "\n",
       "        <!DOCTYPE html>\n",
       "        <html lang=\"en\">\n",
       "        <body>\n",
       "        <h2><span style=\"color: darkblue;\"><strong>corner</strong></span></h2>\n",
       "        \n",
       "            <p><strong>Definitions</strong></p>\n",
       "            <ol>\n",
       "                <li>[<strong><span style=\"color: darkgreen;\">noun</span></strong>] a place or angle where two sides or edges meet.</li><li>[<strong><span style=\"color: darkgreen;\">verb</span></strong>] force (a person or animal) into a place or situation from which it is hard to escape.</li>\n",
       "            </ol>\n",
       "            \n",
       "        \n",
       "            <p><strong>Examples</strong></p>\n",
       "            <ol>\n",
       "                <li>\"The wife ran and found her husband who was lying groaning in a corner , with his leg broken .\"</li><li>\"At last he took the prince into a corner , on pretence of showing him a rare statue .\"</li><li>\"Toward midnight he wanted to make up the fire , and as he was blowing up a blaze he heard a shriek from a corner .\"</li><li>\"But the bed was too big for the little tailor , so he did n't get into it , but crept away into the corner .\"</li><li>Then he looked around him and beheld in the corner a large bed .</li><li>\"Then I took four other sticks , and tied them parallel at each corner , about two feet from the ground .\"</li><li>\"He laid it in his own place in the bed , and then hid himself in a dark corner of the room .\"</li><li>So he proceeded to rearrange his nest and to put all his supplies of food in one corner of the old box .</li><li>Very carefully he took up Whitefoot 's nest and placed it under the old box in the darkest corner of the sugar-house .</li><li>Unc ' Billy Possum lay curled up under the hay in the highest nest in the darkest corner in Farmer Brown 's hen-house .</li>\n",
       "            </ol>\n",
       "            \n",
       "        </body>\n",
       "        </html>\n",
       "        "
      ],
      "text/plain": [
       "<IPython.core.display.HTML object>"
      ]
     },
     "metadata": {},
     "output_type": "display_data"
    }
   ],
   "source": [
    "search_and_display_word(word=\"corner\", n_results=10)"
   ]
  },
  {
   "cell_type": "code",
   "execution_count": null,
   "id": "f9a07dc0-f1dd-4606-9cac-de4c994020a3",
   "metadata": {},
   "outputs": [],
   "source": []
  },
  {
   "cell_type": "code",
   "execution_count": 35,
   "id": "dd2bc2c3-9b03-4317-8f33-6bd4505625e6",
   "metadata": {},
   "outputs": [
    {
     "data": {
      "text/html": [
       "\n",
       "        <!DOCTYPE html>\n",
       "        <html lang=\"en\">\n",
       "        <body>\n",
       "        <h2><span style=\"color: darkblue;\"><strong>newspapers</strong></span></h2>\n",
       "        \n",
       "            <p><strong>Definitions</strong></p>\n",
       "            <ol>\n",
       "                <li>[<strong><span style=\"color: darkgreen;\">noun</span></strong>] a printed publication (usually issued daily or weekly) consisting of folded unstapled sheets and containing news, articles, advertisements, and correspondence.</li>\n",
       "            </ol>\n",
       "            \n",
       "        \n",
       "            <p><strong>Examples</strong></p>\n",
       "            <ol>\n",
       "                <li>\"asked the major a moment afterward , as the courier came in with newspapers .\"</li><li>\"Miss Pym and the newspapers settled the matter in Jimmy 's mind , and made him more anxious than before about the other point .\"</li><li>\"What went on there , Meg could not see , but shrieks of laughter were heard , followed by the murmur of voices and a great flapping of newspapers .\"</li><li>\"`` Do n't you dare laugh , '' warned Anne in a whisper , as they marched along the newspapers .\"</li><li>I was in our parlor last evening when Mr. Bhaer came in with some newspapers for Mrs. Kirke .</li><li>\"In the south-west room , where there was no carpet to fade , we spread them on newspapers on the floor .\"</li><li>\"The Baxters lived in Aylmer , a lively little town with two newspapers , the Chronicle and the Ledger .\"</li><li>He was working in a remote district where newspapers seldom penetrated .</li><li>He knew those curious bastard English advertisements at the backs of native newspapers .</li><li>The newspapers wrote about his performance in very flattering terms .</li><li>\"`` I told you the Bible was more to be depended on than the newspapers , '' said Cecily triumphantly .\"</li>\n",
       "            </ol>\n",
       "            \n",
       "        </body>\n",
       "        </html>\n",
       "        "
      ],
      "text/plain": [
       "<IPython.core.display.HTML object>"
      ]
     },
     "metadata": {},
     "output_type": "display_data"
    }
   ],
   "source": [
    "search_and_display_word(word=\"newspapers\", n_results=11)"
   ]
  },
  {
   "cell_type": "code",
   "execution_count": null,
   "id": "88f3e040-7659-4acf-949b-fe237706e4b4",
   "metadata": {},
   "outputs": [],
   "source": []
  },
  {
   "cell_type": "code",
   "execution_count": 42,
   "id": "b29291be-c17a-44ac-bc4a-b4cc43107c1b",
   "metadata": {},
   "outputs": [
    {
     "data": {
      "text/html": [
       "\n",
       "        <!DOCTYPE html>\n",
       "        <html lang=\"en\">\n",
       "        <body>\n",
       "        <h2><span style=\"color: darkblue;\"><strong>washed</strong></span></h2>\n",
       "        \n",
       "            <p><strong>Definitions</strong></p>\n",
       "            <ol>\n",
       "                <li>[<strong><span style=\"color: darkgreen;\">verb</span></strong>] clean with water and, typically, soap or detergent.</li><li>[<strong><span style=\"color: darkgreen;\">noun</span></strong>] an act of washing something or an instance of being washed.</li>\n",
       "            </ol>\n",
       "            \n",
       "        \n",
       "            <p><strong>Examples</strong></p>\n",
       "            <ol>\n",
       "                <li>\"He then washed himself and lay down to rest , and he was still asleep when the Simurgh came home .\"</li><li>\"The Princess with the long nose began to wash as well as she could , but , the more she washed and rubbed , the larger the spots grew .\"</li><li>I should certainly be more comfortable if my back was washed . '</li><li>\"Thinking these thoughts she reached the bank , and began to unfold the large packet of linen that had to be washed .\"</li><li>\"So he changed his clothes , and washed himself , and out he set to the prince 's forge and asked him to sit along with himself .\"</li><li>\"And the girl took them to the river and washed hard for several hours , but wash as she would they never changed one whit .\"</li><li>The next evening the mink washed and brushed himself carefully and set out for the feast .</li><li>\"She washed the shirts , and hung them up to dry , and said nothing to Peter about the matter .\"</li><li>After he had washed his face he felt better .</li><li>Then she went back to the edge of the Big River and there she found a dead fish which had been washed ashore .</li><li>\"`` I found a dead fish that had been washed ashore , '' replied Reddy .\"</li>\n",
       "            </ol>\n",
       "            \n",
       "        </body>\n",
       "        </html>\n",
       "        "
      ],
      "text/plain": [
       "<IPython.core.display.HTML object>"
      ]
     },
     "metadata": {},
     "output_type": "display_data"
    }
   ],
   "source": [
    "search_and_display_word(word=\"washed\", n_results=11)"
   ]
  }
 ],
 "metadata": {
  "kernelspec": {
   "display_name": "Python 3",
   "language": "python",
   "name": "python3"
  },
  "language_info": {
   "codemirror_mode": {
    "name": "ipython",
    "version": 3
   },
   "file_extension": ".py",
   "mimetype": "text/x-python",
   "name": "python",
   "nbconvert_exporter": "python",
   "pygments_lexer": "ipython3",
   "version": "3.6.13"
  }
 },
 "nbformat": 4,
 "nbformat_minor": 5
}
