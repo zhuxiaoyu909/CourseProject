{
 "cells": [
  {
   "cell_type": "markdown",
   "id": "1b5abd4b-7820-4037-81cd-494af263bcef",
   "metadata": {},
   "source": [
    "# Setup Environment"
   ]
  },
  {
   "cell_type": "code",
   "execution_count": 25,
   "id": "c0c1e5a9-9054-4110-b926-2de9059c2de7",
   "metadata": {},
   "outputs": [],
   "source": [
    "from working_dir import set_working_dir"
   ]
  },
  {
   "cell_type": "code",
   "execution_count": 26,
   "id": "1730cd4c-cdd1-48f6-aa4c-0e5039ae82fb",
   "metadata": {},
   "outputs": [
    {
     "name": "stdout",
     "output_type": "stream",
     "text": [
      "Current working directory: D:\\git\\CS410-Project\n"
     ]
    }
   ],
   "source": [
    "set_working_dir()"
   ]
  },
  {
   "cell_type": "code",
   "execution_count": 27,
   "id": "6cbcbad6-ce0c-480d-9e4a-54cf2dee6ac7",
   "metadata": {},
   "outputs": [
    {
     "name": "stdout",
     "output_type": "stream",
     "text": [
      "The autoreload extension is already loaded. To reload it, use:\n",
      "  %reload_ext autoreload\n"
     ]
    }
   ],
   "source": [
    "%load_ext autoreload\n",
    "%autoreload 2"
   ]
  },
  {
   "cell_type": "markdown",
   "id": "42bf7762-6f09-4ad7-b447-dc760c26b58a",
   "metadata": {},
   "source": [
    "# Import Libraries"
   ]
  },
  {
   "cell_type": "code",
   "execution_count": 28,
   "id": "64130b17-135f-4a5e-8d1f-8a0238d3ba89",
   "metadata": {},
   "outputs": [],
   "source": [
    "import pandas as pd\n",
    "from word_frequency import WordFrequencies\n",
    "from sentence_ranker import SentenceRanker, Inclusion\n",
    "from pos_difficulty_ranker import POSDifficultyRanker"
   ]
  },
  {
   "cell_type": "code",
   "execution_count": 29,
   "id": "89ff6220-db65-40cc-881f-3ee77cefa22d",
   "metadata": {},
   "outputs": [],
   "source": [
    "%matplotlib inline"
   ]
  },
  {
   "cell_type": "code",
   "execution_count": 30,
   "id": "d5277d45-45e9-4951-a2d5-ea79674ff6b1",
   "metadata": {},
   "outputs": [],
   "source": [
    "pd.set_option('max_colwidth', 400)"
   ]
  },
  {
   "cell_type": "markdown",
   "id": "5cba9379-0130-4c8d-9f4b-1edf67993b5a",
   "metadata": {},
   "source": [
    "# Word Difficulty"
   ]
  },
  {
   "cell_type": "code",
   "execution_count": 31,
   "id": "382035c0-9360-46bf-bd0f-3f6de20b9146",
   "metadata": {},
   "outputs": [
    {
     "name": "stderr",
     "output_type": "stream",
     "text": [
      "[nltk_data] Downloading package averaged_perceptron_tagger to\n",
      "[nltk_data]     C:\\Users\\weich\\AppData\\Roaming\\nltk_data...\n",
      "[nltk_data]   Package averaged_perceptron_tagger is already up-to-\n",
      "[nltk_data]       date!\n"
     ]
    }
   ],
   "source": [
    "difficulty_ranker = POSDifficultyRanker()\n",
    "ranker = SentenceRanker(difficulty_ranker)"
   ]
  },
  {
   "cell_type": "code",
   "execution_count": 32,
   "id": "4bba0b56-f5a2-46b0-9c1d-cd96667727b6",
   "metadata": {},
   "outputs": [],
   "source": [
    "examples = [\n",
    "    \"What do you really think about it?\",\n",
    "    \"I don’t care about your past.\",\n",
    "    \"What do you think about that issue?\",\n",
    "    \"He genuinely cares about me.\",\n",
    "    \"Do you have any information about the project?\",\n",
    "    \"Our house is worth about 150,000 dollars.\",\n",
    "    \"Don’t worry too much about unimportant things.\",\n",
    "    \"John's mother abandoned him in cold heart after he was born\",\n",
    "]"
   ]
  },
  {
   "cell_type": "code",
   "execution_count": 33,
   "id": "b618a1c8-e8ff-4ba5-a01d-5b4ff9cd21c4",
   "metadata": {},
   "outputs": [],
   "source": [
    "ranked_sentences = ranker.rank(examples)"
   ]
  },
  {
   "cell_type": "code",
   "execution_count": 34,
   "id": "f7ab59a7-15bc-4584-9f6e-7c9cb53a5669",
   "metadata": {},
   "outputs": [],
   "source": [
    "ranked_sentences.sort_by_difficulty()"
   ]
  },
  {
   "cell_type": "code",
   "execution_count": 35,
   "id": "644fd5f8-06f2-4c68-a4fb-21c8e0af9c45",
   "metadata": {},
   "outputs": [],
   "source": [
    "df = ranked_sentences.to_pandas(inclusion = Inclusion.All)"
   ]
  },
  {
   "cell_type": "code",
   "execution_count": 36,
   "id": "3dddaa2d-b3b7-4e7d-a694-70b00bc394f6",
   "metadata": {},
   "outputs": [
    {
     "data": {
      "text/html": [
       "<div>\n",
       "<style scoped>\n",
       "    .dataframe tbody tr th:only-of-type {\n",
       "        vertical-align: middle;\n",
       "    }\n",
       "\n",
       "    .dataframe tbody tr th {\n",
       "        vertical-align: top;\n",
       "    }\n",
       "\n",
       "    .dataframe thead th {\n",
       "        text-align: right;\n",
       "    }\n",
       "</style>\n",
       "<table border=\"1\" class=\"dataframe\">\n",
       "  <thead>\n",
       "    <tr style=\"text-align: right;\">\n",
       "      <th></th>\n",
       "      <th>Sentence</th>\n",
       "      <th>Word Count</th>\n",
       "      <th>POS Difficulty</th>\n",
       "      <th>POS Raw Difficulty</th>\n",
       "      <th>POS Difficulty Details</th>\n",
       "    </tr>\n",
       "  </thead>\n",
       "  <tbody>\n",
       "    <tr>\n",
       "      <th>0</th>\n",
       "      <td>He genuinely cares about me.</td>\n",
       "      <td>5</td>\n",
       "      <td>0.73</td>\n",
       "      <td>11.0</td>\n",
       "      <td>he(PRP:1), genuinely(RB:3), cares(VBZ:1), about(IN:5), me(PRP:1)</td>\n",
       "    </tr>\n",
       "    <tr>\n",
       "      <th>1</th>\n",
       "      <td>Our house is worth about 150,000 dollars.</td>\n",
       "      <td>6</td>\n",
       "      <td>0.73</td>\n",
       "      <td>11.0</td>\n",
       "      <td>our(PRP$:1), house(NN:1), is(VBZ:1), worth(JJ:2), about(IN:5), dollars(NNS:1)</td>\n",
       "    </tr>\n",
       "    <tr>\n",
       "      <th>2</th>\n",
       "      <td>Do you have any information about the project?</td>\n",
       "      <td>8</td>\n",
       "      <td>0.80</td>\n",
       "      <td>12.0</td>\n",
       "      <td>do(VBP:1), you(PRP:1), have(VB:1), any(DT:1), information(NN:1), about(IN:5), the(DT:1), project(NN:1)</td>\n",
       "    </tr>\n",
       "    <tr>\n",
       "      <th>3</th>\n",
       "      <td>I don’t care about your past.</td>\n",
       "      <td>7</td>\n",
       "      <td>0.87</td>\n",
       "      <td>13.0</td>\n",
       "      <td>i(NNS:1), do(VBP:1), not(RB:3), care(VB:1), about(IN:5), your(PRP$:1), past(NN:1)</td>\n",
       "    </tr>\n",
       "    <tr>\n",
       "      <th>4</th>\n",
       "      <td>What do you think about that issue?</td>\n",
       "      <td>7</td>\n",
       "      <td>1.00</td>\n",
       "      <td>15.0</td>\n",
       "      <td>what(WP:5), do(VBP:1), you(PRP:1), think(VB:1), about(IN:5), that(DT:1), issue(NN:1)</td>\n",
       "    </tr>\n",
       "    <tr>\n",
       "      <th>5</th>\n",
       "      <td>What do you really think about it?</td>\n",
       "      <td>7</td>\n",
       "      <td>1.13</td>\n",
       "      <td>17.0</td>\n",
       "      <td>what(WP:5), do(VBP:1), you(PRP:1), really(RB:3), think(VBP:1), about(IN:5), it(PRP:1)</td>\n",
       "    </tr>\n",
       "    <tr>\n",
       "      <th>6</th>\n",
       "      <td>Don’t worry too much about unimportant things.</td>\n",
       "      <td>8</td>\n",
       "      <td>1.20</td>\n",
       "      <td>18.0</td>\n",
       "      <td>do(VB:1), not(RB:3), worry(VB:1), too(RB:3), much(JJ:2), about(IN:5), unimportant(JJ:2), things(NNS:1)</td>\n",
       "    </tr>\n",
       "    <tr>\n",
       "      <th>7</th>\n",
       "      <td>John's mother abandoned him in cold heart after he was born</td>\n",
       "      <td>12</td>\n",
       "      <td>1.40</td>\n",
       "      <td>21.0</td>\n",
       "      <td>john(NN:1), s(NN:1), mother(NN:1), abandoned(VBD:1), him(PRP:1), in(IN:5), cold(JJ:2), heart(NN:1), after(IN:5), he(PRP:1), was(VBD:1), born(VBN:1)</td>\n",
       "    </tr>\n",
       "  </tbody>\n",
       "</table>\n",
       "</div>"
      ],
      "text/plain": [
       "                                                      Sentence  Word Count  \\\n",
       "0                                 He genuinely cares about me.           5   \n",
       "1                    Our house is worth about 150,000 dollars.           6   \n",
       "2               Do you have any information about the project?           8   \n",
       "3                                I don’t care about your past.           7   \n",
       "4                          What do you think about that issue?           7   \n",
       "5                           What do you really think about it?           7   \n",
       "6               Don’t worry too much about unimportant things.           8   \n",
       "7  John's mother abandoned him in cold heart after he was born          12   \n",
       "\n",
       "   POS Difficulty  POS Raw Difficulty  \\\n",
       "0            0.73                11.0   \n",
       "1            0.73                11.0   \n",
       "2            0.80                12.0   \n",
       "3            0.87                13.0   \n",
       "4            1.00                15.0   \n",
       "5            1.13                17.0   \n",
       "6            1.20                18.0   \n",
       "7            1.40                21.0   \n",
       "\n",
       "                                                                                                                                POS Difficulty Details  \n",
       "0                                                                                     he(PRP:1), genuinely(RB:3), cares(VBZ:1), about(IN:5), me(PRP:1)  \n",
       "1                                                                        our(PRP$:1), house(NN:1), is(VBZ:1), worth(JJ:2), about(IN:5), dollars(NNS:1)  \n",
       "2                                               do(VBP:1), you(PRP:1), have(VB:1), any(DT:1), information(NN:1), about(IN:5), the(DT:1), project(NN:1)  \n",
       "3                                                                    i(NNS:1), do(VBP:1), not(RB:3), care(VB:1), about(IN:5), your(PRP$:1), past(NN:1)  \n",
       "4                                                                 what(WP:5), do(VBP:1), you(PRP:1), think(VB:1), about(IN:5), that(DT:1), issue(NN:1)  \n",
       "5                                                                what(WP:5), do(VBP:1), you(PRP:1), really(RB:3), think(VBP:1), about(IN:5), it(PRP:1)  \n",
       "6                                               do(VB:1), not(RB:3), worry(VB:1), too(RB:3), much(JJ:2), about(IN:5), unimportant(JJ:2), things(NNS:1)  \n",
       "7  john(NN:1), s(NN:1), mother(NN:1), abandoned(VBD:1), him(PRP:1), in(IN:5), cold(JJ:2), heart(NN:1), after(IN:5), he(PRP:1), was(VBD:1), born(VBN:1)  "
      ]
     },
     "execution_count": 36,
     "metadata": {},
     "output_type": "execute_result"
    }
   ],
   "source": [
    "df"
   ]
  }
 ],
 "metadata": {
  "kernelspec": {
   "display_name": "Python 3",
   "language": "python",
   "name": "python3"
  },
  "language_info": {
   "codemirror_mode": {
    "name": "ipython",
    "version": 3
   },
   "file_extension": ".py",
   "mimetype": "text/x-python",
   "name": "python",
   "nbconvert_exporter": "python",
   "pygments_lexer": "ipython3",
   "version": "3.6.13"
  }
 },
 "nbformat": 4,
 "nbformat_minor": 5
}
