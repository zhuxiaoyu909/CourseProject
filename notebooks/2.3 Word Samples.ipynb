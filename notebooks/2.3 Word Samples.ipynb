{
 "cells": [
  {
   "cell_type": "markdown",
   "id": "4f59fac1-9bb5-415d-bda0-cf461600d6a5",
   "metadata": {},
   "source": [
    "# Setup Environment"
   ]
  },
  {
   "cell_type": "code",
   "execution_count": 2,
   "id": "b79fa5f7-7261-47a9-8914-4266069490eb",
   "metadata": {},
   "outputs": [],
   "source": [
    "from working_dir import set_working_dir"
   ]
  },
  {
   "cell_type": "code",
   "execution_count": 3,
   "id": "cfc98078-2501-428b-92f7-636ef94f5a29",
   "metadata": {},
   "outputs": [
    {
     "name": "stdout",
     "output_type": "stream",
     "text": [
      "Current working directory: D:\\git\\CS410-Project\n"
     ]
    }
   ],
   "source": [
    "set_working_dir()"
   ]
  },
  {
   "cell_type": "code",
   "execution_count": 4,
   "id": "17632425-ea77-47c8-b271-9be2e2c53207",
   "metadata": {},
   "outputs": [],
   "source": [
    "%load_ext autoreload\n",
    "%autoreload 2"
   ]
  },
  {
   "cell_type": "markdown",
   "id": "e64ff14f-fa80-42c3-bb4a-ca0675ab795e",
   "metadata": {},
   "source": [
    "# Import libraries"
   ]
  },
  {
   "cell_type": "code",
   "execution_count": 5,
   "id": "2c7c5baf-1770-4fad-986c-87530f0322a4",
   "metadata": {},
   "outputs": [],
   "source": [
    "import pandas as pd\n",
    "import numpy as np"
   ]
  },
  {
   "cell_type": "markdown",
   "id": "5c73796b-d3b9-4e0b-bbc8-ee48145a4d12",
   "metadata": {},
   "source": [
    "# Pick word samples"
   ]
  },
  {
   "cell_type": "code",
   "execution_count": 10,
   "id": "e39eff17-8b10-4469-b3a4-fdb516e0b414",
   "metadata": {},
   "outputs": [],
   "source": [
    "df = pd.read_csv(\"data/interesting_words.csv\")"
   ]
  },
  {
   "cell_type": "code",
   "execution_count": 11,
   "id": "6bece7c2-3990-426a-994b-4f6db9cfebce",
   "metadata": {},
   "outputs": [
    {
     "data": {
      "text/html": [
       "<div>\n",
       "<style scoped>\n",
       "    .dataframe tbody tr th:only-of-type {\n",
       "        vertical-align: middle;\n",
       "    }\n",
       "\n",
       "    .dataframe tbody tr th {\n",
       "        vertical-align: top;\n",
       "    }\n",
       "\n",
       "    .dataframe thead th {\n",
       "        text-align: right;\n",
       "    }\n",
       "</style>\n",
       "<table border=\"1\" class=\"dataframe\">\n",
       "  <thead>\n",
       "    <tr style=\"text-align: right;\">\n",
       "      <th></th>\n",
       "      <th>word</th>\n",
       "      <th>rank</th>\n",
       "      <th>sentence_count</th>\n",
       "    </tr>\n",
       "  </thead>\n",
       "  <tbody>\n",
       "    <tr>\n",
       "      <th>0</th>\n",
       "      <td>also</td>\n",
       "      <td>94</td>\n",
       "      <td>524</td>\n",
       "    </tr>\n",
       "    <tr>\n",
       "      <th>1</th>\n",
       "      <td>need</td>\n",
       "      <td>130</td>\n",
       "      <td>603</td>\n",
       "    </tr>\n",
       "    <tr>\n",
       "      <th>2</th>\n",
       "      <td>year</td>\n",
       "      <td>144</td>\n",
       "      <td>620</td>\n",
       "    </tr>\n",
       "    <tr>\n",
       "      <th>3</th>\n",
       "      <td>around</td>\n",
       "      <td>147</td>\n",
       "      <td>753</td>\n",
       "    </tr>\n",
       "    <tr>\n",
       "      <th>4</th>\n",
       "      <td>same</td>\n",
       "      <td>150</td>\n",
       "      <td>816</td>\n",
       "    </tr>\n",
       "  </tbody>\n",
       "</table>\n",
       "</div>"
      ],
      "text/plain": [
       "     word  rank  sentence_count\n",
       "0    also    94             524\n",
       "1    need   130             603\n",
       "2    year   144             620\n",
       "3  around   147             753\n",
       "4    same   150             816"
      ]
     },
     "execution_count": 11,
     "metadata": {},
     "output_type": "execute_result"
    }
   ],
   "source": [
    "df.head()"
   ]
  },
  {
   "cell_type": "code",
   "execution_count": 12,
   "id": "edef0afa-de90-40ce-9c49-934eb3aad6b9",
   "metadata": {},
   "outputs": [],
   "source": [
    "rank_below1k = df[\"rank\"] <= 1000\n",
    "rank_1k_2k = (df[\"rank\"] > 1000) & (df[\"rank\"] <= 2000)\n",
    "rank_2k_3k = (df[\"rank\"] > 2000) & (df[\"rank\"] <= 3000)\n",
    "rank_3k_4k = (df[\"rank\"] > 3000) & (df[\"rank\"] <= 4000)\n",
    "rank_above4k = df[\"rank\"] > 4000"
   ]
  },
  {
   "cell_type": "code",
   "execution_count": 13,
   "id": "ef0fdb99-7753-41cf-8a4b-f834260b80b0",
   "metadata": {},
   "outputs": [
    {
     "data": {
      "text/html": [
       "<div>\n",
       "<style scoped>\n",
       "    .dataframe tbody tr th:only-of-type {\n",
       "        vertical-align: middle;\n",
       "    }\n",
       "\n",
       "    .dataframe tbody tr th {\n",
       "        vertical-align: top;\n",
       "    }\n",
       "\n",
       "    .dataframe thead th {\n",
       "        text-align: right;\n",
       "    }\n",
       "</style>\n",
       "<table border=\"1\" class=\"dataframe\">\n",
       "  <thead>\n",
       "    <tr style=\"text-align: right;\">\n",
       "      <th></th>\n",
       "      <th>word</th>\n",
       "      <th>rank</th>\n",
       "      <th>sentence_count</th>\n",
       "    </tr>\n",
       "  </thead>\n",
       "  <tbody>\n",
       "    <tr>\n",
       "      <th>0</th>\n",
       "      <td>also</td>\n",
       "      <td>94</td>\n",
       "      <td>524</td>\n",
       "    </tr>\n",
       "    <tr>\n",
       "      <th>652</th>\n",
       "      <td>original</td>\n",
       "      <td>1000</td>\n",
       "      <td>26</td>\n",
       "    </tr>\n",
       "  </tbody>\n",
       "</table>\n",
       "</div>"
      ],
      "text/plain": [
       "         word  rank  sentence_count\n",
       "0        also    94             524\n",
       "652  original  1000              26"
      ]
     },
     "execution_count": 13,
     "metadata": {},
     "output_type": "execute_result"
    }
   ],
   "source": [
    "pd.concat([df[rank_below1k].head(1), df[rank_below1k].tail(1)])"
   ]
  },
  {
   "cell_type": "code",
   "execution_count": 14,
   "id": "4065c7d9-2483-487b-844d-7b23d35be79a",
   "metadata": {},
   "outputs": [
    {
     "data": {
      "text/html": [
       "<div>\n",
       "<style scoped>\n",
       "    .dataframe tbody tr th:only-of-type {\n",
       "        vertical-align: middle;\n",
       "    }\n",
       "\n",
       "    .dataframe tbody tr th {\n",
       "        vertical-align: top;\n",
       "    }\n",
       "\n",
       "    .dataframe thead th {\n",
       "        text-align: right;\n",
       "    }\n",
       "</style>\n",
       "<table border=\"1\" class=\"dataframe\">\n",
       "  <thead>\n",
       "    <tr style=\"text-align: right;\">\n",
       "      <th></th>\n",
       "      <th>word</th>\n",
       "      <th>rank</th>\n",
       "      <th>sentence_count</th>\n",
       "    </tr>\n",
       "  </thead>\n",
       "  <tbody>\n",
       "    <tr>\n",
       "      <th>653</th>\n",
       "      <td>older</td>\n",
       "      <td>1001</td>\n",
       "      <td>138</td>\n",
       "    </tr>\n",
       "    <tr>\n",
       "      <th>1392</th>\n",
       "      <td>england</td>\n",
       "      <td>2000</td>\n",
       "      <td>170</td>\n",
       "    </tr>\n",
       "  </tbody>\n",
       "</table>\n",
       "</div>"
      ],
      "text/plain": [
       "         word  rank  sentence_count\n",
       "653     older  1001             138\n",
       "1392  england  2000             170"
      ]
     },
     "execution_count": 14,
     "metadata": {},
     "output_type": "execute_result"
    }
   ],
   "source": [
    "pd.concat([df[rank_1k_2k].head(1), df[rank_1k_2k].tail(1)])"
   ]
  },
  {
   "cell_type": "code",
   "execution_count": 15,
   "id": "9bfc001b-eee5-48b1-880f-b3828fb70278",
   "metadata": {},
   "outputs": [
    {
     "data": {
      "text/html": [
       "<div>\n",
       "<style scoped>\n",
       "    .dataframe tbody tr th:only-of-type {\n",
       "        vertical-align: middle;\n",
       "    }\n",
       "\n",
       "    .dataframe tbody tr th {\n",
       "        vertical-align: top;\n",
       "    }\n",
       "\n",
       "    .dataframe thead th {\n",
       "        text-align: right;\n",
       "    }\n",
       "</style>\n",
       "<table border=\"1\" class=\"dataframe\">\n",
       "  <thead>\n",
       "    <tr style=\"text-align: right;\">\n",
       "      <th></th>\n",
       "      <th>word</th>\n",
       "      <th>rank</th>\n",
       "      <th>sentence_count</th>\n",
       "    </tr>\n",
       "  </thead>\n",
       "  <tbody>\n",
       "    <tr>\n",
       "      <th>1393</th>\n",
       "      <td>owner</td>\n",
       "      <td>2003</td>\n",
       "      <td>35</td>\n",
       "    </tr>\n",
       "    <tr>\n",
       "      <th>2032</th>\n",
       "      <td>grass</td>\n",
       "      <td>3000</td>\n",
       "      <td>279</td>\n",
       "    </tr>\n",
       "  </tbody>\n",
       "</table>\n",
       "</div>"
      ],
      "text/plain": [
       "       word  rank  sentence_count\n",
       "1393  owner  2003              35\n",
       "2032  grass  3000             279"
      ]
     },
     "execution_count": 15,
     "metadata": {},
     "output_type": "execute_result"
    }
   ],
   "source": [
    "pd.concat([df[rank_2k_3k].head(1), df[rank_2k_3k].tail(1)])"
   ]
  },
  {
   "cell_type": "code",
   "execution_count": 16,
   "id": "59378ed0-f33e-4a35-b608-4be817406eeb",
   "metadata": {},
   "outputs": [
    {
     "data": {
      "text/html": [
       "<div>\n",
       "<style scoped>\n",
       "    .dataframe tbody tr th:only-of-type {\n",
       "        vertical-align: middle;\n",
       "    }\n",
       "\n",
       "    .dataframe tbody tr th {\n",
       "        vertical-align: top;\n",
       "    }\n",
       "\n",
       "    .dataframe thead th {\n",
       "        text-align: right;\n",
       "    }\n",
       "</style>\n",
       "<table border=\"1\" class=\"dataframe\">\n",
       "  <thead>\n",
       "    <tr style=\"text-align: right;\">\n",
       "      <th></th>\n",
       "      <th>word</th>\n",
       "      <th>rank</th>\n",
       "      <th>sentence_count</th>\n",
       "    </tr>\n",
       "  </thead>\n",
       "  <tbody>\n",
       "    <tr>\n",
       "      <th>2033</th>\n",
       "      <td>passion</td>\n",
       "      <td>3001</td>\n",
       "      <td>64</td>\n",
       "    </tr>\n",
       "    <tr>\n",
       "      <th>2573</th>\n",
       "      <td>disappointed</td>\n",
       "      <td>3998</td>\n",
       "      <td>115</td>\n",
       "    </tr>\n",
       "  </tbody>\n",
       "</table>\n",
       "</div>"
      ],
      "text/plain": [
       "              word  rank  sentence_count\n",
       "2033       passion  3001              64\n",
       "2573  disappointed  3998             115"
      ]
     },
     "execution_count": 16,
     "metadata": {},
     "output_type": "execute_result"
    }
   ],
   "source": [
    "pd.concat([df[rank_3k_4k].head(1), df[rank_3k_4k].tail(1)])"
   ]
  },
  {
   "cell_type": "code",
   "execution_count": 17,
   "id": "4a05a51b-473b-4fb2-8116-3155ee1f39b3",
   "metadata": {},
   "outputs": [
    {
     "data": {
      "text/html": [
       "<div>\n",
       "<style scoped>\n",
       "    .dataframe tbody tr th:only-of-type {\n",
       "        vertical-align: middle;\n",
       "    }\n",
       "\n",
       "    .dataframe tbody tr th {\n",
       "        vertical-align: top;\n",
       "    }\n",
       "\n",
       "    .dataframe thead th {\n",
       "        text-align: right;\n",
       "    }\n",
       "</style>\n",
       "<table border=\"1\" class=\"dataframe\">\n",
       "  <thead>\n",
       "    <tr style=\"text-align: right;\">\n",
       "      <th></th>\n",
       "      <th>word</th>\n",
       "      <th>rank</th>\n",
       "      <th>sentence_count</th>\n",
       "    </tr>\n",
       "  </thead>\n",
       "  <tbody>\n",
       "    <tr>\n",
       "      <th>2574</th>\n",
       "      <td>wrapped</td>\n",
       "      <td>4001</td>\n",
       "      <td>61</td>\n",
       "    </tr>\n",
       "    <tr>\n",
       "      <th>3048</th>\n",
       "      <td>bits</td>\n",
       "      <td>5050</td>\n",
       "      <td>60</td>\n",
       "    </tr>\n",
       "  </tbody>\n",
       "</table>\n",
       "</div>"
      ],
      "text/plain": [
       "         word  rank  sentence_count\n",
       "2574  wrapped  4001              61\n",
       "3048     bits  5050              60"
      ]
     },
     "execution_count": 17,
     "metadata": {},
     "output_type": "execute_result"
    }
   ],
   "source": [
    "pd.concat([df[rank_above4k].head(1), df[rank_above4k].tail(1)])"
   ]
  },
  {
   "cell_type": "code",
   "execution_count": null,
   "id": "9b3e98d0-5894-41af-a943-4d08e0521c21",
   "metadata": {},
   "outputs": [],
   "source": []
  },
  {
   "cell_type": "markdown",
   "id": "e40a00b9-7e76-4a73-8b64-baa3fc771ecc",
   "metadata": {},
   "source": [
    "# Sampling words from each rank bands"
   ]
  },
  {
   "cell_type": "code",
   "execution_count": 18,
   "id": "8602fec3-08fe-40a3-8020-4d5de374e64b",
   "metadata": {},
   "outputs": [],
   "source": [
    "np.random.seed(42)"
   ]
  },
  {
   "cell_type": "code",
   "execution_count": 19,
   "id": "86cd1b8c-d090-4359-87dc-325003fc427a",
   "metadata": {},
   "outputs": [],
   "source": [
    "def sample(dfs: [], n:int):\n",
    "    sample_dfs = []\n",
    "    for df in dfs:\n",
    "        sample_dfs.append(df.sample(n=n))\n",
    "    return pd.concat(sample_dfs)"
   ]
  },
  {
   "cell_type": "code",
   "execution_count": 20,
   "id": "1c2bdf7d-d989-4190-a414-916659cf183e",
   "metadata": {},
   "outputs": [],
   "source": [
    "sample_df = sample(\n",
    "    dfs=[df[rank_below1k], df[rank_1k_2k], df[rank_2k_3k], df[rank_3k_4k], df[rank_above4k]],\n",
    "    n=1)"
   ]
  },
  {
   "cell_type": "code",
   "execution_count": 21,
   "id": "0207c87b-d087-4008-ac09-05d9071c7303",
   "metadata": {},
   "outputs": [
    {
     "data": {
      "text/html": [
       "<div>\n",
       "<style scoped>\n",
       "    .dataframe tbody tr th:only-of-type {\n",
       "        vertical-align: middle;\n",
       "    }\n",
       "\n",
       "    .dataframe tbody tr th {\n",
       "        vertical-align: top;\n",
       "    }\n",
       "\n",
       "    .dataframe thead th {\n",
       "        text-align: right;\n",
       "    }\n",
       "</style>\n",
       "<table border=\"1\" class=\"dataframe\">\n",
       "  <thead>\n",
       "    <tr style=\"text-align: right;\">\n",
       "      <th></th>\n",
       "      <th>word</th>\n",
       "      <th>rank</th>\n",
       "      <th>sentence_count</th>\n",
       "    </tr>\n",
       "  </thead>\n",
       "  <tbody>\n",
       "    <tr>\n",
       "      <th>109</th>\n",
       "      <td>live</td>\n",
       "      <td>330</td>\n",
       "      <td>649</td>\n",
       "    </tr>\n",
       "    <tr>\n",
       "      <th>1103</th>\n",
       "      <td>corner</td>\n",
       "      <td>1591</td>\n",
       "      <td>340</td>\n",
       "    </tr>\n",
       "    <tr>\n",
       "      <th>1463</th>\n",
       "      <td>serving</td>\n",
       "      <td>2104</td>\n",
       "      <td>10</td>\n",
       "    </tr>\n",
       "    <tr>\n",
       "      <th>2437</th>\n",
       "      <td>newspapers</td>\n",
       "      <td>3735</td>\n",
       "      <td>19</td>\n",
       "    </tr>\n",
       "    <tr>\n",
       "      <th>2610</th>\n",
       "      <td>russell</td>\n",
       "      <td>4096</td>\n",
       "      <td>16</td>\n",
       "    </tr>\n",
       "  </tbody>\n",
       "</table>\n",
       "</div>"
      ],
      "text/plain": [
       "            word  rank  sentence_count\n",
       "109         live   330             649\n",
       "1103      corner  1591             340\n",
       "1463     serving  2104              10\n",
       "2437  newspapers  3735              19\n",
       "2610     russell  4096              16"
      ]
     },
     "execution_count": 21,
     "metadata": {},
     "output_type": "execute_result"
    }
   ],
   "source": [
    "sample_df"
   ]
  },
  {
   "cell_type": "markdown",
   "id": "d482b972-3875-4087-b0bb-a439563fe759",
   "metadata": {},
   "source": [
    "# Write to file"
   ]
  },
  {
   "cell_type": "code",
   "execution_count": 22,
   "id": "1c3aac45-7436-4fb3-bf98-dd1522635327",
   "metadata": {},
   "outputs": [],
   "source": [
    "sample_df_final = sample_df"
   ]
  },
  {
   "cell_type": "code",
   "execution_count": 23,
   "id": "7fa366e6-f153-4177-a901-f9abe9a7b6a6",
   "metadata": {},
   "outputs": [],
   "source": [
    "sample_df_final.to_csv('data/sample_words.csv', index=False) "
   ]
  }
 ],
 "metadata": {
  "kernelspec": {
   "display_name": "Python 3",
   "language": "python",
   "name": "python3"
  },
  "language_info": {
   "codemirror_mode": {
    "name": "ipython",
    "version": 3
   },
   "file_extension": ".py",
   "mimetype": "text/x-python",
   "name": "python",
   "nbconvert_exporter": "python",
   "pygments_lexer": "ipython3",
   "version": "3.6.13"
  }
 },
 "nbformat": 4,
 "nbformat_minor": 5
}
