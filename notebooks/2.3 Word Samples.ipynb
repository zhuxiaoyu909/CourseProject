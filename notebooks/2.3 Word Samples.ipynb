{
 "cells": [
  {
   "cell_type": "markdown",
   "id": "4f59fac1-9bb5-415d-bda0-cf461600d6a5",
   "metadata": {},
   "source": [
    "# Setup Environment"
   ]
  },
  {
   "cell_type": "code",
   "execution_count": 26,
   "id": "b79fa5f7-7261-47a9-8914-4266069490eb",
   "metadata": {},
   "outputs": [],
   "source": [
    "from working_dir import set_working_dir"
   ]
  },
  {
   "cell_type": "code",
   "execution_count": 27,
   "id": "cfc98078-2501-428b-92f7-636ef94f5a29",
   "metadata": {},
   "outputs": [
    {
     "name": "stdout",
     "output_type": "stream",
     "text": [
      "Current working directory: D:\\git\\CS410-Project\n"
     ]
    }
   ],
   "source": [
    "set_working_dir()"
   ]
  },
  {
   "cell_type": "code",
   "execution_count": 28,
   "id": "17632425-ea77-47c8-b271-9be2e2c53207",
   "metadata": {},
   "outputs": [
    {
     "name": "stdout",
     "output_type": "stream",
     "text": [
      "The autoreload extension is already loaded. To reload it, use:\n",
      "  %reload_ext autoreload\n"
     ]
    }
   ],
   "source": [
    "%load_ext autoreload\n",
    "%autoreload 2"
   ]
  },
  {
   "cell_type": "markdown",
   "id": "e64ff14f-fa80-42c3-bb4a-ca0675ab795e",
   "metadata": {},
   "source": [
    "# Import libraries"
   ]
  },
  {
   "cell_type": "code",
   "execution_count": 29,
   "id": "2c7c5baf-1770-4fad-986c-87530f0322a4",
   "metadata": {},
   "outputs": [],
   "source": [
    "import pandas as pd\n",
    "import numpy as np"
   ]
  },
  {
   "cell_type": "markdown",
   "id": "5c73796b-d3b9-4e0b-bbc8-ee48145a4d12",
   "metadata": {},
   "source": [
    "# Pick word samples\n",
    "From interesting word list, we try to get some words from each difficulty levels as sample words."
   ]
  },
  {
   "cell_type": "code",
   "execution_count": 30,
   "id": "e39eff17-8b10-4469-b3a4-fdb516e0b414",
   "metadata": {},
   "outputs": [],
   "source": [
    "df = pd.read_csv(\"data/interesting_words.csv\")"
   ]
  },
  {
   "cell_type": "code",
   "execution_count": 31,
   "id": "6bece7c2-3990-426a-994b-4f6db9cfebce",
   "metadata": {},
   "outputs": [
    {
     "data": {
      "text/html": [
       "<div>\n",
       "<style scoped>\n",
       "    .dataframe tbody tr th:only-of-type {\n",
       "        vertical-align: middle;\n",
       "    }\n",
       "\n",
       "    .dataframe tbody tr th {\n",
       "        vertical-align: top;\n",
       "    }\n",
       "\n",
       "    .dataframe thead th {\n",
       "        text-align: right;\n",
       "    }\n",
       "</style>\n",
       "<table border=\"1\" class=\"dataframe\">\n",
       "  <thead>\n",
       "    <tr style=\"text-align: right;\">\n",
       "      <th></th>\n",
       "      <th>word</th>\n",
       "      <th>rank</th>\n",
       "      <th>sentence_count</th>\n",
       "    </tr>\n",
       "  </thead>\n",
       "  <tbody>\n",
       "    <tr>\n",
       "      <th>0</th>\n",
       "      <td>also</td>\n",
       "      <td>94</td>\n",
       "      <td>524</td>\n",
       "    </tr>\n",
       "    <tr>\n",
       "      <th>1</th>\n",
       "      <td>need</td>\n",
       "      <td>130</td>\n",
       "      <td>603</td>\n",
       "    </tr>\n",
       "    <tr>\n",
       "      <th>2</th>\n",
       "      <td>year</td>\n",
       "      <td>144</td>\n",
       "      <td>620</td>\n",
       "    </tr>\n",
       "    <tr>\n",
       "      <th>3</th>\n",
       "      <td>around</td>\n",
       "      <td>147</td>\n",
       "      <td>753</td>\n",
       "    </tr>\n",
       "    <tr>\n",
       "      <th>4</th>\n",
       "      <td>same</td>\n",
       "      <td>150</td>\n",
       "      <td>816</td>\n",
       "    </tr>\n",
       "  </tbody>\n",
       "</table>\n",
       "</div>"
      ],
      "text/plain": [
       "     word  rank  sentence_count\n",
       "0    also    94             524\n",
       "1    need   130             603\n",
       "2    year   144             620\n",
       "3  around   147             753\n",
       "4    same   150             816"
      ]
     },
     "execution_count": 31,
     "metadata": {},
     "output_type": "execute_result"
    }
   ],
   "source": [
    "df.head()"
   ]
  },
  {
   "cell_type": "code",
   "execution_count": 32,
   "id": "edef0afa-de90-40ce-9c49-934eb3aad6b9",
   "metadata": {},
   "outputs": [],
   "source": [
    "rank_below1k = df[\"rank\"] <= 1000\n",
    "rank_1k_2k = (df[\"rank\"] > 1000) & (df[\"rank\"] <= 2000)\n",
    "rank_2k_3k = (df[\"rank\"] > 2000) & (df[\"rank\"] <= 3000)\n",
    "rank_3k_4k = (df[\"rank\"] > 3000) & (df[\"rank\"] <= 4000)\n",
    "rank_above4k = df[\"rank\"] > 4000"
   ]
  },
  {
   "cell_type": "code",
   "execution_count": 33,
   "id": "ef0fdb99-7753-41cf-8a4b-f834260b80b0",
   "metadata": {},
   "outputs": [
    {
     "data": {
      "text/html": [
       "<div>\n",
       "<style scoped>\n",
       "    .dataframe tbody tr th:only-of-type {\n",
       "        vertical-align: middle;\n",
       "    }\n",
       "\n",
       "    .dataframe tbody tr th {\n",
       "        vertical-align: top;\n",
       "    }\n",
       "\n",
       "    .dataframe thead th {\n",
       "        text-align: right;\n",
       "    }\n",
       "</style>\n",
       "<table border=\"1\" class=\"dataframe\">\n",
       "  <thead>\n",
       "    <tr style=\"text-align: right;\">\n",
       "      <th></th>\n",
       "      <th>word</th>\n",
       "      <th>rank</th>\n",
       "      <th>sentence_count</th>\n",
       "    </tr>\n",
       "  </thead>\n",
       "  <tbody>\n",
       "    <tr>\n",
       "      <th>0</th>\n",
       "      <td>also</td>\n",
       "      <td>94</td>\n",
       "      <td>524</td>\n",
       "    </tr>\n",
       "    <tr>\n",
       "      <th>617</th>\n",
       "      <td>original</td>\n",
       "      <td>1000</td>\n",
       "      <td>26</td>\n",
       "    </tr>\n",
       "  </tbody>\n",
       "</table>\n",
       "</div>"
      ],
      "text/plain": [
       "         word  rank  sentence_count\n",
       "0        also    94             524\n",
       "617  original  1000              26"
      ]
     },
     "execution_count": 33,
     "metadata": {},
     "output_type": "execute_result"
    }
   ],
   "source": [
    "pd.concat([df[rank_below1k].head(1), df[rank_below1k].tail(1)])"
   ]
  },
  {
   "cell_type": "code",
   "execution_count": 34,
   "id": "4065c7d9-2483-487b-844d-7b23d35be79a",
   "metadata": {},
   "outputs": [
    {
     "data": {
      "text/html": [
       "<div>\n",
       "<style scoped>\n",
       "    .dataframe tbody tr th:only-of-type {\n",
       "        vertical-align: middle;\n",
       "    }\n",
       "\n",
       "    .dataframe tbody tr th {\n",
       "        vertical-align: top;\n",
       "    }\n",
       "\n",
       "    .dataframe thead th {\n",
       "        text-align: right;\n",
       "    }\n",
       "</style>\n",
       "<table border=\"1\" class=\"dataframe\">\n",
       "  <thead>\n",
       "    <tr style=\"text-align: right;\">\n",
       "      <th></th>\n",
       "      <th>word</th>\n",
       "      <th>rank</th>\n",
       "      <th>sentence_count</th>\n",
       "    </tr>\n",
       "  </thead>\n",
       "  <tbody>\n",
       "    <tr>\n",
       "      <th>618</th>\n",
       "      <td>older</td>\n",
       "      <td>1001</td>\n",
       "      <td>138</td>\n",
       "    </tr>\n",
       "    <tr>\n",
       "      <th>1301</th>\n",
       "      <td>england</td>\n",
       "      <td>2000</td>\n",
       "      <td>170</td>\n",
       "    </tr>\n",
       "  </tbody>\n",
       "</table>\n",
       "</div>"
      ],
      "text/plain": [
       "         word  rank  sentence_count\n",
       "618     older  1001             138\n",
       "1301  england  2000             170"
      ]
     },
     "execution_count": 34,
     "metadata": {},
     "output_type": "execute_result"
    }
   ],
   "source": [
    "pd.concat([df[rank_1k_2k].head(1), df[rank_1k_2k].tail(1)])"
   ]
  },
  {
   "cell_type": "code",
   "execution_count": 35,
   "id": "9bfc001b-eee5-48b1-880f-b3828fb70278",
   "metadata": {},
   "outputs": [
    {
     "data": {
      "text/html": [
       "<div>\n",
       "<style scoped>\n",
       "    .dataframe tbody tr th:only-of-type {\n",
       "        vertical-align: middle;\n",
       "    }\n",
       "\n",
       "    .dataframe tbody tr th {\n",
       "        vertical-align: top;\n",
       "    }\n",
       "\n",
       "    .dataframe thead th {\n",
       "        text-align: right;\n",
       "    }\n",
       "</style>\n",
       "<table border=\"1\" class=\"dataframe\">\n",
       "  <thead>\n",
       "    <tr style=\"text-align: right;\">\n",
       "      <th></th>\n",
       "      <th>word</th>\n",
       "      <th>rank</th>\n",
       "      <th>sentence_count</th>\n",
       "    </tr>\n",
       "  </thead>\n",
       "  <tbody>\n",
       "    <tr>\n",
       "      <th>1302</th>\n",
       "      <td>owner</td>\n",
       "      <td>2003</td>\n",
       "      <td>35</td>\n",
       "    </tr>\n",
       "    <tr>\n",
       "      <th>1879</th>\n",
       "      <td>grass</td>\n",
       "      <td>3000</td>\n",
       "      <td>279</td>\n",
       "    </tr>\n",
       "  </tbody>\n",
       "</table>\n",
       "</div>"
      ],
      "text/plain": [
       "       word  rank  sentence_count\n",
       "1302  owner  2003              35\n",
       "1879  grass  3000             279"
      ]
     },
     "execution_count": 35,
     "metadata": {},
     "output_type": "execute_result"
    }
   ],
   "source": [
    "pd.concat([df[rank_2k_3k].head(1), df[rank_2k_3k].tail(1)])"
   ]
  },
  {
   "cell_type": "code",
   "execution_count": 36,
   "id": "59378ed0-f33e-4a35-b608-4be817406eeb",
   "metadata": {},
   "outputs": [
    {
     "data": {
      "text/html": [
       "<div>\n",
       "<style scoped>\n",
       "    .dataframe tbody tr th:only-of-type {\n",
       "        vertical-align: middle;\n",
       "    }\n",
       "\n",
       "    .dataframe tbody tr th {\n",
       "        vertical-align: top;\n",
       "    }\n",
       "\n",
       "    .dataframe thead th {\n",
       "        text-align: right;\n",
       "    }\n",
       "</style>\n",
       "<table border=\"1\" class=\"dataframe\">\n",
       "  <thead>\n",
       "    <tr style=\"text-align: right;\">\n",
       "      <th></th>\n",
       "      <th>word</th>\n",
       "      <th>rank</th>\n",
       "      <th>sentence_count</th>\n",
       "    </tr>\n",
       "  </thead>\n",
       "  <tbody>\n",
       "    <tr>\n",
       "      <th>1880</th>\n",
       "      <td>passion</td>\n",
       "      <td>3001</td>\n",
       "      <td>64</td>\n",
       "    </tr>\n",
       "    <tr>\n",
       "      <th>2358</th>\n",
       "      <td>disappointed</td>\n",
       "      <td>3998</td>\n",
       "      <td>115</td>\n",
       "    </tr>\n",
       "  </tbody>\n",
       "</table>\n",
       "</div>"
      ],
      "text/plain": [
       "              word  rank  sentence_count\n",
       "1880       passion  3001              64\n",
       "2358  disappointed  3998             115"
      ]
     },
     "execution_count": 36,
     "metadata": {},
     "output_type": "execute_result"
    }
   ],
   "source": [
    "pd.concat([df[rank_3k_4k].head(1), df[rank_3k_4k].tail(1)])"
   ]
  },
  {
   "cell_type": "code",
   "execution_count": 37,
   "id": "4a05a51b-473b-4fb2-8116-3155ee1f39b3",
   "metadata": {},
   "outputs": [
    {
     "data": {
      "text/html": [
       "<div>\n",
       "<style scoped>\n",
       "    .dataframe tbody tr th:only-of-type {\n",
       "        vertical-align: middle;\n",
       "    }\n",
       "\n",
       "    .dataframe tbody tr th {\n",
       "        vertical-align: top;\n",
       "    }\n",
       "\n",
       "    .dataframe thead th {\n",
       "        text-align: right;\n",
       "    }\n",
       "</style>\n",
       "<table border=\"1\" class=\"dataframe\">\n",
       "  <thead>\n",
       "    <tr style=\"text-align: right;\">\n",
       "      <th></th>\n",
       "      <th>word</th>\n",
       "      <th>rank</th>\n",
       "      <th>sentence_count</th>\n",
       "    </tr>\n",
       "  </thead>\n",
       "  <tbody>\n",
       "    <tr>\n",
       "      <th>2359</th>\n",
       "      <td>wrapped</td>\n",
       "      <td>4001</td>\n",
       "      <td>61</td>\n",
       "    </tr>\n",
       "    <tr>\n",
       "      <th>2752</th>\n",
       "      <td>bits</td>\n",
       "      <td>5050</td>\n",
       "      <td>60</td>\n",
       "    </tr>\n",
       "  </tbody>\n",
       "</table>\n",
       "</div>"
      ],
      "text/plain": [
       "         word  rank  sentence_count\n",
       "2359  wrapped  4001              61\n",
       "2752     bits  5050              60"
      ]
     },
     "execution_count": 37,
     "metadata": {},
     "output_type": "execute_result"
    }
   ],
   "source": [
    "pd.concat([df[rank_above4k].head(1), df[rank_above4k].tail(1)])"
   ]
  },
  {
   "cell_type": "code",
   "execution_count": null,
   "id": "9b3e98d0-5894-41af-a943-4d08e0521c21",
   "metadata": {},
   "outputs": [],
   "source": []
  },
  {
   "cell_type": "markdown",
   "id": "e40a00b9-7e76-4a73-8b64-baa3fc771ecc",
   "metadata": {},
   "source": [
    "# Sampling demo words from each rank bands\n",
    "We randomly pick 5 words from different rank bands as example words."
   ]
  },
  {
   "cell_type": "code",
   "execution_count": 38,
   "id": "8602fec3-08fe-40a3-8020-4d5de374e64b",
   "metadata": {},
   "outputs": [],
   "source": [
    "np.random.seed(42)"
   ]
  },
  {
   "cell_type": "code",
   "execution_count": 39,
   "id": "86cd1b8c-d090-4359-87dc-325003fc427a",
   "metadata": {},
   "outputs": [],
   "source": [
    "def sample(dfs: [], n:int):\n",
    "    sample_dfs = []\n",
    "    for df in dfs:\n",
    "        sample_dfs.append(df.sample(n=n))\n",
    "    return pd.concat(sample_dfs)"
   ]
  },
  {
   "cell_type": "code",
   "execution_count": 40,
   "id": "1c2bdf7d-d989-4190-a414-916659cf183e",
   "metadata": {},
   "outputs": [],
   "source": [
    "sample_df = sample(\n",
    "    dfs=[df[rank_below1k], df[rank_1k_2k], df[rank_2k_3k], df[rank_3k_4k], df[rank_above4k]],\n",
    "    n=1)"
   ]
  },
  {
   "cell_type": "code",
   "execution_count": 41,
   "id": "0207c87b-d087-4008-ac09-05d9071c7303",
   "metadata": {},
   "outputs": [
    {
     "data": {
      "text/html": [
       "<div>\n",
       "<style scoped>\n",
       "    .dataframe tbody tr th:only-of-type {\n",
       "        vertical-align: middle;\n",
       "    }\n",
       "\n",
       "    .dataframe tbody tr th {\n",
       "        vertical-align: top;\n",
       "    }\n",
       "\n",
       "    .dataframe thead th {\n",
       "        text-align: right;\n",
       "    }\n",
       "</style>\n",
       "<table border=\"1\" class=\"dataframe\">\n",
       "  <thead>\n",
       "    <tr style=\"text-align: right;\">\n",
       "      <th></th>\n",
       "      <th>word</th>\n",
       "      <th>rank</th>\n",
       "      <th>sentence_count</th>\n",
       "    </tr>\n",
       "  </thead>\n",
       "  <tbody>\n",
       "    <tr>\n",
       "      <th>49</th>\n",
       "      <td>real</td>\n",
       "      <td>250</td>\n",
       "      <td>551</td>\n",
       "    </tr>\n",
       "    <tr>\n",
       "      <th>1097</th>\n",
       "      <td>demand</td>\n",
       "      <td>1676</td>\n",
       "      <td>33</td>\n",
       "    </tr>\n",
       "    <tr>\n",
       "      <th>1864</th>\n",
       "      <td>driven</td>\n",
       "      <td>2964</td>\n",
       "      <td>87</td>\n",
       "    </tr>\n",
       "    <tr>\n",
       "      <th>2338</th>\n",
       "      <td>promises</td>\n",
       "      <td>3956</td>\n",
       "      <td>18</td>\n",
       "    </tr>\n",
       "    <tr>\n",
       "      <th>2443</th>\n",
       "      <td>wallace</td>\n",
       "      <td>4233</td>\n",
       "      <td>21</td>\n",
       "    </tr>\n",
       "  </tbody>\n",
       "</table>\n",
       "</div>"
      ],
      "text/plain": [
       "          word  rank  sentence_count\n",
       "49        real   250             551\n",
       "1097    demand  1676              33\n",
       "1864    driven  2964              87\n",
       "2338  promises  3956              18\n",
       "2443   wallace  4233              21"
      ]
     },
     "execution_count": 41,
     "metadata": {},
     "output_type": "execute_result"
    }
   ],
   "source": [
    "sample_df"
   ]
  },
  {
   "cell_type": "markdown",
   "id": "d482b972-3875-4087-b0bb-a439563fe759",
   "metadata": {},
   "source": [
    "# Write demo words to file"
   ]
  },
  {
   "cell_type": "code",
   "execution_count": 42,
   "id": "1c3aac45-7436-4fb3-bf98-dd1522635327",
   "metadata": {},
   "outputs": [],
   "source": [
    "sample_df_final = sample_df"
   ]
  },
  {
   "cell_type": "code",
   "execution_count": 43,
   "id": "7fa366e6-f153-4177-a901-f9abe9a7b6a6",
   "metadata": {},
   "outputs": [],
   "source": [
    "sample_df_final.to_csv('data/sample_words.csv', index=False) "
   ]
  },
  {
   "cell_type": "code",
   "execution_count": null,
   "id": "d7db304b-390d-44af-b0f1-1f33f2e7fbcc",
   "metadata": {},
   "outputs": [],
   "source": []
  },
  {
   "cell_type": "markdown",
   "id": "7a13e1b2-95e8-4130-9439-725c32fa15ff",
   "metadata": {},
   "source": [
    "# Sampling evaluation words from each rank bands\n",
    "We randomly pick 10 words from different rank bands as evaluation words."
   ]
  },
  {
   "cell_type": "code",
   "execution_count": 66,
   "id": "13b072bb-b13a-4c8d-8268-07b1b708b623",
   "metadata": {},
   "outputs": [],
   "source": [
    "np.random.seed(52)"
   ]
  },
  {
   "cell_type": "code",
   "execution_count": 67,
   "id": "a6f34ee3-ec08-4af5-9302-d798b3839826",
   "metadata": {},
   "outputs": [],
   "source": [
    "eval_df = sample(\n",
    "    dfs=[df[rank_below1k], df[rank_1k_2k], df[rank_2k_3k], df[rank_3k_4k], df[rank_above4k]],\n",
    "    n=1)"
   ]
  },
  {
   "cell_type": "code",
   "execution_count": 68,
   "id": "f05d6bf4-45d3-4fc7-9aab-5f997ccb7b04",
   "metadata": {},
   "outputs": [
    {
     "data": {
      "text/html": [
       "<div>\n",
       "<style scoped>\n",
       "    .dataframe tbody tr th:only-of-type {\n",
       "        vertical-align: middle;\n",
       "    }\n",
       "\n",
       "    .dataframe tbody tr th {\n",
       "        vertical-align: top;\n",
       "    }\n",
       "\n",
       "    .dataframe thead th {\n",
       "        text-align: right;\n",
       "    }\n",
       "</style>\n",
       "<table border=\"1\" class=\"dataframe\">\n",
       "  <thead>\n",
       "    <tr style=\"text-align: right;\">\n",
       "      <th></th>\n",
       "      <th>word</th>\n",
       "      <th>rank</th>\n",
       "      <th>sentence_count</th>\n",
       "    </tr>\n",
       "  </thead>\n",
       "  <tbody>\n",
       "    <tr>\n",
       "      <th>420</th>\n",
       "      <td>value</td>\n",
       "      <td>740</td>\n",
       "      <td>41</td>\n",
       "    </tr>\n",
       "    <tr>\n",
       "      <th>978</th>\n",
       "      <td>spirit</td>\n",
       "      <td>1510</td>\n",
       "      <td>284</td>\n",
       "    </tr>\n",
       "    <tr>\n",
       "      <th>1310</th>\n",
       "      <td>lying</td>\n",
       "      <td>2012</td>\n",
       "      <td>247</td>\n",
       "    </tr>\n",
       "    <tr>\n",
       "      <th>2065</th>\n",
       "      <td>sandy</td>\n",
       "      <td>3363</td>\n",
       "      <td>37</td>\n",
       "    </tr>\n",
       "    <tr>\n",
       "      <th>2446</th>\n",
       "      <td>stake</td>\n",
       "      <td>4240</td>\n",
       "      <td>32</td>\n",
       "    </tr>\n",
       "  </tbody>\n",
       "</table>\n",
       "</div>"
      ],
      "text/plain": [
       "        word  rank  sentence_count\n",
       "420    value   740              41\n",
       "978   spirit  1510             284\n",
       "1310   lying  2012             247\n",
       "2065   sandy  3363              37\n",
       "2446   stake  4240              32"
      ]
     },
     "execution_count": 68,
     "metadata": {},
     "output_type": "execute_result"
    }
   ],
   "source": [
    "eval_df"
   ]
  },
  {
   "cell_type": "markdown",
   "id": "8da9b0cd-390c-4330-b169-e702b37405fe",
   "metadata": {},
   "source": [
    "# Write eval words to file"
   ]
  },
  {
   "cell_type": "code",
   "execution_count": 69,
   "id": "bee0afc3-f64b-4d83-9c2d-0ab47e45fd78",
   "metadata": {},
   "outputs": [],
   "source": [
    "eval_df_final = eval_df"
   ]
  },
  {
   "cell_type": "code",
   "execution_count": 70,
   "id": "c81310b1-ae1e-4e23-b3cd-c0f43f5a08fd",
   "metadata": {},
   "outputs": [],
   "source": [
    "eval_df_final.to_csv('data/eval_words.csv', index=False) "
   ]
  }
 ],
 "metadata": {
  "kernelspec": {
   "display_name": "Python 3",
   "language": "python",
   "name": "python3"
  },
  "language_info": {
   "codemirror_mode": {
    "name": "ipython",
    "version": 3
   },
   "file_extension": ".py",
   "mimetype": "text/x-python",
   "name": "python",
   "nbconvert_exporter": "python",
   "pygments_lexer": "ipython3",
   "version": "3.6.13"
  }
 },
 "nbformat": 4,
 "nbformat_minor": 5
}
