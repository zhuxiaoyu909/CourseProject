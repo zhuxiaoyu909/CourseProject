{
 "cells": [
  {
   "cell_type": "markdown",
   "id": "756e1f0e-17d6-453d-986b-b58f0955c33b",
   "metadata": {},
   "source": [
    "# Setup Environment"
   ]
  },
  {
   "cell_type": "code",
   "execution_count": 99,
   "id": "0329e8d5-3177-448b-8fda-a823dc795915",
   "metadata": {},
   "outputs": [],
   "source": [
    "from working_dir import set_working_dir"
   ]
  },
  {
   "cell_type": "code",
   "execution_count": 100,
   "id": "bd84d787-c54b-4567-b6e5-d2c4e8e813d0",
   "metadata": {},
   "outputs": [
    {
     "name": "stdout",
     "output_type": "stream",
     "text": [
      "Current working directory: D:\\git\\CS410-Project\n"
     ]
    }
   ],
   "source": [
    "set_working_dir()"
   ]
  },
  {
   "cell_type": "code",
   "execution_count": 101,
   "id": "c4740168-4121-47b1-be8b-1ae5d9507c07",
   "metadata": {},
   "outputs": [
    {
     "name": "stdout",
     "output_type": "stream",
     "text": [
      "The autoreload extension is already loaded. To reload it, use:\n",
      "  %reload_ext autoreload\n"
     ]
    }
   ],
   "source": [
    "%load_ext autoreload\n",
    "%autoreload 2"
   ]
  },
  {
   "cell_type": "markdown",
   "id": "6c1a7c57-a7a0-4628-91a5-45cd1756a4ef",
   "metadata": {},
   "source": [
    "# Import libraries"
   ]
  },
  {
   "cell_type": "code",
   "execution_count": 102,
   "id": "83e28fc1-0ce5-47e3-8ecc-a6d36726430c",
   "metadata": {},
   "outputs": [],
   "source": [
    "from word_app import create_app\n",
    "import pandas as pd\n",
    "from ndcg import NDCG"
   ]
  },
  {
   "cell_type": "code",
   "execution_count": 103,
   "id": "3f7d69cc-9f1a-4652-bd94-bbfb309de2f1",
   "metadata": {},
   "outputs": [],
   "source": [
    "pd.set_option('max_colwidth', 400)"
   ]
  },
  {
   "cell_type": "markdown",
   "id": "5ce650b3-6409-4528-89f7-2e8c5e2004ff",
   "metadata": {},
   "source": [
    "# Evaluation query list"
   ]
  },
  {
   "cell_type": "code",
   "execution_count": 104,
   "id": "8809bf37-f136-4212-b588-1e75ab268f0f",
   "metadata": {},
   "outputs": [],
   "source": [
    "qeuries_df = pd.read_csv(\"data/eval_queries.csv\")"
   ]
  },
  {
   "cell_type": "code",
   "execution_count": 105,
   "id": "83b775fb-3a26-4adb-a0ec-c20fa5d84a6b",
   "metadata": {},
   "outputs": [
    {
     "data": {
      "text/html": [
       "<div>\n",
       "<style scoped>\n",
       "    .dataframe tbody tr th:only-of-type {\n",
       "        vertical-align: middle;\n",
       "    }\n",
       "\n",
       "    .dataframe tbody tr th {\n",
       "        vertical-align: top;\n",
       "    }\n",
       "\n",
       "    .dataframe thead th {\n",
       "        text-align: right;\n",
       "    }\n",
       "</style>\n",
       "<table border=\"1\" class=\"dataframe\">\n",
       "  <thead>\n",
       "    <tr style=\"text-align: right;\">\n",
       "      <th></th>\n",
       "      <th>word</th>\n",
       "      <th>sentence</th>\n",
       "      <th>gain</th>\n",
       "    </tr>\n",
       "  </thead>\n",
       "  <tbody>\n",
       "    <tr>\n",
       "      <th>0</th>\n",
       "      <td>value</td>\n",
       "      <td>`` No harm done ; I left nothing of value in it .</td>\n",
       "      <td>3</td>\n",
       "    </tr>\n",
       "    <tr>\n",
       "      <th>1</th>\n",
       "      <td>value</td>\n",
       "      <td>I wonder what the Copp girls value this house at .</td>\n",
       "      <td>3</td>\n",
       "    </tr>\n",
       "    <tr>\n",
       "      <th>2</th>\n",
       "      <td>value</td>\n",
       "      <td>\"`` That 's the only thing of any value I have in the world -- now , '' he said .\"</td>\n",
       "      <td>2</td>\n",
       "    </tr>\n",
       "    <tr>\n",
       "      <th>3</th>\n",
       "      <td>value</td>\n",
       "      <td>\"You always put too high a value on beauty , Avery .\"</td>\n",
       "      <td>2</td>\n",
       "    </tr>\n",
       "    <tr>\n",
       "      <th>4</th>\n",
       "      <td>value</td>\n",
       "      <td>She would see that some people appreciated him at his real value .</td>\n",
       "      <td>1</td>\n",
       "    </tr>\n",
       "    <tr>\n",
       "      <th>5</th>\n",
       "      <td>spirit</td>\n",
       "      <td>\"`` That 's the right spirit , my dear .\"</td>\n",
       "      <td>3</td>\n",
       "    </tr>\n",
       "    <tr>\n",
       "      <th>6</th>\n",
       "      <td>spirit</td>\n",
       "      <td>\"You see , the woman had no proper spirit .\"</td>\n",
       "      <td>1</td>\n",
       "    </tr>\n",
       "    <tr>\n",
       "      <th>7</th>\n",
       "      <td>spirit</td>\n",
       "      <td>\"He 's such a restless spirit , it would do him good .\"</td>\n",
       "      <td>2</td>\n",
       "    </tr>\n",
       "    <tr>\n",
       "      <th>8</th>\n",
       "      <td>spirit</td>\n",
       "      <td>But this the Spirit said could not be done .</td>\n",
       "      <td>3</td>\n",
       "    </tr>\n",
       "    <tr>\n",
       "      <th>9</th>\n",
       "      <td>spirit</td>\n",
       "      <td>The Spirit stopped ; the hand was pointed elsewhere .</td>\n",
       "      <td>2</td>\n",
       "    </tr>\n",
       "    <tr>\n",
       "      <th>10</th>\n",
       "      <td>lying</td>\n",
       "      <td>\"` Gracious , man , ' said she , ` you are lying there yet ?\"</td>\n",
       "      <td>3</td>\n",
       "    </tr>\n",
       "    <tr>\n",
       "      <th>11</th>\n",
       "      <td>lying</td>\n",
       "      <td>The girl was lying across it ; he thought she was unconscious .</td>\n",
       "      <td>1</td>\n",
       "    </tr>\n",
       "    <tr>\n",
       "      <th>12</th>\n",
       "      <td>lying</td>\n",
       "      <td>\"`` My tongue is not a lying one , Mrs. Carewe .\"</td>\n",
       "      <td>2</td>\n",
       "    </tr>\n",
       "    <tr>\n",
       "      <th>13</th>\n",
       "      <td>lying</td>\n",
       "      <td>Tell me what man that was whom we saw lying dead ? ''</td>\n",
       "      <td>2</td>\n",
       "    </tr>\n",
       "    <tr>\n",
       "      <th>14</th>\n",
       "      <td>lying</td>\n",
       "      <td>\"`` She is lying down on Mother 's bed , and feels better .\"</td>\n",
       "      <td>3</td>\n",
       "    </tr>\n",
       "    <tr>\n",
       "      <th>15</th>\n",
       "      <td>sandy</td>\n",
       "      <td>By and by they came to another sandy beach like the first one .</td>\n",
       "      <td>3</td>\n",
       "    </tr>\n",
       "    <tr>\n",
       "      <th>16</th>\n",
       "      <td>sandy</td>\n",
       "      <td>Old Lady Lloyd found a wealth of Mayflowers on the sandy hill .</td>\n",
       "      <td>2</td>\n",
       "    </tr>\n",
       "    <tr>\n",
       "      <th>17</th>\n",
       "      <td>sandy</td>\n",
       "      <td>\"That shore is sandy , and we rowed along it within three bowshots .\"</td>\n",
       "      <td>1</td>\n",
       "    </tr>\n",
       "    <tr>\n",
       "      <th>18</th>\n",
       "      <td>sandy</td>\n",
       "      <td>When they reached the bank of the Big River they very carefully crawled down to a sandy beach .</td>\n",
       "      <td>1</td>\n",
       "    </tr>\n",
       "    <tr>\n",
       "      <th>19</th>\n",
       "      <td>sandy</td>\n",
       "      <td>\"Paul , with a whistle , sauntered down the sandy lane , thinking of Joan .\"</td>\n",
       "      <td>1</td>\n",
       "    </tr>\n",
       "    <tr>\n",
       "      <th>20</th>\n",
       "      <td>stake</td>\n",
       "      <td>There was n't time to finish cutting off the stake .</td>\n",
       "      <td>3</td>\n",
       "    </tr>\n",
       "    <tr>\n",
       "      <th>21</th>\n",
       "      <td>stake</td>\n",
       "      <td>\"So , stand off please , and let me have a go at the stake . ''\"</td>\n",
       "      <td>2</td>\n",
       "    </tr>\n",
       "    <tr>\n",
       "      <th>22</th>\n",
       "      <td>stake</td>\n",
       "      <td>\"My honor is at stake , '' said Anne solemnly .\"</td>\n",
       "      <td>1</td>\n",
       "    </tr>\n",
       "    <tr>\n",
       "      <th>23</th>\n",
       "      <td>stake</td>\n",
       "      <td>\"Then he started on once more , dragging the stake after him .\"</td>\n",
       "      <td>2</td>\n",
       "    </tr>\n",
       "    <tr>\n",
       "      <th>24</th>\n",
       "      <td>stake</td>\n",
       "      <td>\"That is , he could run , but after him dragged a piece of the stake .\"</td>\n",
       "      <td>3</td>\n",
       "    </tr>\n",
       "  </tbody>\n",
       "</table>\n",
       "</div>"
      ],
      "text/plain": [
       "      word  \\\n",
       "0    value   \n",
       "1    value   \n",
       "2    value   \n",
       "3    value   \n",
       "4    value   \n",
       "5   spirit   \n",
       "6   spirit   \n",
       "7   spirit   \n",
       "8   spirit   \n",
       "9   spirit   \n",
       "10   lying   \n",
       "11   lying   \n",
       "12   lying   \n",
       "13   lying   \n",
       "14   lying   \n",
       "15   sandy   \n",
       "16   sandy   \n",
       "17   sandy   \n",
       "18   sandy   \n",
       "19   sandy   \n",
       "20   stake   \n",
       "21   stake   \n",
       "22   stake   \n",
       "23   stake   \n",
       "24   stake   \n",
       "\n",
       "                                                                                           sentence  \\\n",
       "0                                                 `` No harm done ; I left nothing of value in it .   \n",
       "1                                                I wonder what the Copp girls value this house at .   \n",
       "2                \"`` That 's the only thing of any value I have in the world -- now , '' he said .\"   \n",
       "3                                             \"You always put too high a value on beauty , Avery .\"   \n",
       "4                                She would see that some people appreciated him at his real value .   \n",
       "5                                                         \"`` That 's the right spirit , my dear .\"   \n",
       "6                                                      \"You see , the woman had no proper spirit .\"   \n",
       "7                                           \"He 's such a restless spirit , it would do him good .\"   \n",
       "8                                                      But this the Spirit said could not be done .   \n",
       "9                                             The Spirit stopped ; the hand was pointed elsewhere .   \n",
       "10                                    \"` Gracious , man , ' said she , ` you are lying there yet ?\"   \n",
       "11                                  The girl was lying across it ; he thought she was unconscious .   \n",
       "12                                                \"`` My tongue is not a lying one , Mrs. Carewe .\"   \n",
       "13                                            Tell me what man that was whom we saw lying dead ? ''   \n",
       "14                                     \"`` She is lying down on Mother 's bed , and feels better .\"   \n",
       "15                                  By and by they came to another sandy beach like the first one .   \n",
       "16                                  Old Lady Lloyd found a wealth of Mayflowers on the sandy hill .   \n",
       "17                            \"That shore is sandy , and we rowed along it within three bowshots .\"   \n",
       "18  When they reached the bank of the Big River they very carefully crawled down to a sandy beach .   \n",
       "19                     \"Paul , with a whistle , sauntered down the sandy lane , thinking of Joan .\"   \n",
       "20                                             There was n't time to finish cutting off the stake .   \n",
       "21                                 \"So , stand off please , and let me have a go at the stake . ''\"   \n",
       "22                                                 \"My honor is at stake , '' said Anne solemnly .\"   \n",
       "23                                  \"Then he started on once more , dragging the stake after him .\"   \n",
       "24                          \"That is , he could run , but after him dragged a piece of the stake .\"   \n",
       "\n",
       "    gain  \n",
       "0      3  \n",
       "1      3  \n",
       "2      2  \n",
       "3      2  \n",
       "4      1  \n",
       "5      3  \n",
       "6      1  \n",
       "7      2  \n",
       "8      3  \n",
       "9      2  \n",
       "10     3  \n",
       "11     1  \n",
       "12     2  \n",
       "13     2  \n",
       "14     3  \n",
       "15     3  \n",
       "16     2  \n",
       "17     1  \n",
       "18     1  \n",
       "19     1  \n",
       "20     3  \n",
       "21     2  \n",
       "22     1  \n",
       "23     2  \n",
       "24     3  "
      ]
     },
     "execution_count": 105,
     "metadata": {},
     "output_type": "execute_result"
    }
   ],
   "source": [
    "qeuries_df"
   ]
  },
  {
   "cell_type": "markdown",
   "id": "81f8d534-f1e3-4e9f-9cbc-8c4243e065b5",
   "metadata": {},
   "source": [
    "# Cranfield Evaluation(NDCG)\n",
    "We do evaluation based on the sample queries we have prepared above."
   ]
  },
  {
   "cell_type": "code",
   "execution_count": 106,
   "id": "ad450abc-10ad-476f-b5fa-c1d45686f21f",
   "metadata": {},
   "outputs": [
    {
     "name": "stderr",
     "output_type": "stream",
     "text": [
      "[nltk_data] Downloading package averaged_perceptron_tagger to\n",
      "[nltk_data]     C:\\Users\\weich\\AppData\\Roaming\\nltk_data...\n",
      "[nltk_data]   Package averaged_perceptron_tagger is already up-to-\n",
      "[nltk_data]       date!\n"
     ]
    }
   ],
   "source": [
    "app = create_app()"
   ]
  },
  {
   "cell_type": "code",
   "execution_count": 107,
   "id": "9019ac6a-ac0d-4346-9e1b-40d3461ed67e",
   "metadata": {},
   "outputs": [],
   "source": [
    "ndcg = NDCG(\"data/eval_queries.csv\")"
   ]
  },
  {
   "cell_type": "code",
   "execution_count": 108,
   "id": "9ff8b338-6314-4c67-9329-a223883fe7a5",
   "metadata": {},
   "outputs": [
    {
     "data": {
      "text/plain": [
       "['value', 'spirit', 'lying', 'sandy', 'stake']"
      ]
     },
     "execution_count": 108,
     "metadata": {},
     "output_type": "execute_result"
    }
   ],
   "source": [
    "words = qeuries_df[\"word\"].unique().tolist()\n",
    "words"
   ]
  },
  {
   "cell_type": "code",
   "execution_count": 109,
   "id": "697a89d8-0e33-474f-98db-23de8106e60c",
   "metadata": {},
   "outputs": [],
   "source": [
    "scores = {}\n",
    "for word in words:\n",
    "    word_result = app.search(word, n_results=5)\n",
    "    sentences = [str(s) for s in word_result.ranked_sentences]\n",
    "    scores[word] = round(ndcg.score(word, sentences), 3)\n",
    "scores_df = pd.DataFrame(scores.items(), columns=['word', 'score'])"
   ]
  },
  {
   "cell_type": "code",
   "execution_count": 110,
   "id": "55c90cc5-6edd-41c8-bf2d-662ec3b4e26d",
   "metadata": {},
   "outputs": [
    {
     "name": "stdout",
     "output_type": "stream",
     "text": [
      "Average Score: 0.826\n"
     ]
    }
   ],
   "source": [
    "print(f\"Average Score: {round(scores_df['score'].mean(), 3)}\")"
   ]
  },
  {
   "cell_type": "code",
   "execution_count": 111,
   "id": "f0411d4b-71dc-4b98-a274-c7d6fff0faeb",
   "metadata": {},
   "outputs": [
    {
     "data": {
      "text/html": [
       "<div>\n",
       "<style scoped>\n",
       "    .dataframe tbody tr th:only-of-type {\n",
       "        vertical-align: middle;\n",
       "    }\n",
       "\n",
       "    .dataframe tbody tr th {\n",
       "        vertical-align: top;\n",
       "    }\n",
       "\n",
       "    .dataframe thead th {\n",
       "        text-align: right;\n",
       "    }\n",
       "</style>\n",
       "<table border=\"1\" class=\"dataframe\">\n",
       "  <thead>\n",
       "    <tr style=\"text-align: right;\">\n",
       "      <th></th>\n",
       "      <th>word</th>\n",
       "      <th>score</th>\n",
       "    </tr>\n",
       "  </thead>\n",
       "  <tbody>\n",
       "    <tr>\n",
       "      <th>0</th>\n",
       "      <td>value</td>\n",
       "      <td>1.000</td>\n",
       "    </tr>\n",
       "    <tr>\n",
       "      <th>1</th>\n",
       "      <td>spirit</td>\n",
       "      <td>0.839</td>\n",
       "    </tr>\n",
       "    <tr>\n",
       "      <th>2</th>\n",
       "      <td>lying</td>\n",
       "      <td>0.769</td>\n",
       "    </tr>\n",
       "    <tr>\n",
       "      <th>3</th>\n",
       "      <td>sandy</td>\n",
       "      <td>0.853</td>\n",
       "    </tr>\n",
       "    <tr>\n",
       "      <th>4</th>\n",
       "      <td>stake</td>\n",
       "      <td>0.667</td>\n",
       "    </tr>\n",
       "  </tbody>\n",
       "</table>\n",
       "</div>"
      ],
      "text/plain": [
       "     word  score\n",
       "0   value  1.000\n",
       "1  spirit  0.839\n",
       "2   lying  0.769\n",
       "3   sandy  0.853\n",
       "4   stake  0.667"
      ]
     },
     "execution_count": 111,
     "metadata": {},
     "output_type": "execute_result"
    }
   ],
   "source": [
    "scores_df"
   ]
  }
 ],
 "metadata": {
  "kernelspec": {
   "display_name": "Python 3",
   "language": "python",
   "name": "python3"
  },
  "language_info": {
   "codemirror_mode": {
    "name": "ipython",
    "version": 3
   },
   "file_extension": ".py",
   "mimetype": "text/x-python",
   "name": "python",
   "nbconvert_exporter": "python",
   "pygments_lexer": "ipython3",
   "version": "3.6.13"
  }
 },
 "nbformat": 4,
 "nbformat_minor": 5
}
