{
 "cells": [
  {
   "cell_type": "markdown",
   "id": "905ccd0a-f5f6-42a6-a526-0a98fddf1636",
   "metadata": {},
   "source": [
    "# Setup Environment"
   ]
  },
  {
   "cell_type": "code",
   "execution_count": 1,
   "id": "22886d69-99b0-4971-848f-de9a8b309f19",
   "metadata": {},
   "outputs": [],
   "source": [
    "from working_dir import set_working_dir"
   ]
  },
  {
   "cell_type": "code",
   "execution_count": 2,
   "id": "4b036d96-16ae-4f4a-b98c-377ab9c77650",
   "metadata": {},
   "outputs": [
    {
     "name": "stdout",
     "output_type": "stream",
     "text": [
      "Current working directory: /Users/jiaxi/Documents/GitHub/CS410-Project\n"
     ]
    }
   ],
   "source": [
    "set_working_dir()"
   ]
  },
  {
   "cell_type": "code",
   "execution_count": 3,
   "id": "af235350-ae96-4c9a-a252-3ff703279fc8",
   "metadata": {},
   "outputs": [],
   "source": [
    "%load_ext autoreload\n",
    "%autoreload 2"
   ]
  },
  {
   "cell_type": "markdown",
   "id": "4680199a-31b0-4dbc-bcec-5ab5a1f32189",
   "metadata": {},
   "source": [
    "# Import Libraries"
   ]
  },
  {
   "cell_type": "code",
   "execution_count": 4,
   "id": "59a09e1f-380f-4663-8ff8-26c33c7e2264",
   "metadata": {},
   "outputs": [],
   "source": [
    "import pandas as pd\n",
    "import dtale\n",
    "import glob\n",
    "from cbfile import CBFile\n",
    "import seaborn as sns\n",
    "import matplotlib.pyplot as plt"
   ]
  },
  {
   "cell_type": "code",
   "execution_count": 5,
   "id": "943077f9-a65c-4f75-a1a0-8b2a4cc81caa",
   "metadata": {},
   "outputs": [],
   "source": [
    "%matplotlib inline"
   ]
  },
  {
   "cell_type": "code",
   "execution_count": 6,
   "id": "8ac97d77-f00a-4167-b066-6ee1a6743344",
   "metadata": {},
   "outputs": [],
   "source": [
    "pd.set_option('max_colwidth', 400)"
   ]
  },
  {
   "cell_type": "markdown",
   "id": "b107d2a7-952f-4ab5-80b7-760b3ee38c14",
   "metadata": {},
   "source": [
    "# Data Exploration\n",
    "1) Download Facebook Children Story Project [Training Data](http://www.thespermwhale.com/jaseweston/babi/CBTest.tgz), extract to data foler.\n"
   ]
  },
  {
   "cell_type": "code",
   "execution_count": 7,
   "id": "3ceb68b3-2d43-4ef8-a8d5-609760ea48a3",
   "metadata": {},
   "outputs": [
    {
     "data": {
      "text/html": [
       "<div>\n",
       "<style scoped>\n",
       "    .dataframe tbody tr th:only-of-type {\n",
       "        vertical-align: middle;\n",
       "    }\n",
       "\n",
       "    .dataframe tbody tr th {\n",
       "        vertical-align: top;\n",
       "    }\n",
       "\n",
       "    .dataframe thead th {\n",
       "        text-align: right;\n",
       "    }\n",
       "</style>\n",
       "<table border=\"1\" class=\"dataframe\">\n",
       "  <thead>\n",
       "    <tr style=\"text-align: right;\">\n",
       "      <th></th>\n",
       "      <th>0</th>\n",
       "    </tr>\n",
       "  </thead>\n",
       "  <tbody>\n",
       "    <tr>\n",
       "      <th>0</th>\n",
       "      <td>data/CBTest/data/cbtest_V_train.txt</td>\n",
       "    </tr>\n",
       "    <tr>\n",
       "      <th>1</th>\n",
       "      <td>data/CBTest/data/cbt_test.txt</td>\n",
       "    </tr>\n",
       "    <tr>\n",
       "      <th>2</th>\n",
       "      <td>data/CBTest/data/cbtest_P_train.txt</td>\n",
       "    </tr>\n",
       "    <tr>\n",
       "      <th>3</th>\n",
       "      <td>data/CBTest/data/cbtest_NE_valid_2000ex.txt</td>\n",
       "    </tr>\n",
       "    <tr>\n",
       "      <th>4</th>\n",
       "      <td>data/CBTest/data/cbtest_NE_train_test.txt</td>\n",
       "    </tr>\n",
       "    <tr>\n",
       "      <th>5</th>\n",
       "      <td>data/CBTest/data/cbtest_P_valid_2000ex.txt</td>\n",
       "    </tr>\n",
       "    <tr>\n",
       "      <th>6</th>\n",
       "      <td>data/CBTest/data/cbt_train.txt</td>\n",
       "    </tr>\n",
       "    <tr>\n",
       "      <th>7</th>\n",
       "      <td>data/CBTest/data/cbtest_CN_train.txt</td>\n",
       "    </tr>\n",
       "    <tr>\n",
       "      <th>8</th>\n",
       "      <td>data/CBTest/data/cbt_valid.txt</td>\n",
       "    </tr>\n",
       "    <tr>\n",
       "      <th>9</th>\n",
       "      <td>data/CBTest/data/cbtest_CN_test_2500ex.txt</td>\n",
       "    </tr>\n",
       "    <tr>\n",
       "      <th>10</th>\n",
       "      <td>data/CBTest/data/cbtest_NE_train.txt</td>\n",
       "    </tr>\n",
       "    <tr>\n",
       "      <th>11</th>\n",
       "      <td>data/CBTest/data/cbtest_NE_test_2500ex.txt</td>\n",
       "    </tr>\n",
       "    <tr>\n",
       "      <th>12</th>\n",
       "      <td>data/CBTest/data/cbtest_V_test_2500ex.txt</td>\n",
       "    </tr>\n",
       "    <tr>\n",
       "      <th>13</th>\n",
       "      <td>data/CBTest/data/cbtest_CN_valid_2000ex.txt</td>\n",
       "    </tr>\n",
       "    <tr>\n",
       "      <th>14</th>\n",
       "      <td>data/CBTest/data/cbtest_P_test_2500ex.txt</td>\n",
       "    </tr>\n",
       "    <tr>\n",
       "      <th>15</th>\n",
       "      <td>data/CBTest/data/cbtest_V_valid_2000ex.txt</td>\n",
       "    </tr>\n",
       "  </tbody>\n",
       "</table>\n",
       "</div>"
      ],
      "text/plain": [
       "                                              0\n",
       "0           data/CBTest/data/cbtest_V_train.txt\n",
       "1                 data/CBTest/data/cbt_test.txt\n",
       "2           data/CBTest/data/cbtest_P_train.txt\n",
       "3   data/CBTest/data/cbtest_NE_valid_2000ex.txt\n",
       "4     data/CBTest/data/cbtest_NE_train_test.txt\n",
       "5    data/CBTest/data/cbtest_P_valid_2000ex.txt\n",
       "6                data/CBTest/data/cbt_train.txt\n",
       "7          data/CBTest/data/cbtest_CN_train.txt\n",
       "8                data/CBTest/data/cbt_valid.txt\n",
       "9    data/CBTest/data/cbtest_CN_test_2500ex.txt\n",
       "10         data/CBTest/data/cbtest_NE_train.txt\n",
       "11   data/CBTest/data/cbtest_NE_test_2500ex.txt\n",
       "12    data/CBTest/data/cbtest_V_test_2500ex.txt\n",
       "13  data/CBTest/data/cbtest_CN_valid_2000ex.txt\n",
       "14    data/CBTest/data/cbtest_P_test_2500ex.txt\n",
       "15   data/CBTest/data/cbtest_V_valid_2000ex.txt"
      ]
     },
     "execution_count": 7,
     "metadata": {},
     "output_type": "execute_result"
    }
   ],
   "source": [
    "cbtest_dir = \"data/CBTest/data\"\n",
    "files = glob.glob(f\"{cbtest_dir}/*\")\n",
    "df = pd.DataFrame(files)\n",
    "df"
   ]
  },
  {
   "cell_type": "markdown",
   "id": "690a13a5-25c9-4321-8725-ca7f04b868a0",
   "metadata": {},
   "source": [
    "2) The training data is used by Facebook to train algorithms to understand children’s stories and predict the word that was missing from a given sentence in a story. We have reviewed the NE (named entity) file, the CN (common noun) file, the V (verb) file and the P (preposition) file, and they all contained similar structure where there are multiple sets of 21 sentences, with the first 20 used for training and the 21 used as the prediction query. We will remove the 21st sentence in the next \"Data Cleansing\" section for the purpose of our project. We noticed the NE file contains less conversation specific and duplicate sentences compared to the other files, so we've chosen the NE train file for our project."
   ]
  },
  {
   "cell_type": "code",
   "execution_count": 8,
   "id": "afc158ab-9f8a-49b2-bc94-ea46f0526b2b",
   "metadata": {},
   "outputs": [
    {
     "data": {
      "text/plain": [
       "2283099"
      ]
     },
     "execution_count": 8,
     "metadata": {},
     "output_type": "execute_result"
    }
   ],
   "source": [
    "file_path = f\"{cbtest_dir}/cbtest_NE_train.txt\"\n",
    "file = CBFile(file_path = file_path)\n",
    "df = file.to_pandas()\n",
    "len(df)"
   ]
  },
  {
   "cell_type": "markdown",
   "id": "45f8f36a-1689-4544-83e3-0a199bff7dab",
   "metadata": {},
   "source": [
    "3. We noiticed there are duplicate sentences in the data, so we have removed duplicates."
   ]
  },
  {
   "cell_type": "code",
   "execution_count": 9,
   "id": "b81f3bf8-8f06-49de-8dd5-17648e6de909",
   "metadata": {},
   "outputs": [
    {
     "data": {
      "text/plain": [
       "352943"
      ]
     },
     "execution_count": 9,
     "metadata": {},
     "output_type": "execute_result"
    }
   ],
   "source": [
    "df = df.drop_duplicates(subset=[\"sentence\"])\n",
    "len(df)"
   ]
  },
  {
   "cell_type": "markdown",
   "id": "f7f9113f-fa87-4cfc-b355-a9487ee9da43",
   "metadata": {},
   "source": [
    "4) We also noticed quite a few sentences are conversation based and there are some short question and response sentence, so we have explored the word count by sentence below."
   ]
  },
  {
   "cell_type": "code",
   "execution_count": 10,
   "id": "11fefcff-6645-42b4-9a39-45706e29e1e7",
   "metadata": {},
   "outputs": [
    {
     "data": {
      "text/html": [
       "<div>\n",
       "<style scoped>\n",
       "    .dataframe tbody tr th:only-of-type {\n",
       "        vertical-align: middle;\n",
       "    }\n",
       "\n",
       "    .dataframe tbody tr th {\n",
       "        vertical-align: top;\n",
       "    }\n",
       "\n",
       "    .dataframe thead th {\n",
       "        text-align: right;\n",
       "    }\n",
       "</style>\n",
       "<table border=\"1\" class=\"dataframe\">\n",
       "  <thead>\n",
       "    <tr style=\"text-align: right;\">\n",
       "      <th></th>\n",
       "      <th>number</th>\n",
       "      <th>sentence</th>\n",
       "    </tr>\n",
       "  </thead>\n",
       "  <tbody>\n",
       "    <tr>\n",
       "      <th>0</th>\n",
       "      <td>1</td>\n",
       "      <td>Some were abroad ; several were ill ; a few were in prison among the Saracens ; others were captives in the dens of ogres .</td>\n",
       "    </tr>\n",
       "    <tr>\n",
       "      <th>1</th>\n",
       "      <td>2</td>\n",
       "      <td>The end of it was that the king and queen had to sit down alone , one at each end of a very long table , arrayed with plates and glasses for a hundred guests -- for a hundred guests who never came !</td>\n",
       "    </tr>\n",
       "    <tr>\n",
       "      <th>2</th>\n",
       "      <td>3</td>\n",
       "      <td>`` Any soup , my dear ? ''</td>\n",
       "    </tr>\n",
       "    <tr>\n",
       "      <th>3</th>\n",
       "      <td>4</td>\n",
       "      <td>shouted the king , through a speaking-trumpet ; when , suddenly , the air was filled with a sound like the rustling of the wings of birds .</td>\n",
       "    </tr>\n",
       "    <tr>\n",
       "      <th>4</th>\n",
       "      <td>5</td>\n",
       "      <td>Flitter , flitter , flutter , went the noise ; and when the queen looked up , lo and behold !</td>\n",
       "    </tr>\n",
       "    <tr>\n",
       "      <th>5</th>\n",
       "      <td>6</td>\n",
       "      <td>on every seat was a lovely fairy , dressed in green , each with a most interesting-looking parcel in her hand .</td>\n",
       "    </tr>\n",
       "    <tr>\n",
       "      <th>6</th>\n",
       "      <td>7</td>\n",
       "      <td>Do n't you like opening parcels ?</td>\n",
       "    </tr>\n",
       "    <tr>\n",
       "      <th>7</th>\n",
       "      <td>8</td>\n",
       "      <td>The king did , and he was most friendly and polite to the fairies .</td>\n",
       "    </tr>\n",
       "    <tr>\n",
       "      <th>8</th>\n",
       "      <td>9</td>\n",
       "      <td>But the queen , though she saw them distinctly , took no notice of them .</td>\n",
       "    </tr>\n",
       "    <tr>\n",
       "      <th>9</th>\n",
       "      <td>10</td>\n",
       "      <td>You see , she did not believe in fairies , nor in her own eyes , when she saw them .</td>\n",
       "    </tr>\n",
       "    <tr>\n",
       "      <th>10</th>\n",
       "      <td>11</td>\n",
       "      <td>So she talked across the fairies to the king , just as if they had not been there ; but the king behaved as politely as if they were real -- which , of course , they were .</td>\n",
       "    </tr>\n",
       "    <tr>\n",
       "      <th>11</th>\n",
       "      <td>12</td>\n",
       "      <td>When dinner was over , and when the nurse had brought in the baby , all the fairies gave him the most magnificent presents .</td>\n",
       "    </tr>\n",
       "    <tr>\n",
       "      <th>12</th>\n",
       "      <td>13</td>\n",
       "      <td>One offered a purse which could never be empty ; and one a pair of seven-leagued boots ; and another a cap of darkness , that nobody might see the prince when he put it on ; and another a wishing-cap ; and another a carpet , on which , when he sat , he was carried wherever he wished to find himself .</td>\n",
       "    </tr>\n",
       "    <tr>\n",
       "      <th>13</th>\n",
       "      <td>14</td>\n",
       "      <td>Another made him beautiful for ever ; and another , brave ; and another , lucky : but the last fairy of all , a cross old thing , crept up and said , `` My child , you shall be too clever ! ''</td>\n",
       "    </tr>\n",
       "    <tr>\n",
       "      <th>14</th>\n",
       "      <td>15</td>\n",
       "      <td>This fairy 's gift would have pleased the queen , if she had believed in it , more than anything else , because she was so clever herself .</td>\n",
       "    </tr>\n",
       "    <tr>\n",
       "      <th>15</th>\n",
       "      <td>16</td>\n",
       "      <td>But she took no notice at all ; and the fairies went each to her own country , and none of them stayed there at the palace , where nobody believed in them , except the king , a little .</td>\n",
       "    </tr>\n",
       "    <tr>\n",
       "      <th>16</th>\n",
       "      <td>17</td>\n",
       "      <td>But the queen tossed all their nice boots and caps , carpets , purses , swords , and all , away into a dark lumber-room ; for , of course , she thought that they were all nonsense , and merely old rubbish out of books , or pantomime `` properties . ''</td>\n",
       "    </tr>\n",
       "    <tr>\n",
       "      <th>17</th>\n",
       "      <td>18</td>\n",
       "      <td>CHAPTER II .</td>\n",
       "    </tr>\n",
       "    <tr>\n",
       "      <th>18</th>\n",
       "      <td>19</td>\n",
       "      <td>-LCB- Chapter heading picture : p9.jpg -RCB- Prince Prigio and his Family .</td>\n",
       "    </tr>\n",
       "    <tr>\n",
       "      <th>19</th>\n",
       "      <td>20</td>\n",
       "      <td>Well , the little prince grew up .</td>\n",
       "    </tr>\n",
       "    <tr>\n",
       "      <th>20</th>\n",
       "      <td>21</td>\n",
       "      <td>I think I 've told you that his name was XXXXX -- did I not ?\\tPrigio\\t\\tCHAPTER|Flitter|Prigio|Saracens|lumber-room|ogres|p9.jpg|rustling|speaking-trumpet|wishing-cap</td>\n",
       "    </tr>\n",
       "  </tbody>\n",
       "</table>\n",
       "</div>"
      ],
      "text/plain": [
       "    number  \\\n",
       "0        1   \n",
       "1        2   \n",
       "2        3   \n",
       "3        4   \n",
       "4        5   \n",
       "5        6   \n",
       "6        7   \n",
       "7        8   \n",
       "8        9   \n",
       "9       10   \n",
       "10      11   \n",
       "11      12   \n",
       "12      13   \n",
       "13      14   \n",
       "14      15   \n",
       "15      16   \n",
       "16      17   \n",
       "17      18   \n",
       "18      19   \n",
       "19      20   \n",
       "20      21   \n",
       "\n",
       "                                                                                                                                                                                                                                                                                                         sentence  \n",
       "0                                                                                                                                                                                     Some were abroad ; several were ill ; a few were in prison among the Saracens ; others were captives in the dens of ogres .  \n",
       "1                                                                                                          The end of it was that the king and queen had to sit down alone , one at each end of a very long table , arrayed with plates and glasses for a hundred guests -- for a hundred guests who never came !  \n",
       "2                                                                                                                                                                                                                                                                                      `` Any soup , my dear ? ''  \n",
       "3                                                                                                                                                                     shouted the king , through a speaking-trumpet ; when , suddenly , the air was filled with a sound like the rustling of the wings of birds .  \n",
       "4                                                                                                                                                                                                                   Flitter , flitter , flutter , went the noise ; and when the queen looked up , lo and behold !  \n",
       "5                                                                                                                                                                                                 on every seat was a lovely fairy , dressed in green , each with a most interesting-looking parcel in her hand .  \n",
       "6                                                                                                                                                                                                                                                                               Do n't you like opening parcels ?  \n",
       "7                                                                                                                                                                                                                                             The king did , and he was most friendly and polite to the fairies .  \n",
       "8                                                                                                                                                                                                                                       But the queen , though she saw them distinctly , took no notice of them .  \n",
       "9                                                                                                                                                                                                                            You see , she did not believe in fairies , nor in her own eyes , when she saw them .  \n",
       "10                                                                                                                                   So she talked across the fairies to the king , just as if they had not been there ; but the king behaved as politely as if they were real -- which , of course , they were .  \n",
       "11                                                                                                                                                                                   When dinner was over , and when the nurse had brought in the baby , all the fairies gave him the most magnificent presents .  \n",
       "12  One offered a purse which could never be empty ; and one a pair of seven-leagued boots ; and another a cap of darkness , that nobody might see the prince when he put it on ; and another a wishing-cap ; and another a carpet , on which , when he sat , he was carried wherever he wished to find himself .  \n",
       "13                                                                                                               Another made him beautiful for ever ; and another , brave ; and another , lucky : but the last fairy of all , a cross old thing , crept up and said , `` My child , you shall be too clever ! ''  \n",
       "14                                                                                                                                                                    This fairy 's gift would have pleased the queen , if she had believed in it , more than anything else , because she was so clever herself .  \n",
       "15                                                                                                                      But she took no notice at all ; and the fairies went each to her own country , and none of them stayed there at the palace , where nobody believed in them , except the king , a little .  \n",
       "16                                                    But the queen tossed all their nice boots and caps , carpets , purses , swords , and all , away into a dark lumber-room ; for , of course , she thought that they were all nonsense , and merely old rubbish out of books , or pantomime `` properties . ''  \n",
       "17                                                                                                                                                                                                                                                                                                   CHAPTER II .  \n",
       "18                                                                                                                                                                                                                                    -LCB- Chapter heading picture : p9.jpg -RCB- Prince Prigio and his Family .  \n",
       "19                                                                                                                                                                                                                                                                             Well , the little prince grew up .  \n",
       "20                                                                                                                                        I think I 've told you that his name was XXXXX -- did I not ?\\tPrigio\\t\\tCHAPTER|Flitter|Prigio|Saracens|lumber-room|ogres|p9.jpg|rustling|speaking-trumpet|wishing-cap  "
      ]
     },
     "execution_count": 10,
     "metadata": {},
     "output_type": "execute_result"
    }
   ],
   "source": [
    "df.head(21)"
   ]
  },
  {
   "cell_type": "code",
   "execution_count": 11,
   "id": "38885021-dcbe-45dc-9246-586ea15e96d0",
   "metadata": {},
   "outputs": [],
   "source": [
    "def count_word(sentence: str):\n",
    "    words = sentence.split()\n",
    "    return len(words)\n",
    "\n",
    "df[\"word_count\"] = df[\"sentence\"].apply(count_word)"
   ]
  },
  {
   "cell_type": "code",
   "execution_count": 12,
   "id": "6542744a-6323-4481-866b-0d2f21c7bb84",
   "metadata": {},
   "outputs": [
    {
     "data": {
      "text/html": [
       "\n",
       "        <iframe\n",
       "            width=\"100%\"\n",
       "            height=\"475\"\n",
       "            src=\"http://Jiaxis-MBP.attlocal.net:40000/dtale/iframe/1\"\n",
       "            frameborder=\"0\"\n",
       "            allowfullscreen\n",
       "        ></iframe>\n",
       "        "
      ],
      "text/plain": [
       "<IPython.lib.display.IFrame at 0x7fd99ac78588>"
      ]
     },
     "metadata": {},
     "output_type": "display_data"
    },
    {
     "data": {
      "text/plain": []
     },
     "execution_count": 12,
     "metadata": {},
     "output_type": "execute_result"
    }
   ],
   "source": [
    "dtale.show(df)"
   ]
  },
  {
   "cell_type": "code",
   "execution_count": 13,
   "id": "8507809d-0bb9-4402-8897-b8b3c865a72a",
   "metadata": {},
   "outputs": [
    {
     "data": {
      "text/plain": [
       "<AxesSubplot:xlabel='word_count', ylabel='Count'>"
      ]
     },
     "execution_count": 13,
     "metadata": {},
     "output_type": "execute_result"
    },
    {
     "data": {
      "image/png": "[encoded data removed]",
      "text/plain": [
       "<Figure size 864x432 with 1 Axes>"
      ]
     },
     "metadata": {
      "needs_background": "light"
     },
     "output_type": "display_data"
    }
   ],
   "source": [
    "plt.figure(figsize=(12, 6))\n",
    "sns.histplot(data=df, x=\"word_count\", binwidth=10, stat = \"count\")"
   ]
  },
  {
   "cell_type": "code",
   "execution_count": 14,
   "id": "cb9efdbe-68fb-491c-b3db-6ca87bc9248c",
   "metadata": {},
   "outputs": [
    {
     "data": {
      "text/plain": [
       "<AxesSubplot:xlabel='word_count', ylabel='Percent'>"
      ]
     },
     "execution_count": 14,
     "metadata": {},
     "output_type": "execute_result"
    },
    {
     "data": {
      "image/png": "[encoded data removed]",
      "text/plain": [
       "<Figure size 864x432 with 1 Axes>"
      ]
     },
     "metadata": {
      "needs_background": "light"
     },
     "output_type": "display_data"
    }
   ],
   "source": [
    "plt.figure(figsize=(12, 6))\n",
    "sns.histplot(data=df, x=\"word_count\", binwidth=10, stat = \"percent\")"
   ]
  },
  {
   "cell_type": "markdown",
   "id": "ed3e2c85-031b-4cdf-b82e-2336579de786",
   "metadata": {},
   "source": [
    "5) Based on the word count histogram, the 10-30 word count is the most common, which accounts for >50% of the data set. We reviewed the sentences with word count less than 10 and decided to remove it for the purpose of our project because these sentences are not good examples to help children learn about the specific word given it's too context specific. "
   ]
  },
  {
   "cell_type": "code",
   "execution_count": 15,
   "id": "9536332e-e491-4f53-8148-7f46587bbd68",
   "metadata": {},
   "outputs": [
    {
     "data": {
      "text/html": [
       "<div>\n",
       "<style scoped>\n",
       "    .dataframe tbody tr th:only-of-type {\n",
       "        vertical-align: middle;\n",
       "    }\n",
       "\n",
       "    .dataframe tbody tr th {\n",
       "        vertical-align: top;\n",
       "    }\n",
       "\n",
       "    .dataframe thead th {\n",
       "        text-align: right;\n",
       "    }\n",
       "</style>\n",
       "<table border=\"1\" class=\"dataframe\">\n",
       "  <thead>\n",
       "    <tr style=\"text-align: right;\">\n",
       "      <th></th>\n",
       "      <th>number</th>\n",
       "      <th>sentence</th>\n",
       "      <th>word_count</th>\n",
       "    </tr>\n",
       "  </thead>\n",
       "  <tbody>\n",
       "    <tr>\n",
       "      <th>2</th>\n",
       "      <td>3</td>\n",
       "      <td>`` Any soup , my dear ? ''</td>\n",
       "      <td>8</td>\n",
       "    </tr>\n",
       "    <tr>\n",
       "      <th>6</th>\n",
       "      <td>7</td>\n",
       "      <td>Do n't you like opening parcels ?</td>\n",
       "      <td>7</td>\n",
       "    </tr>\n",
       "    <tr>\n",
       "      <th>17</th>\n",
       "      <td>18</td>\n",
       "      <td>CHAPTER II .</td>\n",
       "      <td>3</td>\n",
       "    </tr>\n",
       "    <tr>\n",
       "      <th>19</th>\n",
       "      <td>20</td>\n",
       "      <td>Well , the little prince grew up .</td>\n",
       "      <td>8</td>\n",
       "    </tr>\n",
       "    <tr>\n",
       "      <th>32</th>\n",
       "      <td>12</td>\n",
       "      <td>Well , that was his name .</td>\n",
       "      <td>7</td>\n",
       "    </tr>\n",
       "    <tr>\n",
       "      <th>...</th>\n",
       "      <td>...</td>\n",
       "      <td>...</td>\n",
       "      <td>...</td>\n",
       "    </tr>\n",
       "    <tr>\n",
       "      <th>2282524</th>\n",
       "      <td>14</td>\n",
       "      <td>He received no reply .</td>\n",
       "      <td>5</td>\n",
       "    </tr>\n",
       "    <tr>\n",
       "      <th>2282526</th>\n",
       "      <td>16</td>\n",
       "      <td>Still there was no answer .</td>\n",
       "      <td>6</td>\n",
       "    </tr>\n",
       "    <tr>\n",
       "      <th>2282593</th>\n",
       "      <td>20</td>\n",
       "      <td>It was soon fearfully accounted for .</td>\n",
       "      <td>7</td>\n",
       "    </tr>\n",
       "    <tr>\n",
       "      <th>2283069</th>\n",
       "      <td>13</td>\n",
       "      <td>POSTSCRIPT .</td>\n",
       "      <td>2</td>\n",
       "    </tr>\n",
       "    <tr>\n",
       "      <th>2283070</th>\n",
       "      <td>14</td>\n",
       "      <td>FOUND IN THE HANDWRITING OF MR. KNICKERBOCKER .</td>\n",
       "      <td>8</td>\n",
       "    </tr>\n",
       "  </tbody>\n",
       "</table>\n",
       "<p>57243 rows × 3 columns</p>\n",
       "</div>"
      ],
      "text/plain": [
       "         number                                         sentence  word_count\n",
       "2             3                       `` Any soup , my dear ? ''           8\n",
       "6             7                Do n't you like opening parcels ?           7\n",
       "17           18                                     CHAPTER II .           3\n",
       "19           20               Well , the little prince grew up .           8\n",
       "32           12                       Well , that was his name .           7\n",
       "...         ...                                              ...         ...\n",
       "2282524      14                           He received no reply .           5\n",
       "2282526      16                      Still there was no answer .           6\n",
       "2282593      20            It was soon fearfully accounted for .           7\n",
       "2283069      13                                     POSTSCRIPT .           2\n",
       "2283070      14  FOUND IN THE HANDWRITING OF MR. KNICKERBOCKER .           8\n",
       "\n",
       "[57243 rows x 3 columns]"
      ]
     },
     "execution_count": 15,
     "metadata": {},
     "output_type": "execute_result"
    }
   ],
   "source": [
    "df[df[\"word_count\"]<10]"
   ]
  },
  {
   "cell_type": "markdown",
   "id": "42570abb-99c9-4f2d-af1c-40120221abd0",
   "metadata": {},
   "source": [
    "6) We also reviewed the sentences with word count greater than 30 and decided to remove it for the purpose of our project because these sentences are too long for children to learn about the specific word."
   ]
  },
  {
   "cell_type": "code",
   "execution_count": 16,
   "id": "ce8495a7-5949-4c7e-a318-7f0462945c8e",
   "metadata": {},
   "outputs": [
    {
     "data": {
      "text/html": [
       "<div>\n",
       "<style scoped>\n",
       "    .dataframe tbody tr th:only-of-type {\n",
       "        vertical-align: middle;\n",
       "    }\n",
       "\n",
       "    .dataframe tbody tr th {\n",
       "        vertical-align: top;\n",
       "    }\n",
       "\n",
       "    .dataframe thead th {\n",
       "        text-align: right;\n",
       "    }\n",
       "</style>\n",
       "<table border=\"1\" class=\"dataframe\">\n",
       "  <thead>\n",
       "    <tr style=\"text-align: right;\">\n",
       "      <th></th>\n",
       "      <th>number</th>\n",
       "      <th>sentence</th>\n",
       "      <th>word_count</th>\n",
       "    </tr>\n",
       "  </thead>\n",
       "  <tbody>\n",
       "    <tr>\n",
       "      <th>1</th>\n",
       "      <td>2</td>\n",
       "      <td>The end of it was that the king and queen had to sit down alone , one at each end of a very long table , arrayed with plates and glasses for a hundred guests -- for a hundred guests who never came !</td>\n",
       "      <td>44</td>\n",
       "    </tr>\n",
       "    <tr>\n",
       "      <th>10</th>\n",
       "      <td>11</td>\n",
       "      <td>So she talked across the fairies to the king , just as if they had not been there ; but the king behaved as politely as if they were real -- which , of course , they were .</td>\n",
       "      <td>39</td>\n",
       "    </tr>\n",
       "    <tr>\n",
       "      <th>12</th>\n",
       "      <td>13</td>\n",
       "      <td>One offered a purse which could never be empty ; and one a pair of seven-leagued boots ; and another a cap of darkness , that nobody might see the prince when he put it on ; and another a wishing-cap ; and another a carpet , on which , when he sat , he was carried wherever he wished to find himself .</td>\n",
       "      <td>64</td>\n",
       "    </tr>\n",
       "    <tr>\n",
       "      <th>13</th>\n",
       "      <td>14</td>\n",
       "      <td>Another made him beautiful for ever ; and another , brave ; and another , lucky : but the last fairy of all , a cross old thing , crept up and said , `` My child , you shall be too clever ! ''</td>\n",
       "      <td>45</td>\n",
       "    </tr>\n",
       "    <tr>\n",
       "      <th>15</th>\n",
       "      <td>16</td>\n",
       "      <td>But she took no notice at all ; and the fairies went each to her own country , and none of them stayed there at the palace , where nobody believed in them , except the king , a little .</td>\n",
       "      <td>41</td>\n",
       "    </tr>\n",
       "    <tr>\n",
       "      <th>...</th>\n",
       "      <td>...</td>\n",
       "      <td>...</td>\n",
       "      <td>...</td>\n",
       "    </tr>\n",
       "    <tr>\n",
       "      <th>2283076</th>\n",
       "      <td>20</td>\n",
       "      <td>When the mirth of the rest of the company had subsided , and silence was restored , he leaned one arm on the elbow of his chair , and sticking the other akimbo , demanded , with a slight , but exceedingly sage motion of the head , and contraction of the brow , what was the moral of the story , and what it went to prove ?</td>\n",
       "      <td>69</td>\n",
       "    </tr>\n",
       "    <tr>\n",
       "      <th>2283077</th>\n",
       "      <td>21</td>\n",
       "      <td>The story-teller , who was just putting a glass of wine to his lips , as a refreshment after his toils , paused for a moment , looked at his inquirer with an air of infinite deference , and , lowering the glass slowly to the table , observed that the story was intended most logically to prove -- `` That there is no situation in life but has its advantages and pleasures -- provided we will but ...</td>\n",
       "      <td>109</td>\n",
       "    </tr>\n",
       "    <tr>\n",
       "      <th>2283094</th>\n",
       "      <td>17</td>\n",
       "      <td>The story-teller , who was just putting a glass of wine to his lips , as a refreshment after his toils , paused for a moment , looked at his inquirer with an air of infinite deference , and , lowering the glass slowly to the table , observed that the story was intended most logically to prove -- `` That there is no situation in life but has its advantages and pleasures -- provided we will but ...</td>\n",
       "      <td>107</td>\n",
       "    </tr>\n",
       "    <tr>\n",
       "      <th>2283096</th>\n",
       "      <td>19</td>\n",
       "      <td>The cautious old gentleman knit his brows tenfold closer after this explanation , being sorely puzzled by the ratiocination of the syllogism , while , methought , the one in pepper-and-salt eyed him with something of a triumphant leer .</td>\n",
       "      <td>40</td>\n",
       "    </tr>\n",
       "    <tr>\n",
       "      <th>2283097</th>\n",
       "      <td>20</td>\n",
       "      <td>At length he observed that all this was very well , but still he thought the story a little on the extravagant -- there were one or two points on which he had his doubts .</td>\n",
       "      <td>36</td>\n",
       "    </tr>\n",
       "  </tbody>\n",
       "</table>\n",
       "<p>97532 rows × 3 columns</p>\n",
       "</div>"
      ],
      "text/plain": [
       "         number  \\\n",
       "1             2   \n",
       "10           11   \n",
       "12           13   \n",
       "13           14   \n",
       "15           16   \n",
       "...         ...   \n",
       "2283076      20   \n",
       "2283077      21   \n",
       "2283094      17   \n",
       "2283096      19   \n",
       "2283097      20   \n",
       "\n",
       "                                                                                                                                                                                                                                                                                                                                                                                                                sentence  \\\n",
       "1                                                                                                                                                                                                                 The end of it was that the king and queen had to sit down alone , one at each end of a very long table , arrayed with plates and glasses for a hundred guests -- for a hundred guests who never came !   \n",
       "10                                                                                                                                                                                                                                          So she talked across the fairies to the king , just as if they had not been there ; but the king behaved as politely as if they were real -- which , of course , they were .   \n",
       "12                                                                                                         One offered a purse which could never be empty ; and one a pair of seven-leagued boots ; and another a cap of darkness , that nobody might see the prince when he put it on ; and another a wishing-cap ; and another a carpet , on which , when he sat , he was carried wherever he wished to find himself .   \n",
       "13                                                                                                                                                                                                                      Another made him beautiful for ever ; and another , brave ; and another , lucky : but the last fairy of all , a cross old thing , crept up and said , `` My child , you shall be too clever ! ''   \n",
       "15                                                                                                                                                                                                                             But she took no notice at all ; and the fairies went each to her own country , and none of them stayed there at the palace , where nobody believed in them , except the king , a little .   \n",
       "...                                                                                                                                                                                                                                                                                                                                                                                                                  ...   \n",
       "2283076                                                                               When the mirth of the rest of the company had subsided , and silence was restored , he leaned one arm on the elbow of his chair , and sticking the other akimbo , demanded , with a slight , but exceedingly sage motion of the head , and contraction of the brow , what was the moral of the story , and what it went to prove ?   \n",
       "2283077  The story-teller , who was just putting a glass of wine to his lips , as a refreshment after his toils , paused for a moment , looked at his inquirer with an air of infinite deference , and , lowering the glass slowly to the table , observed that the story was intended most logically to prove -- `` That there is no situation in life but has its advantages and pleasures -- provided we will but ...   \n",
       "2283094  The story-teller , who was just putting a glass of wine to his lips , as a refreshment after his toils , paused for a moment , looked at his inquirer with an air of infinite deference , and , lowering the glass slowly to the table , observed that the story was intended most logically to prove -- `` That there is no situation in life but has its advantages and pleasures -- provided we will but ...   \n",
       "2283096                                                                                                                                                                     The cautious old gentleman knit his brows tenfold closer after this explanation , being sorely puzzled by the ratiocination of the syllogism , while , methought , the one in pepper-and-salt eyed him with something of a triumphant leer .   \n",
       "2283097                                                                                                                                                                                                                                      At length he observed that all this was very well , but still he thought the story a little on the extravagant -- there were one or two points on which he had his doubts .   \n",
       "\n",
       "         word_count  \n",
       "1                44  \n",
       "10               39  \n",
       "12               64  \n",
       "13               45  \n",
       "15               41  \n",
       "...             ...  \n",
       "2283076          69  \n",
       "2283077         109  \n",
       "2283094         107  \n",
       "2283096          40  \n",
       "2283097          36  \n",
       "\n",
       "[97532 rows x 3 columns]"
      ]
     },
     "execution_count": 16,
     "metadata": {},
     "output_type": "execute_result"
    }
   ],
   "source": [
    "df[df[\"word_count\"]>30]"
   ]
  },
  {
   "cell_type": "markdown",
   "id": "ff69fd95-f3f8-4d1e-82e7-c8e07b7d64f9",
   "metadata": {},
   "source": [
    "7) In summary, we will use the sentences with word count between 10 and 30 for our project."
   ]
  },
  {
   "cell_type": "code",
   "execution_count": 17,
   "id": "550a41e6-0c38-46c7-bd7c-de683136e875",
   "metadata": {},
   "outputs": [
    {
     "data": {
      "text/html": [
       "<div>\n",
       "<style scoped>\n",
       "    .dataframe tbody tr th:only-of-type {\n",
       "        vertical-align: middle;\n",
       "    }\n",
       "\n",
       "    .dataframe tbody tr th {\n",
       "        vertical-align: top;\n",
       "    }\n",
       "\n",
       "    .dataframe thead th {\n",
       "        text-align: right;\n",
       "    }\n",
       "</style>\n",
       "<table border=\"1\" class=\"dataframe\">\n",
       "  <thead>\n",
       "    <tr style=\"text-align: right;\">\n",
       "      <th></th>\n",
       "      <th>number</th>\n",
       "      <th>sentence</th>\n",
       "      <th>word_count</th>\n",
       "    </tr>\n",
       "  </thead>\n",
       "  <tbody>\n",
       "    <tr>\n",
       "      <th>0</th>\n",
       "      <td>1</td>\n",
       "      <td>Some were abroad ; several were ill ; a few were in prison among the Saracens ; others were captives in the dens of ogres .</td>\n",
       "      <td>26</td>\n",
       "    </tr>\n",
       "    <tr>\n",
       "      <th>3</th>\n",
       "      <td>4</td>\n",
       "      <td>shouted the king , through a speaking-trumpet ; when , suddenly , the air was filled with a sound like the rustling of the wings of birds .</td>\n",
       "      <td>28</td>\n",
       "    </tr>\n",
       "    <tr>\n",
       "      <th>4</th>\n",
       "      <td>5</td>\n",
       "      <td>Flitter , flitter , flutter , went the noise ; and when the queen looked up , lo and behold !</td>\n",
       "      <td>21</td>\n",
       "    </tr>\n",
       "    <tr>\n",
       "      <th>5</th>\n",
       "      <td>6</td>\n",
       "      <td>on every seat was a lovely fairy , dressed in green , each with a most interesting-looking parcel in her hand .</td>\n",
       "      <td>22</td>\n",
       "    </tr>\n",
       "    <tr>\n",
       "      <th>9</th>\n",
       "      <td>10</td>\n",
       "      <td>You see , she did not believe in fairies , nor in her own eyes , when she saw them .</td>\n",
       "      <td>21</td>\n",
       "    </tr>\n",
       "    <tr>\n",
       "      <th>...</th>\n",
       "      <td>...</td>\n",
       "      <td>...</td>\n",
       "      <td>...</td>\n",
       "    </tr>\n",
       "    <tr>\n",
       "      <th>2282909</th>\n",
       "      <td>21</td>\n",
       "      <td>Hans Van XXXXX as executor of his estate , examined the bundle which contained all his worldly effects .\\tRipper\\t\\tBones|Ripper|brimstone|cranium|crash|dinner-hour|fire|goblin|pommel|stirrups</td>\n",
       "      <td>21</td>\n",
       "    </tr>\n",
       "    <tr>\n",
       "      <th>2282950</th>\n",
       "      <td>20</td>\n",
       "      <td>Knots of gazers and gossips were collected in the churchyard , at the bridge , and at the spot where the hat and pumpkin had been found .</td>\n",
       "      <td>28</td>\n",
       "    </tr>\n",
       "    <tr>\n",
       "      <th>2283075</th>\n",
       "      <td>19</td>\n",
       "      <td>He was one of your wary men , who never laugh but upon good grounds -- when they have reason and law on their side .</td>\n",
       "      <td>26</td>\n",
       "    </tr>\n",
       "    <tr>\n",
       "      <th>2283095</th>\n",
       "      <td>18</td>\n",
       "      <td>`` Ergo , for a country schoolmaster to be refused the hand of a Dutch heiress is a certain step to high preferment in the state . ''</td>\n",
       "      <td>28</td>\n",
       "    </tr>\n",
       "    <tr>\n",
       "      <th>2283098</th>\n",
       "      <td>21</td>\n",
       "      <td>`` Faith , sir , '' replied the XXXXX , `` as to that matter , I do n't believe one-half of it myself . ''\\tstory-teller\\t\\tCrane|Hessian|Pound|York|approbation|burghers|evening|story-teller|syllogism|years</td>\n",
       "      <td>28</td>\n",
       "    </tr>\n",
       "  </tbody>\n",
       "</table>\n",
       "<p>80039 rows × 3 columns</p>\n",
       "</div>"
      ],
      "text/plain": [
       "         number  \\\n",
       "0             1   \n",
       "3             4   \n",
       "4             5   \n",
       "5             6   \n",
       "9            10   \n",
       "...         ...   \n",
       "2282909      21   \n",
       "2282950      20   \n",
       "2283075      19   \n",
       "2283095      18   \n",
       "2283098      21   \n",
       "\n",
       "                                                                                                                                                                                                               sentence  \\\n",
       "0                                                                                           Some were abroad ; several were ill ; a few were in prison among the Saracens ; others were captives in the dens of ogres .   \n",
       "3                                                                           shouted the king , through a speaking-trumpet ; when , suddenly , the air was filled with a sound like the rustling of the wings of birds .   \n",
       "4                                                                                                                         Flitter , flitter , flutter , went the noise ; and when the queen looked up , lo and behold !   \n",
       "5                                                                                                       on every seat was a lovely fairy , dressed in green , each with a most interesting-looking parcel in her hand .   \n",
       "9                                                                                                                                  You see , she did not believe in fairies , nor in her own eyes , when she saw them .   \n",
       "...                                                                                                                                                                                                                 ...   \n",
       "2282909                Hans Van XXXXX as executor of his estate , examined the bundle which contained all his worldly effects .\\tRipper\\t\\tBones|Ripper|brimstone|cranium|crash|dinner-hour|fire|goblin|pommel|stirrups   \n",
       "2282950                                                                       Knots of gazers and gossips were collected in the churchyard , at the bridge , and at the spot where the hat and pumpkin had been found .   \n",
       "2283075                                                                                            He was one of your wary men , who never laugh but upon good grounds -- when they have reason and law on their side .   \n",
       "2283095                                                                           `` Ergo , for a country schoolmaster to be refused the hand of a Dutch heiress is a certain step to high preferment in the state . ''   \n",
       "2283098  `` Faith , sir , '' replied the XXXXX , `` as to that matter , I do n't believe one-half of it myself . ''\\tstory-teller\\t\\tCrane|Hessian|Pound|York|approbation|burghers|evening|story-teller|syllogism|years   \n",
       "\n",
       "         word_count  \n",
       "0                26  \n",
       "3                28  \n",
       "4                21  \n",
       "5                22  \n",
       "9                21  \n",
       "...             ...  \n",
       "2282909          21  \n",
       "2282950          28  \n",
       "2283075          26  \n",
       "2283095          28  \n",
       "2283098          28  \n",
       "\n",
       "[80039 rows x 3 columns]"
      ]
     },
     "execution_count": 17,
     "metadata": {},
     "output_type": "execute_result"
    }
   ],
   "source": [
    "df[(df[\"word_count\"]>=20) & (df[\"word_count\"]<30)]"
   ]
  },
  {
   "cell_type": "markdown",
   "id": "a1eb19d8-2feb-4321-a08e-89ec08a9c621",
   "metadata": {},
   "source": [
    "# Data Cleansing\n",
    "Cleanse sentence data for index and ranking later.\n",
    "\n",
    "Based on the above data exploration, we will:\n",
    "1) Remove the 21st sentence.\n",
    "2) Filter for setence with word count between 10-30.\n",
    "3) Remove sentences with jpg files."
   ]
  },
  {
   "cell_type": "code",
   "execution_count": 18,
   "id": "68ad345c-2806-4817-8f2e-ac8bb1d319c8",
   "metadata": {},
   "outputs": [
    {
     "data": {
      "text/plain": [
       "244340"
      ]
     },
     "execution_count": 18,
     "metadata": {},
     "output_type": "execute_result"
    }
   ],
   "source": [
    "df = df[df[\"number\"]!=21]\n",
    "len(df)"
   ]
  },
  {
   "cell_type": "code",
   "execution_count": 19,
   "id": "4f0ed98d-60d7-46f0-820c-6f4cab159c4e",
   "metadata": {},
   "outputs": [
    {
     "data": {
      "text/plain": [
       "140612"
      ]
     },
     "execution_count": 19,
     "metadata": {},
     "output_type": "execute_result"
    }
   ],
   "source": [
    "df = df[(df[\"word_count\"]>=10) & (df[\"word_count\"]<=30)]\n",
    "len(df)"
   ]
  },
  {
   "cell_type": "code",
   "execution_count": 20,
   "id": "73595aae-98ec-4cf9-86c9-6d8631f6ac0b",
   "metadata": {},
   "outputs": [
    {
     "data": {
      "text/plain": [
       "140583"
      ]
     },
     "execution_count": 20,
     "metadata": {},
     "output_type": "execute_result"
    }
   ],
   "source": [
    "df = df[~df[\"sentence\"].str.contains('.jpg')]\n",
    "len(df)"
   ]
  },
  {
   "cell_type": "code",
   "execution_count": 21,
   "id": "82c1cb7f-7cd4-44cb-b434-72869a8e8e33",
   "metadata": {},
   "outputs": [],
   "source": [
    "#df = df.reset_index(drop=True)"
   ]
  },
  {
   "cell_type": "markdown",
   "id": "7126c787-2197-4f71-9af9-c99113a73e25",
   "metadata": {},
   "source": [
    "# Export Cleansed File"
   ]
  },
  {
   "cell_type": "code",
   "execution_count": 22,
   "id": "95537a8b-3141-489d-9be9-8a4c66b0cfee",
   "metadata": {},
   "outputs": [],
   "source": [
    "df.to_csv('data/cbtest_NE_train_cleaned.csv', index=False) "
   ]
  },
  {
   "cell_type": "code",
   "execution_count": 26,
   "id": "13cf4419-e9f9-4b46-b1a1-e21e9937a9bc",
   "metadata": {},
   "outputs": [],
   "source": [
    "df[\"sentence\"].to_csv('idx_data/idx_data.dat', index=False, header=False) "
   ]
  }
 ],
 "metadata": {
  "kernelspec": {
   "display_name": "Python 3",
   "language": "python",
   "name": "python3"
  },
  "language_info": {
   "codemirror_mode": {
    "name": "ipython",
    "version": 3
   },
   "file_extension": ".py",
   "mimetype": "text/x-python",
   "name": "python",
   "nbconvert_exporter": "python",
   "pygments_lexer": "ipython3",
   "version": "3.6.13"
  }
 },
 "nbformat": 4,
 "nbformat_minor": 5
}
