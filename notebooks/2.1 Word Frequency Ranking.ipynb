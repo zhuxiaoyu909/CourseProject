{
 "cells": [
  {
   "cell_type": "markdown",
   "id": "de82e830-10ff-47c0-8d6c-2fe922a46c3c",
   "metadata": {},
   "source": [
    "# Setup Environment"
   ]
  },
  {
   "cell_type": "code",
   "execution_count": 1,
   "id": "7902a0b2-855d-42e0-af31-4f8ff1d9b80e",
   "metadata": {},
   "outputs": [],
   "source": [
    "from working_dir import set_working_dir"
   ]
  },
  {
   "cell_type": "code",
   "execution_count": 2,
   "id": "73c474d2-481a-4457-b002-2ed62ad834bf",
   "metadata": {},
   "outputs": [
    {
     "name": "stdout",
     "output_type": "stream",
     "text": [
      "Current working directory: D:\\git\\CS410-Project\n"
     ]
    }
   ],
   "source": [
    "set_working_dir()"
   ]
  },
  {
   "cell_type": "code",
   "execution_count": 3,
   "id": "cffaf69f-70f5-4a4e-aaf7-faf5b898e6bd",
   "metadata": {},
   "outputs": [],
   "source": [
    "%load_ext autoreload\n",
    "%autoreload 2"
   ]
  },
  {
   "cell_type": "markdown",
   "id": "282abf94-3525-4713-80b2-3bb93480136b",
   "metadata": {},
   "source": [
    "# Import libraries"
   ]
  },
  {
   "cell_type": "code",
   "execution_count": 4,
   "id": "edf72d88-b3b8-458c-96ee-7dc4730af380",
   "metadata": {},
   "outputs": [],
   "source": [
    "import pandas as pd"
   ]
  },
  {
   "cell_type": "code",
   "execution_count": 5,
   "id": "030236e7-f938-4fd6-a052-4c3637f508bc",
   "metadata": {},
   "outputs": [],
   "source": [
    "file_path = \"data/wordFrequency.xlsx\""
   ]
  },
  {
   "cell_type": "code",
   "execution_count": 10,
   "id": "66df5c68-a847-4f8f-b956-438c5a07969c",
   "metadata": {},
   "outputs": [],
   "source": [
    "df = pd.read_excel(io=open(file_path, 'rb'), sheet_name='4 forms (219k)', engine=\"openpyxl\")"
   ]
  },
  {
   "cell_type": "code",
   "execution_count": 12,
   "id": "2761ca91-5cd0-4075-83c3-d269b586dcb4",
   "metadata": {},
   "outputs": [
    {
     "data": {
      "text/html": [
       "<div>\n",
       "<style scoped>\n",
       "    .dataframe tbody tr th:only-of-type {\n",
       "        vertical-align: middle;\n",
       "    }\n",
       "\n",
       "    .dataframe tbody tr th {\n",
       "        vertical-align: top;\n",
       "    }\n",
       "\n",
       "    .dataframe thead th {\n",
       "        text-align: right;\n",
       "    }\n",
       "</style>\n",
       "<table border=\"1\" class=\"dataframe\">\n",
       "  <thead>\n",
       "    <tr style=\"text-align: right;\">\n",
       "      <th></th>\n",
       "      <th>rank</th>\n",
       "      <th>word</th>\n",
       "      <th>freq</th>\n",
       "      <th>#texts</th>\n",
       "      <th>%caps</th>\n",
       "      <th>blog</th>\n",
       "      <th>web</th>\n",
       "      <th>TVM</th>\n",
       "      <th>spok</th>\n",
       "      <th>fic</th>\n",
       "      <th>...</th>\n",
       "      <th>news</th>\n",
       "      <th>acad</th>\n",
       "      <th>blogPM</th>\n",
       "      <th>webPM</th>\n",
       "      <th>TVMPM</th>\n",
       "      <th>spokPM</th>\n",
       "      <th>ficPM</th>\n",
       "      <th>magPM</th>\n",
       "      <th>newsPM</th>\n",
       "      <th>acadPM</th>\n",
       "    </tr>\n",
       "  </thead>\n",
       "  <tbody>\n",
       "    <tr>\n",
       "      <th>0</th>\n",
       "      <td>1</td>\n",
       "      <td>the</td>\n",
       "      <td>50074257</td>\n",
       "      <td>483041</td>\n",
       "      <td>0.11</td>\n",
       "      <td>6272412</td>\n",
       "      <td>7101104</td>\n",
       "      <td>3784652</td>\n",
       "      <td>5769026</td>\n",
       "      <td>6311500</td>\n",
       "      <td>...</td>\n",
       "      <td>6582642</td>\n",
       "      <td>7447070</td>\n",
       "      <td>50480.69</td>\n",
       "      <td>55212.83</td>\n",
       "      <td>29550.39</td>\n",
       "      <td>45736.71</td>\n",
       "      <td>53341.69</td>\n",
       "      <td>53975.61</td>\n",
       "      <td>54070.43</td>\n",
       "      <td>62167.47</td>\n",
       "    </tr>\n",
       "    <tr>\n",
       "      <th>1</th>\n",
       "      <td>2</td>\n",
       "      <td>to</td>\n",
       "      <td>25557793</td>\n",
       "      <td>478977</td>\n",
       "      <td>0.02</td>\n",
       "      <td>3579158</td>\n",
       "      <td>3590504</td>\n",
       "      <td>2911924</td>\n",
       "      <td>3427348</td>\n",
       "      <td>2871517</td>\n",
       "      <td>...</td>\n",
       "      <td>3013501</td>\n",
       "      <td>2978222</td>\n",
       "      <td>28805.25</td>\n",
       "      <td>27917.05</td>\n",
       "      <td>22736.17</td>\n",
       "      <td>27171.94</td>\n",
       "      <td>24268.65</td>\n",
       "      <td>25264.13</td>\n",
       "      <td>24753.18</td>\n",
       "      <td>24861.93</td>\n",
       "    </tr>\n",
       "    <tr>\n",
       "      <th>2</th>\n",
       "      <td>3</td>\n",
       "      <td>and</td>\n",
       "      <td>24821791</td>\n",
       "      <td>478727</td>\n",
       "      <td>0.09</td>\n",
       "      <td>3211226</td>\n",
       "      <td>3458960</td>\n",
       "      <td>1828166</td>\n",
       "      <td>3325442</td>\n",
       "      <td>3064047</td>\n",
       "      <td>...</td>\n",
       "      <td>2995111</td>\n",
       "      <td>3633119</td>\n",
       "      <td>25844.11</td>\n",
       "      <td>26894.26</td>\n",
       "      <td>14274.24</td>\n",
       "      <td>26364.03</td>\n",
       "      <td>25895.82</td>\n",
       "      <td>26215.95</td>\n",
       "      <td>24602.12</td>\n",
       "      <td>30328.95</td>\n",
       "    </tr>\n",
       "    <tr>\n",
       "      <th>3</th>\n",
       "      <td>4</td>\n",
       "      <td>of</td>\n",
       "      <td>23605964</td>\n",
       "      <td>478144</td>\n",
       "      <td>0.01</td>\n",
       "      <td>2952017</td>\n",
       "      <td>3462140</td>\n",
       "      <td>1486604</td>\n",
       "      <td>2678416</td>\n",
       "      <td>2330823</td>\n",
       "      <td>...</td>\n",
       "      <td>2893200</td>\n",
       "      <td>4517563</td>\n",
       "      <td>23757.98</td>\n",
       "      <td>26918.99</td>\n",
       "      <td>11607.33</td>\n",
       "      <td>21234.42</td>\n",
       "      <td>19698.97</td>\n",
       "      <td>26054.07</td>\n",
       "      <td>23765.01</td>\n",
       "      <td>37712.21</td>\n",
       "    </tr>\n",
       "    <tr>\n",
       "      <th>4</th>\n",
       "      <td>5</td>\n",
       "      <td>a</td>\n",
       "      <td>21889251</td>\n",
       "      <td>477421</td>\n",
       "      <td>0.05</td>\n",
       "      <td>2783458</td>\n",
       "      <td>2827106</td>\n",
       "      <td>2519099</td>\n",
       "      <td>2716641</td>\n",
       "      <td>2749208</td>\n",
       "      <td>...</td>\n",
       "      <td>2959649</td>\n",
       "      <td>2229222</td>\n",
       "      <td>22401.41</td>\n",
       "      <td>21981.44</td>\n",
       "      <td>19669.01</td>\n",
       "      <td>21537.47</td>\n",
       "      <td>23234.95</td>\n",
       "      <td>24619.48</td>\n",
       "      <td>24310.83</td>\n",
       "      <td>18609.35</td>\n",
       "    </tr>\n",
       "  </tbody>\n",
       "</table>\n",
       "<p>5 rows × 21 columns</p>\n",
       "</div>"
      ],
      "text/plain": [
       "   rank word      freq  #texts  %caps     blog      web      TVM     spok  \\\n",
       "0     1  the  50074257  483041   0.11  6272412  7101104  3784652  5769026   \n",
       "1     2   to  25557793  478977   0.02  3579158  3590504  2911924  3427348   \n",
       "2     3  and  24821791  478727   0.09  3211226  3458960  1828166  3325442   \n",
       "3     4   of  23605964  478144   0.01  2952017  3462140  1486604  2678416   \n",
       "4     5    a  21889251  477421   0.05  2783458  2827106  2519099  2716641   \n",
       "\n",
       "       fic  ...     news     acad    blogPM     webPM     TVMPM    spokPM  \\\n",
       "0  6311500  ...  6582642  7447070  50480.69  55212.83  29550.39  45736.71   \n",
       "1  2871517  ...  3013501  2978222  28805.25  27917.05  22736.17  27171.94   \n",
       "2  3064047  ...  2995111  3633119  25844.11  26894.26  14274.24  26364.03   \n",
       "3  2330823  ...  2893200  4517563  23757.98  26918.99  11607.33  21234.42   \n",
       "4  2749208  ...  2959649  2229222  22401.41  21981.44  19669.01  21537.47   \n",
       "\n",
       "      ficPM     magPM    newsPM    acadPM  \n",
       "0  53341.69  53975.61  54070.43  62167.47  \n",
       "1  24268.65  25264.13  24753.18  24861.93  \n",
       "2  25895.82  26215.95  24602.12  30328.95  \n",
       "3  19698.97  26054.07  23765.01  37712.21  \n",
       "4  23234.95  24619.48  24310.83  18609.35  \n",
       "\n",
       "[5 rows x 21 columns]"
      ]
     },
     "execution_count": 12,
     "metadata": {},
     "output_type": "execute_result"
    }
   ],
   "source": [
    "df.head()"
   ]
  },
  {
   "cell_type": "code",
   "execution_count": 14,
   "id": "063ce977-a961-4661-b7c3-f84d087944d0",
   "metadata": {},
   "outputs": [
    {
     "data": {
      "text/plain": [
       "Index(['rank', 'word', 'freq', '#texts', '%caps', 'blog', 'web', 'TVM', 'spok',\n",
       "       'fic', 'mag', 'news', 'acad', 'blogPM', 'webPM', 'TVMPM', 'spokPM',\n",
       "       'ficPM', 'magPM', 'newsPM', 'acadPM'],\n",
       "      dtype='object')"
      ]
     },
     "execution_count": 14,
     "metadata": {},
     "output_type": "execute_result"
    }
   ],
   "source": [
    "df.columns"
   ]
  }
 ],
 "metadata": {
  "kernelspec": {
   "display_name": "Python 3",
   "language": "python",
   "name": "python3"
  },
  "language_info": {
   "codemirror_mode": {
    "name": "ipython",
    "version": 3
   },
   "file_extension": ".py",
   "mimetype": "text/x-python",
   "name": "python",
   "nbconvert_exporter": "python",
   "pygments_lexer": "ipython3",
   "version": "3.6.13"
  }
 },
 "nbformat": 4,
 "nbformat_minor": 5
}
