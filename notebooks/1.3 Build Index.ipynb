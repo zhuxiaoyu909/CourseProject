{
 "cells": [
  {
   "cell_type": "markdown",
   "id": "6f23510d-5859-4f46-89e0-5600876c0cd7",
   "metadata": {},
   "source": [
    "# Setup Environment"
   ]
  },
  {
   "cell_type": "code",
   "execution_count": 1,
   "id": "2266cdf6-c1af-4523-bddd-cc61966e9b94",
   "metadata": {},
   "outputs": [],
   "source": [
    "from working_dir import set_working_dir"
   ]
  },
  {
   "cell_type": "code",
   "execution_count": 2,
   "id": "3472ebd6-7237-4d2d-baef-43d93ff35cd7",
   "metadata": {},
   "outputs": [
    {
     "name": "stdout",
     "output_type": "stream",
     "text": [
      "Current working directory: D:\\git\\CS410-Project\n"
     ]
    }
   ],
   "source": [
    "set_working_dir()"
   ]
  },
  {
   "cell_type": "code",
   "execution_count": 3,
   "id": "dd3fc5ff-2f48-47d5-a93c-62c498bd97b8",
   "metadata": {},
   "outputs": [],
   "source": [
    "%load_ext autoreload\n",
    "%autoreload 2"
   ]
  },
  {
   "cell_type": "markdown",
   "id": "f6d08cfa-5084-4b8d-858b-d230fb8c71c3",
   "metadata": {},
   "source": [
    "# Import Libraries"
   ]
  },
  {
   "cell_type": "code",
   "execution_count": 4,
   "id": "e853011f-7c99-462d-b841-85210f658411",
   "metadata": {},
   "outputs": [],
   "source": [
    "import metapy"
   ]
  },
  {
   "cell_type": "markdown",
   "id": "02f15a4c-7bbd-4968-93d1-275a408ecee4",
   "metadata": {},
   "source": [
    "# Build Index"
   ]
  },
  {
   "cell_type": "code",
   "execution_count": 5,
   "id": "65ce6ab9-251e-4ac4-b7a1-6eff11e03f0f",
   "metadata": {},
   "outputs": [],
   "source": [
    "idx = metapy.index.make_inverted_index('config.toml')"
   ]
  },
  {
   "cell_type": "code",
   "execution_count": 10,
   "id": "f6d385e5-7451-48b5-9c6b-6fb74bb8576f",
   "metadata": {},
   "outputs": [
    {
     "name": "stdout",
     "output_type": "stream",
     "text": [
      "# Sentence: 140584,  Avg length: 24.611164093017578\n"
     ]
    }
   ],
   "source": [
    "print(f\"# Sentence: {idx.num_docs()},  Avg length: {idx.avg_doc_length()}\")"
   ]
  },
  {
   "cell_type": "code",
   "execution_count": 11,
   "id": "0930e742-3a9a-4b3d-b10b-8c1db798bdf6",
   "metadata": {},
   "outputs": [],
   "source": [
    "query = metapy.index.Document() # Define query\n",
    "query.content('washed') # search word \"washed\""
   ]
  },
  {
   "cell_type": "code",
   "execution_count": 12,
   "id": "1a53e786-0dc4-4fab-b24d-e04322e6d14e",
   "metadata": {},
   "outputs": [
    {
     "data": {
      "text/plain": [
       "['AbsoluteDiscount',\n",
       " 'DirichletPrior',\n",
       " 'DiskIndex',\n",
       " 'Document',\n",
       " 'ForwardIndex',\n",
       " 'IREval',\n",
       " 'InvertedIndex',\n",
       " 'JelinekMercer',\n",
       " 'KLDivergencePRF',\n",
       " 'LanguageModelRanker',\n",
       " 'Metadata',\n",
       " 'OkapiBM25',\n",
       " 'PivotedLength',\n",
       " 'Ranker',\n",
       " 'RankingFunction',\n",
       " 'Rocchio',\n",
       " 'ScoreData',\n",
       " 'make_forward_index',\n",
       " 'make_inverted_index']"
      ]
     },
     "execution_count": 12,
     "metadata": {},
     "output_type": "execute_result"
    }
   ],
   "source": [
    "# Check the ranking method in the object\n",
    "object_methods = [method_name for method_name in dir(metapy.index)\n",
    "                  if callable(getattr(metapy.index, method_name))]\n",
    "\n",
    "object_methods"
   ]
  },
  {
   "cell_type": "code",
   "execution_count": 19,
   "id": "633591d8-df5f-496d-b1bb-5718fb875118",
   "metadata": {},
   "outputs": [],
   "source": [
    "# Define ranker\n",
    "ranker = metapy.index.AbsoluteDiscount()"
   ]
  },
  {
   "cell_type": "code",
   "execution_count": 20,
   "id": "dc47be71-20f2-4432-84e1-62ef95f5964d",
   "metadata": {},
   "outputs": [
    {
     "data": {
      "text/plain": [
       "[(22, 2.2706615924835205), (32, 1.5707926750183105)]"
      ]
     },
     "execution_count": 20,
     "metadata": {},
     "output_type": "execute_result"
    }
   ],
   "source": [
    "# Show top 2 docs containing word 'washed'\n",
    "top_docs = ranker.score(idx, query, num_results=2)\n",
    "top_docs"
   ]
  },
  {
   "cell_type": "code",
   "execution_count": 21,
   "id": "0f867e79-77c9-4be7-b63c-d854b74ece39",
   "metadata": {},
   "outputs": [
    {
     "name": "stdout",
     "output_type": "stream",
     "text": [
      "1. He argued that he did not like to be washed , because the soap got into his eyes ....\n",
      "\n",
      "2. However , when he was told all about the pores of the skin , and how they could not be healthy if he was not washed , he at once ceased to resist , for he was very reasonable ....\n",
      "\n"
     ]
    }
   ],
   "source": [
    "# Show full sentence\n",
    "for num, (d_id, _) in enumerate(top_docs):\n",
    "    content = idx.metadata(d_id).get('content')\n",
    "    print(\"{}. {}...\\n\".format(num + 1, content))"
   ]
  }
 ],
 "metadata": {
  "kernelspec": {
   "display_name": "Python 3",
   "language": "python",
   "name": "python3"
  },
  "language_info": {
   "codemirror_mode": {
    "name": "ipython",
    "version": 3
   },
   "file_extension": ".py",
   "mimetype": "text/x-python",
   "name": "python",
   "nbconvert_exporter": "python",
   "pygments_lexer": "ipython3",
   "version": "3.6.13"
  }
 },
 "nbformat": 4,
 "nbformat_minor": 5
}
