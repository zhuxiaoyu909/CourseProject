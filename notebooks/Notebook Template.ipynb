{
 "cells": [
  {
   "cell_type": "markdown",
   "id": "1b5abd4b-7820-4037-81cd-494af263bcef",
   "metadata": {},
   "source": [
    "# Setup Environment"
   ]
  },
  {
   "cell_type": "code",
   "execution_count": 1,
   "id": "c0c1e5a9-9054-4110-b926-2de9059c2de7",
   "metadata": {},
   "outputs": [],
   "source": [
    "from working_dir import set_working_dir"
   ]
  },
  {
   "cell_type": "code",
   "execution_count": 2,
   "id": "1730cd4c-cdd1-48f6-aa4c-0e5039ae82fb",
   "metadata": {},
   "outputs": [
    {
     "name": "stdout",
     "output_type": "stream",
     "text": [
      "Current working directory: D:\\git\\CS410-Project\n"
     ]
    }
   ],
   "source": [
    "set_working_dir()"
   ]
  },
  {
   "cell_type": "code",
   "execution_count": 3,
   "id": "6cbcbad6-ce0c-480d-9e4a-54cf2dee6ac7",
   "metadata": {},
   "outputs": [],
   "source": [
    "%load_ext autoreload\n",
    "%autoreload 2"
   ]
  },
  {
   "cell_type": "markdown",
   "id": "42bf7762-6f09-4ad7-b447-dc760c26b58a",
   "metadata": {},
   "source": [
    "# Import Libraries"
   ]
  },
  {
   "cell_type": "code",
   "execution_count": 4,
   "id": "64130b17-135f-4a5e-8d1f-8a0238d3ba89",
   "metadata": {},
   "outputs": [],
   "source": [
    "import pandas as pd"
   ]
  },
  {
   "cell_type": "code",
   "execution_count": 5,
   "id": "89ff6220-db65-40cc-881f-3ee77cefa22d",
   "metadata": {},
   "outputs": [],
   "source": [
    "%matplotlib inline"
   ]
  },
  {
   "cell_type": "code",
   "execution_count": 6,
   "id": "d5277d45-45e9-4951-a2d5-ea79674ff6b1",
   "metadata": {},
   "outputs": [],
   "source": [
    "pd.set_option('max_colwidth', 400)"
   ]
  }
 ],
 "metadata": {
  "kernelspec": {
   "display_name": "Python 3",
   "language": "python",
   "name": "python3"
  },
  "language_info": {
   "codemirror_mode": {
    "name": "ipython",
    "version": 3
   },
   "file_extension": ".py",
   "mimetype": "text/x-python",
   "name": "python",
   "nbconvert_exporter": "python",
   "pygments_lexer": "ipython3",
   "version": "3.6.13"
  }
 },
 "nbformat": 4,
 "nbformat_minor": 5
}
